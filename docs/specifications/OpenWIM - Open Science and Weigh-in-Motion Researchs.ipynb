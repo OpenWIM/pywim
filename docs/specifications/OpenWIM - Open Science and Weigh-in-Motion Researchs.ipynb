{
 "cells": [
  {
   "cell_type": "markdown",
   "metadata": {},
   "source": [
    "<!--bibtex\n",
    "@article{albagli2015open,\n",
    "  title={Open Science, open issues},\n",
    "  author={Albagli, Sarita and Maciel, Maria Lucia and Abdo, Alexandre Hannud},\n",
    "  year={2015},\n",
    "  publisher={IBICT}\n",
    "}\n",
    "-->"
   ]
  },
  {
   "cell_type": "markdown",
   "metadata": {},
   "source": [
    "# Table of Contents\n",
    "* [1. OpenWIM - Open Science and Weigh-in-Motion Researchs](#1.-OpenWIM---Open-Science-and-Weigh-in-Motion-Researchs)\n"
   ]
  },
  {
   "cell_type": "markdown",
   "metadata": {},
   "source": [
    "# 1. OpenWIM - Open Science and Weigh-in-Motion Research"
   ]
  },
  {
   "cell_type": "markdown",
   "metadata": {},
   "source": [
    "Overweight heavy vehicles represent a big problem related to accidents and pavement damage. The weight enforcement is very important to inhibit the overweight of of these vehicles. One method that has being investigated in many parts of the world is the weighing-in-motion, that has advantages in physical and economic space operation, since their sensors can be installed on the road itself, it can weigh passing vehicles on the road without to slow down, not applying delays in the road users journey.\n",
    "\n",
    "At universities, a variety of knowledge is developed every day, and not just their results are important to the society but also the mechanisms used such as algorithms and data that can help to provide more relevant information to their readers. The availability of these complete information makes possible to other researchers to reproduce such experiments helping more comprehension about that and also to continuing improvement of such technology.\n",
    "\n",
    "In  engineering transportation area, about the weigh-in-motion, although there are many materials publicly available (there are also many works of restricted access), but it has not seen much research with sources and data published for free access and the explanations to reproduce their results. In this context, the Open Science concept can help to improve the WIM research through collaborative efforts and reproducible methods using algorithms and data with free public access;\n",
    "\n",
    "With this concern, the OpenWIM project was born as a Open Science initiative to provide a WIM research repository with initial structure, based on the main information available in the literature and so on it can be converted in a framework for researchers to develop and test new methods and technologies."
   ]
  },
  {
   "cell_type": "markdown",
   "metadata": {},
   "source": [
    "# References\n",
    "\n",
    "<a name=\"cite-albagli2015open\"/><sup>[^](#ref-1) </sup>Albagli, Sarita and Maciel, Maria Lucia and Abdo, Alexandre Hannud. 2015. _Open Science, open issues_.\n",
    "\n"
   ]
  }
 ],
 "metadata": {
  "kernelspec": {
   "display_name": "Python 3",
   "language": "python",
   "name": "python3"
  },
  "language_info": {
   "codemirror_mode": {
    "name": "ipython",
    "version": 3
   },
   "file_extension": ".py",
   "mimetype": "text/x-python",
   "name": "python",
   "nbconvert_exporter": "python",
   "pygments_lexer": "ipython3",
   "version": "3.5.0"
  }
 },
 "nbformat": 4,
 "nbformat_minor": 0
}
