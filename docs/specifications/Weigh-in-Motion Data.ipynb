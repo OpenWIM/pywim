{
 "cells": [
  {
   "cell_type": "markdown",
   "metadata": {},
   "source": [
    "<!--bibtex\n",
    "\n",
    "@article{enright2011cleaning,\n",
    "  title={Cleaning weigh-in-motion data: Techniques and recommendations},\n",
    "  author={Enright, Bernard and OBrien, Eugene J},\n",
    "  journal={Dublin Institute of Technology, University College Dublin},\n",
    "  year={2011}\n",
    "}\n",
    "\n",
    "@TechReport{tech:cost-323,\n",
    "  Title                    = {Weigh-in-Motion of Road Vehicles: Final Report of the COST 323 Action},\n",
    "  Author                   = {Jacob, Bernard and OBrien, EJ and Jehaes, S},\n",
    "  Year                     = {2002},\n",
    "\n",
    "  Journal                  = {Laboratoire Central des Ponts et Chauss{\\'e}es Publications, Paris}\n",
    "}\n",
    "-->\n",
    "<!--\n",
    "i.e.:\n",
    "<a name=\"ref-1\"/>[(UNDEFINED)](#cite-PER-GRA:2007) or <a name=\"ref-2\"/>[(UNDEFINED)](#cite-Papa2007)\n",
    "-->\n",
    "<!--\n",
    "%%javascript\n",
    "Jupyter.notebook.config.update({\n",
    "    \"load_extensions\":{\"calico-document-tools\":true}\n",
    "})\n",
    "-->"
   ]
  },
  {
   "cell_type": "markdown",
   "metadata": {},
   "source": [
    "# Table of Contents\n",
    "* [1. Weigh-in-Motion Data](#1.-Weigh-in-Motion-Data)\n",
    "\t* [1.1 General Recommendations](#1.1-General-Recommendations)\n",
    "\t* [1.2 Weigh-in-Motion Data Structure](#1.2-Weigh-in-Motion-Data-Structure)\n",
    "\t* [1.3 Data cleaning](#1.3-Data-cleaning)\n",
    "\t* [1.4 Conclusions](#1.4-Conclusions)\n"
   ]
  },
  {
   "cell_type": "markdown",
   "metadata": {},
   "source": [
    "# 1. Weigh-in-Motion Data"
   ]
  },
  {
   "cell_type": "markdown",
   "metadata": {
    "collapsed": false
   },
   "source": [
    "The Weigh-in-Motion (WIM) Systems can collect data from different kind of devices, like Automatic License Plate Recognition (ALPR), weigh sensors (piezoelectric quartz, piezoelectric ceramic, piezoelectric polymer, etc), temperature sensors, etc. Additionally, the WIM Systems produce can produce a variety kind of data, like weigh data, classification data, violation information, some analytic reports, etc.\n",
    "\n",
    "In this notebook, it will be treat some data structures and some methods to apply to these data. \n",
    "\n",
    "In the final report of COST 323 <a name=\"ref-3\"/>[(Jacob, OBrien and Jehaes, 2002)](#cite-tech:cost-323), in the Section 12 and Appendix IV, some aspects about data storage, processing, transmission and stadard format were used to support this study.\n",
    "\n",
    "In this notebook, will be presentated some recommendations about the data and specifications used to cleaning the data in future analysis <a name=\"ref-4\"/>[(Enright and OBrien, 2011)](#cite-enright2011cleaning).\n",
    "\n",
    "Basically, the first main input data is the raw data sensors. These data can be acquired using a device acquisition (DAQ) through analog channels (weigh sensor, temperature sensors, etc) and digital channels (i.e., inductive loops). In COST 323 <a name=\"ref-5\"/>[(Jacob, OBrien and Jehaes, 2002)](#cite-tech:cost-323), was not found any description about the raw data layout. So, this data can be represented by a matrix using a index column with date time instant (or a instant represented by microseconds) and the other columns representing each sensor data.\n",
    "\n",
    "The general recommendations is treated in section 1.1, covering the general aspects of data and file formats.\n",
    "\n",
    "The output data standard layout from WIM systems, tipically has some attributes, treated on the section 1.2.\n",
    "\n",
    "The section 1.3 has some recommendations to cleaning outpu data.\n",
    "\n",
    "And, finally, the section 1.4 has the conclusion of this study."
   ]
  },
  {
   "cell_type": "markdown",
   "metadata": {},
   "source": [
    "## 1.1 General Recommendations"
   ]
  },
  {
   "cell_type": "markdown",
   "metadata": {},
   "source": [
    "To avoid any confusion while reading the output data files or using these data, it is important to consider some recommendations about the data and files, add some information to improve the completeness of the output data and apply some organization to this output <a name=\"ref-6\"/>[(Jacob, OBrien and Jehaes, 2002)](#cite-tech:cost-323). \n",
    "\n",
    "Recommendations about the data:\n",
    "\n",
    "* the time should registered in hh:mm:ss:cc, up to hundreds of second;\n",
    "* temperature must be in $^{\\circ}$C;\n",
    "* velocity must be in km/h;\n",
    "* all the weights and loads are given in kg, but with a scale division of 100 kg according to the sensitivity and accuracy of the system.\n",
    "\n",
    "The division scales should be, according to the accuracy classes <a name=\"ref-7\"/>[(Jacob, OBrien and Jehaes, 2002)](#cite-tech:cost-323):\n",
    "\n",
    "* Class A: 20 kg;\n",
    "* Class B+: 50 kg;\n",
    "* Class B: 100 kg;\n",
    "* Class C: 200 kg;\n",
    "* Class D+(20): 200 to 500 kg;\n",
    "* Class D: 500 kg.\n",
    "\n",
    "Recommendations about the file structure:\n",
    "\n",
    "* use explicit heading columns;\n",
    "* use units, and, as far as possible, S.I. (System International) must be used;\n",
    "* use a data file in a spreadsheet widly distributed format or a tabulated ASCII format, like CSV;\n",
    "\n",
    "Some information should be present in the output data file to be more completed and offer some detail to future analysis:\n",
    "\n",
    "* environmental conditions during the measurement, like weather, traffic, etc;\n",
    "* calibration coefficient periodically computed by the system, in case of an automatic self-calibration;\n",
    "* reports about any eventual breakdown, failure or maintenace operation of WIM system.\n",
    "\n",
    "The data package should have some identification information about the WIM site:\n",
    "\n",
    "* road identification;\n",
    "* accurate location of the WIM system,\n",
    "* type of sensor and of electronics used;\n",
    "* date of manufacture and of installation of the WIM system;\n",
    "* date of the last calibration;\n",
    "* period of measurement;\n",
    "* owner of the WIM system and contact person in charge of the data collection.\n",
    "\n",
    "To apply some organization to the output data, the first columns should be data common to all vehicle and, the last ones, should be columns when can have variation in the number of axles per vehicle (like axles load, distance between axles, etc)."
   ]
  },
  {
   "cell_type": "markdown",
   "metadata": {},
   "source": [
    "## 1.2 Weigh-in-Motion Data Structure"
   ]
  },
  {
   "cell_type": "markdown",
   "metadata": {},
   "source": [
    "The WIM data recorded per vehicle are typically <a name=\"ref-8\"/>[(Enright and OBrien, 2011)](#cite-enright2011cleaning):\n",
    "\n",
    "* vehicle number (unique identifier);\n",
    "* date;\n",
    "* time (when leading axle passes sensor);\n",
    "* speed;\n",
    "* lane;\n",
    "* category (type of truck);\n",
    "* total vehicle length (measured by inductive loop detectors);\n",
    "* gross vehicle weight (GVW);\n",
    "* individual Axle loads, the sum of which is the GVW;\n",
    "* wheelbase;\n",
    "* axle spacings, the sum of which is the wheelbase.\n"
   ]
  },
  {
   "cell_type": "markdown",
   "metadata": {},
   "source": [
    "## 1.3 Data cleaning"
   ]
  },
  {
   "cell_type": "code",
   "execution_count": null,
   "metadata": {
    "collapsed": true
   },
   "outputs": [],
   "source": []
  },
  {
   "cell_type": "markdown",
   "metadata": {},
   "source": [
    "## 1.4 Conclusions"
   ]
  },
  {
   "cell_type": "code",
   "execution_count": null,
   "metadata": {
    "collapsed": true
   },
   "outputs": [],
   "source": []
  },
  {
   "cell_type": "markdown",
   "metadata": {},
   "source": [
    "<!--\n",
    "links:\n",
    "www.is-wim.org/doc/wim_data_cleaning_ie.pdf\n",
    "\n",
    "-->"
   ]
  },
  {
   "cell_type": "markdown",
   "metadata": {},
   "source": [
    "# References\n",
    "\n",
    "<a name=\"cite-tech:cost-323\"/><sup>[^](#ref-3) [^](#ref-5) [^](#ref-6) [^](#ref-7) </sup>Jacob, Bernard and OBrien, EJ and Jehaes, S. 2002. _Weigh-in-Motion of Road Vehicles: Final Report of the COST 323 Action_.\n",
    "\n",
    "<a name=\"cite-enright2011cleaning\"/><sup>[^](#ref-4) [^](#ref-8) </sup>Enright, Bernard and OBrien, Eugene J. 2011. _Cleaning weigh-in-motion data: Techniques and recommendations_.\n",
    "\n"
   ]
  }
 ],
 "metadata": {
  "kernelspec": {
   "display_name": "Python 3",
   "language": "python",
   "name": "python3"
  },
  "language_info": {
   "codemirror_mode": {
    "name": "ipython",
    "version": 3
   },
   "file_extension": ".py",
   "mimetype": "text/x-python",
   "name": "python",
   "nbconvert_exporter": "python",
   "pygments_lexer": "ipython3",
   "version": "3.5.0"
  }
 },
 "nbformat": 4,
 "nbformat_minor": 0
}
