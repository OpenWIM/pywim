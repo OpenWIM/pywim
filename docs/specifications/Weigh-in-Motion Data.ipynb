{
 "cells": [
  {
   "cell_type": "markdown",
   "metadata": {},
   "source": [
    "# Table of Contents\n",
    "* [1. Weigh-in-Motion Data](#1.-Weigh-in-Motion-Data)\n",
    "\t* [1.1 Weigh-in-Motion Data Structure](#1.1-Weigh-in-Motion-Data-Structure)\n",
    "\t* [1.2 Initial data cleaning](#1.2-Initial-data-cleaning)\n"
   ]
  },
  {
   "cell_type": "markdown",
   "metadata": {},
   "source": [
    "# 1. Weigh-in-Motion Data"
   ]
  },
  {
   "cell_type": "code",
   "execution_count": 5,
   "metadata": {
    "collapsed": false
   },
   "outputs": [
    {
     "data": {
      "application/javascript": [
       "Jupyter.notebook.config.update({\"load_extensions\":{\"calico-document-tools\":true}})"
      ],
      "text/plain": [
       "<IPython.core.display.Javascript object>"
      ]
     },
     "metadata": {},
     "output_type": "display_data"
    }
   ],
   "source": []
  },
  {
   "cell_type": "markdown",
   "metadata": {},
   "source": [
    "<!--bibtex\n",
    "\n",
    "@article{enright2011cleaning,\n",
    "  title={Cleaning weigh-in-motion data: Techniques and recommendations},\n",
    "  author={Enright, Bernard and OBrien, Eugene J},\n",
    "  journal={Dublin Institute of Technology, University College Dublin},\n",
    "  year={2011}\n",
    "}\n",
    "-->\n",
    "<!--\n",
    "i.e.:\n",
    "<a name=\"ref-1\"/>[(UNDEFINED)](#cite-PER-GRA:2007) or <a name=\"ref-2\"/>[(UNDEFINED)](#cite-Papa2007)\n",
    "-->\n",
    "<!--\n",
    "%%javascript\n",
    "Jupyter.notebook.config.update({\n",
    "    \"load_extensions\":{\"calico-document-tools\":true}\n",
    "})\n",
    "-->"
   ]
  },
  {
   "cell_type": "markdown",
   "metadata": {},
   "source": [
    "## 1.1 Weigh-in-Motion Data Structure"
   ]
  },
  {
   "cell_type": "markdown",
   "metadata": {},
   "source": [
    "In the literature <a name=\"ref-3\"/>[(Enright and OBrien, 2011)](#cite-enright2011cleaning), it is seen some recommendations about weigh-in-motion data. According this document, the WIM data recorded per vehicle are typically:\n",
    "\n",
    "* Vehicle number (unique identifier)\n",
    "* Date\n",
    "* Time when leading axle passes sensor.\n",
    "* Speed\n",
    "* Lane\n",
    "* Category (type of truck)\n",
    "* Total vehicle length (measured by inductive loop detectors)\n",
    "* Gross vehicle weight (GVW)\n",
    "* Individual Axle loads, the sum of which is the GVW.\n",
    "* Wheelbase\n",
    "* Axle spacings, the sum of which is the wheelbase \n",
    "\n"
   ]
  },
  {
   "cell_type": "markdown",
   "metadata": {},
   "source": [
    "## 1.2 Initial data cleaning"
   ]
  },
  {
   "cell_type": "code",
   "execution_count": null,
   "metadata": {
    "collapsed": true
   },
   "outputs": [],
   "source": []
  },
  {
   "cell_type": "markdown",
   "metadata": {},
   "source": [
    "<!--\n",
    "links:\n",
    "www.is-wim.org/doc/wim_data_cleaning_ie.pdf\n",
    "\n",
    "-->"
   ]
  },
  {
   "cell_type": "markdown",
   "metadata": {},
   "source": [
    "# References\n",
    "\n",
    "<a name=\"cite-enright2011cleaning\"/><sup>[^](#ref-3) </sup>Enright, Bernard and OBrien, Eugene J. 2011. _Cleaning weigh-in-motion data: Techniques and recommendations_.\n",
    "\n"
   ]
  }
 ],
 "metadata": {
  "kernelspec": {
   "display_name": "Python 3",
   "language": "python",
   "name": "python3"
  },
  "language_info": {
   "codemirror_mode": {
    "name": "ipython",
    "version": 3
   },
   "file_extension": ".py",
   "mimetype": "text/x-python",
   "name": "python",
   "nbconvert_exporter": "python",
   "pygments_lexer": "ipython3",
   "version": "3.5.0"
  }
 },
 "nbformat": 4,
 "nbformat_minor": 0
}
