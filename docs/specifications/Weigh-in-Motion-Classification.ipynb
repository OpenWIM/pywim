{
 "cells": [
  {
   "cell_type": "markdown",
   "metadata": {},
   "source": [
    "<!--bibtex\n",
    "\n",
    "@TechReport{tech:cost-323,\n",
    "  Title                    = {Weigh-in-Motion of Road Vehicles: Final Report of the COST 323 Action},\n",
    "  Author                   = {Jacob, Bernard and OBrien, EJ and Jehaes, S},\n",
    "  Year                     = {2002},\n",
    "\n",
    "  Journal                  = {Laboratoire Central des Ponts et Chauss{\\'e}es Publications, Paris}\n",
    "}\n",
    "\n",
    "@inproceedings{ramsay2000international,\n",
    "  title={An international heavy vehicle nomenclature system},\n",
    "  author={Ramsay, E and Prem, H and Peters, B},\n",
    "  booktitle={International Symposium on Heavy Vehicle Weights and Dimensions, 6th, 2000, Saskatoon, Saskatchewan, Canada},\n",
    "  year={2000}\n",
    "}\n",
    "\n",
    "-->\n",
    "<!--\n",
    "i.e.:\n",
    "<a name=\"ref-1\"/>[(UNDEFINED)](#cite-PER-GRA:2007) or <a name=\"ref-2\"/>[(UNDEFINED)](#cite-Papa2007)\n",
    "-->\n",
    "<!--\n",
    "%%javascript\n",
    "Jupyter.notebook.config.update({\n",
    "    \"load_extensions\":{\"calico-document-tools\":true}\n",
    "})\n",
    "-->"
   ]
  },
  {
   "cell_type": "markdown",
   "metadata": {},
   "source": [
    "# Table of Contents\n",
    "* [1. Weigh-in-Motion Classification](#1.-Weigh-in-Motion-Classification)\n",
    "\t* [1.1 Conclusions](#1.1-Conclusions)\n"
   ]
  },
  {
   "cell_type": "markdown",
   "metadata": {},
   "source": [
    "# 1. Weigh-in-Motion Classification"
   ]
  },
  {
   "cell_type": "markdown",
   "metadata": {},
   "source": [
    "## 1.1 Conclusions"
   ]
  },
  {
   "cell_type": "markdown",
   "metadata": {},
   "source": [
    "<!--\n",
    "links:\n",
    "www.is-wim.org/doc/wim_data_cleaning_ie.pdf\n",
    "\n",
    "-->"
   ]
  },
  {
   "cell_type": "markdown",
   "metadata": {},
   "source": [
    "# References\n",
    "\n"
   ]
  }
 ],
 "metadata": {
  "kernelspec": {
   "display_name": "Python 3",
   "language": "python",
   "name": "python3"
  },
  "language_info": {
   "codemirror_mode": {
    "name": "ipython",
    "version": 3
   },
   "file_extension": ".py",
   "mimetype": "text/x-python",
   "name": "python",
   "nbconvert_exporter": "python",
   "pygments_lexer": "ipython3",
   "version": "3.5.0"
  }
 },
 "nbformat": 4,
 "nbformat_minor": 0
}
