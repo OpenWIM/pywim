{
 "cells": [
  {
   "cell_type": "markdown",
   "metadata": {
    "slideshow": {
     "slide_type": "slide"
    }
   },
   "source": [
    "#Table of Contents\n",
    "* [1. El uso de Python como apoyo al pesaje de vehículos pesados en movimiento (WIM)](#1.-El-uso-de-Python-como-apoyo-al-pesaje-de-vehículos-pesados-en-movimiento-%28WIM%29)\n",
    "* [2. Descripción del proyecto](#2.-Descripción-del-proyecto)\n",
    "* [3. Adquisición de datos](#3.-Adquisición-de-datos)\n",
    "\t* [3.1 Uso de datos sintéticos](#3.1-Uso-de-datos-sintéticos)\n",
    "* [4. Almacenamiento y flujo de lo datos](#4.-Almacenamiento-y-flujo-de-lo-datos)\n",
    "* [5. Procesamiento digital de señal](#5.-Procesamiento-digital-de-señal)\n",
    "\t* [5.1 Corrección de baseline](#5.1-Corrección-de-baseline)\n",
    "\t* [5.2 Filtrado de señal](#5.2-Filtrado-de-señal)\n",
    "\t* [5.3 Detección de picos](#5.3-Detección-de-picos)\n",
    "\t* [5.4 Detección de la curva de la señal para el cálculo de peso](#5.4-Detección-de-la-curva-de-la-señal-para-el-cálculo-de-peso)\n",
    "* [6. Cálculos](#6.-Cálculos)\n",
    "\t* [6.1 Velocidad](#6.1-Velocidad)\n",
    "\t* [6.2 Distancia entre ejes](#6.2-Distancia-entre-ejes)\n",
    "\t* [6.3 Área bajo la curva](#6.3-Área-bajo-la-curva)\n",
    "\t* [6.4 Pesos](#6.4-Pesos)\n",
    "* [7. Clasificación de vehículos](#7.-Clasificación-de-vehículos)\n",
    "* [8. Calibración de los cálculos de pesaje](#8.-Calibración-de-los-cálculos-de-pesaje)\n",
    "* [9. Reconocimiento automático de matrículas vehiculares](#9.-Reconocimiento-automático-de-matrículas-vehiculares)\n",
    "* [10. Conclusión](#10.-Conclusión)\n"
   ]
  },
  {
   "cell_type": "markdown",
   "metadata": {
    "slideshow": {
     "slide_type": "skip"
    }
   },
   "source": [
    "<!--bibtex\n",
    "\n",
    "@TechReport{tech:optimization-vehicle-classification,\n",
    "  Title                    = {Optimization Vehicle Classification},\n",
    "  Author                   = {van Boxel, DW and van Lieshout, RA},\n",
    "  Institution              = {Ministerie van Verkeer en Waterstaat - Directoraat-Generaal Rijkswaterstaat - Dienst Weg- en Waterbouwkunde (DWW)},\n",
    "  Year                     = {2003},\n",
    "\n",
    "  Owner                    = {xmn},\n",
    "  Timestamp                = {2014.10.22}\n",
    "}\n",
    "\n",
    "@Article{pattern-recogntion-of-strings,\n",
    "  Title                    = {Pattern recognition of strings with substitutions, insertions, deletions and generalized transpositions},\n",
    "  Author                   = {Oommen, B John and Loke, Richard KS},\n",
    "  Journal                  = {Pattern Recognition},\n",
    "  Year                     = {1997},\n",
    "  Number                   = {5},\n",
    "  Pages                    = {789--800},\n",
    "  Volume                   = {30},\n",
    "\n",
    "  Publisher                = {Elsevier}\n",
    "}\n",
    "\n",
    "@article{vanweigh,\n",
    "  title={Weigh-in-Motion--Categorising vehicles},\n",
    "  author={van Boxel, DW and van Lieshout, RA and van Doorn, RA}\n",
    "}\n",
    "\n",
    "@misc{kistler2004installation,\n",
    "  title={Installation Instructions: Lineas{\\textregistered} Sensors for Weigh-in-Motion Type 9195E},\n",
    "  author={Kistler Instrumente, AG},\n",
    "  year={2004},\n",
    "  publisher={Kistler Instrumente AG, Switzerland}\n",
    "}\n",
    "\n",
    "@article{helmus2013nmrglue,\n",
    "  title={Nmrglue: an open source Python package for the analysis of multidimensional NMR data},\n",
    "  author={Helmus, Jonathan J and Jaroniec, Christopher P},\n",
    "  journal={Journal of biomolecular NMR},\n",
    "  volume={55},\n",
    "  number={4},\n",
    "  pages={355--367},\n",
    "  year={2013},\n",
    "  publisher={Springer}\n",
    "}\n",
    "\n",
    "@article{billauer2008peakdet,\n",
    "  title={peakdet: Peak detection using MATLAB},\n",
    "  author={Billauer, Eli},\n",
    "  journal={Eli Billauer’s home page},\n",
    "  year={2008}\n",
    "}\n",
    "\n",
    "@Article{article:alpr-using-python-and-opencv,\n",
    "  Title                    = {Automatic License Plate Recognition using Python and OpenCV},\n",
    "  Author                   = {Sajjad, K.M.},\n",
    "  Year                     = {2010},\n",
    "\n",
    "  Institution              = {Department of Computer Science and Engineering, MES College of Engineering, Kerala, India},\n",
    "  Owner                    = {xmn},\n",
    "  Timestamp                = {2014.08.24}\n",
    "}\n",
    "\n",
    "@inproceedings{burnos2008auto,\n",
    "  title={Auto-calibration and temperature correction of WIM systems},\n",
    "  author={Burnos, Piotr},\n",
    "  booktitle={Fifth International Conference on Weigh-in-Motion (ICWIM5)},\n",
    "  pages={439},\n",
    "  year={2008}\n",
    "}\n",
    "\n",
    "@inproceedings{gajda2012analysis,\n",
    "  title={Analysis of the temperature influences on the metrological properties of polymer piezoelectric load sensors applied in Weigh-in-Motion systems},\n",
    "  author={Gajda, Janusz and Sroka, Ryszard and Stencel, Marek and Zeglen, Tadeusz and Piwowar, Piotr and Burnos, Piotr},\n",
    "  booktitle={Instrumentation and Measurement Technology Conference (I2MTC), 2012 IEEE International},\n",
    "  pages={772--775},\n",
    "  year={2012},\n",
    "  organization={IEEE}\n",
    "}\n",
    "\n",
    "-->\n",
    "\n",
    "<!-- %%javascript\n",
    "IPython.load_extensions('calico-document-tools'); -->"
   ]
  },
  {
   "cell_type": "markdown",
   "metadata": {
    "slideshow": {
     "slide_type": "slide"
    }
   },
   "source": [
    "# 1. El uso de Python como apoyo al pesaje de vehículos pesados en movimiento (WIM)"
   ]
  },
  {
   "cell_type": "markdown",
   "metadata": {
    "slideshow": {
     "slide_type": "fragment"
    }
   },
   "source": [
    "Muchos accidentes en carreteras son causados, directamente o indirectamente, por vehículos pesados conducidos con sobrepeso. Estos damnifican más el pavimento y también sufren más efectos dinámicos durante las curvas.\n",
    "\n",
    "Para inhibir el exceso de peso de los vehículos pesados, es necesario fiscalizar estas infracciones y, cuando necesario, aplicar las medidas establecidas por ley, como multas y aprehensiones. Un método que está siendo investigado en muchas partes del mundo es el pesaje en movimiento. Este método tiene como ventajas la economía en espacio físico y operación, ya que sus sensores son implantados en la propia carretera, y no implica en atrasos directos en el flujo de la vía, pues puede pesar los camiones transitando en alta velocidad.\n",
    "\n",
    "En este trabajo serán presentados tecnologías útiles para desarrollar un sistema computacional para apoyo al pesaje de vehículos en movimiento. La experiencia para desarrollar este trabajo fue obtenida a través del proyecto desarrollado en el laboratorio de transportes (**LabTrans**) de la Universidade Federal de Santa Catarina (**UFSC**). El objetivo de este trabajo es servir como base educativa para futuros investigadores del tema.\n",
    "\n",
    "El lenguaje utilizado aquí será el Python y las librerías principales utilizadas serán: **numpy, scipy, pandas, sqlalchemy, statsmodels, numba, scikit-learn, pydaqmx, matplotlib**.\n"
   ]
  },
  {
   "cell_type": "markdown",
   "metadata": {
    "slideshow": {
     "slide_type": "slide"
    }
   },
   "source": [
    "# 2. Descripción del proyecto"
   ]
  },
  {
   "cell_type": "markdown",
   "metadata": {
    "slideshow": {
     "slide_type": "fragment"
    }
   },
   "source": [
    "\n",
    "Un sistema computacional de pesaje de vehículos en movimiento está compuesto, básicamente, de:\n",
    "- Adquisición de señal de los sensores de peso en la vía);\n",
    "- Segmentación de señal (para recortar la señal respectiva al camión medido);\n",
    "- Tratamiento de señales;\n",
    "- Cálculos (velocidad, número de ejes, grupos de ejes, distancia entre ejes, peso total, peso por ejes, peso por grupo de ejes, largo);\n",
    "- Clasificación del vehículo;\n",
    "- Calibración;\n",
    "- Reconocimiento de matrículas vehiculares;\n",
    "- Detección de infracción;\n",
    "\n",
    "El sistema debe ser rápido y robusto para procesar todas estas informaciones en el menor tiempo posible. Python no es un lenguaje reconocido por tener un alto desempeño, por eso, es necesario utilizar librerías y métodos para potenciar su capacidad de procesamiento.\n",
    "\n",
    "Con base en los resultados del pesaje, clasificación y reconocimiento de la matrícula vehicular es posible saber si el vehículo cometió alguna infracción y, en caso positivo, es posible vincular la infracción a la identificación del vehículo infractor."
   ]
  },
  {
   "cell_type": "code",
   "execution_count": 1,
   "metadata": {
    "collapsed": true,
    "slideshow": {
     "slide_type": "slide"
    }
   },
   "outputs": [],
   "source": [
    "from IPython.display import display\n",
    "from matplotlib import pyplot as plt\n",
    "from scipy import signal\n",
    "from scipy import constants\n",
    "from scipy.signal import argrelextrema\n",
    "from collections import defaultdict\n",
    "from sklearn import metrics\n",
    "\n",
    "import statsmodels.api as sm\n",
    "import numpy as np\n",
    "import pandas as pd\n",
    "import numba as nb\n",
    "import sqlalchemy\n",
    "import psycopg2\n",
    "import os\n",
    "import sys\n",
    "import datetime\n",
    "import matplotlib as mpl"
   ]
  },
  {
   "cell_type": "code",
   "execution_count": 2,
   "metadata": {
    "collapsed": false,
    "slideshow": {
     "slide_type": "slide"
    }
   },
   "outputs": [
    {
     "name": "stdout",
     "output_type": "stream",
     "text": [
      "Usando DAQ genérico\n"
     ]
    }
   ],
   "source": [
    "# local\n",
    "sys.path.insert(0, os.path.dirname(os.getcwd()))\n",
    "\n",
    "try:\n",
    "    import PyDAQmx as pydaq\n",
    "except NotImplementedError:\n",
    "    print('Usando DAQ genérico')\n",
    "    import pywim.lib.daq.generic as pydaq\n",
    "\n",
    "# PyWIM\n",
    "from pywim.lib.vehicular_classification import dww\n",
    "from pywim.lib.vehicular_classification import dww_nb\n",
    "from pywim.lib.daq.generic import (\n",
    "    gen_synthetic_analog_data, gen_synthetic_digital_data\n",
    ")\n",
    "\n",
    "\n",
    "# matplotlib\n",
    "mpl.style.use('ggplot')\n",
    "%matplotlib inline"
   ]
  },
  {
   "cell_type": "markdown",
   "metadata": {
    "collapsed": true,
    "slideshow": {
     "slide_type": "slide"
    }
   },
   "source": [
    "# 3. Adquisición de datos"
   ]
  },
  {
   "cell_type": "markdown",
   "metadata": {
    "slideshow": {
     "slide_type": "fragment"
    }
   },
   "source": [
    "La adquisición de datos fue hecha a través de placas de adquisición DAQmx de la empresa National Instruments (**NI**). Para comunicar con estas fue utilizada la librería PyDAQmx, un wrap hecho en Python para los controladores del hardware fornecidos por la empresa. Esta librería es una interfaz completa para los controladores NIDAQmx ANSI C e importa todas las funciones del controlador e importa todas las constantes predefinidas. Como resultado, la librería retorna un objeto *numpy.array*.\n",
    "\n",
    "Después de adquirir la señal de los sensores, el sistema la almacena en un buffer circular en memoria que, dentro un proceso paralelo, es analizada en busca de una señal completa de un vehículo (segmento). Este proceso fue construido de manera muy simple, donde el programa espera la señal desde un bucle inductivo y, cuando accionado, segmenta la señal con valores respectivos a los 3 segundos siguientes."
   ]
  },
  {
   "cell_type": "code",
   "execution_count": 3,
   "metadata": {
    "collapsed": false,
    "slideshow": {
     "slide_type": "slide"
    }
   },
   "outputs": [],
   "source": [
    "samples_per_channel = 1000\n",
    "number_of_channels = 1\n",
    "\n",
    "task = pydaq.Task()\n",
    "\n",
    "task.CreateAIVoltageChan()\n",
    "\n",
    "task.CfgSampClkTiming()\n",
    "total_samples = pydaq.int32()\n",
    "data_size = samples_per_channel * number_of_channels\n",
    "data = np.zeros((data_size,), dtype=np.float64)\n",
    "\n",
    "task.StartTask()\n",
    "\n",
    "data = task.ReadAnalogF64(\n",
    "    samples_per_channel,\n",
    "    10.0,\n",
    "    pydaq.DAQmx_Val_GroupByChannel,\n",
    "    data,\n",
    "    data_size,\n",
    "    pydaq.byref(total_samples),\n",
    "    None\n",
    ")"
   ]
  },
  {
   "cell_type": "code",
   "execution_count": 4,
   "metadata": {
    "collapsed": false,
    "slideshow": {
     "slide_type": "slide"
    }
   },
   "outputs": [
    {
     "data": {
      "image/png": "[encoded data removed]",
      "text/plain": [
       "<matplotlib.figure.Figure at 0x7ff273827438>"
      ]
     },
     "metadata": {},
     "output_type": "display_data"
    }
   ],
   "source": [
    "plt.plot(np.linspace(0, 3, 15000), data, label='sensor 1')\n",
    "plt.title('DAQ')\n",
    "plt.grid(True)\n",
    "plt.ylabel('Tensión (V)')\n",
    "plt.xlabel('Tiempo (s)')\n",
    "plt.show()"
   ]
  },
  {
   "cell_type": "markdown",
   "metadata": {
    "slideshow": {
     "slide_type": "slide"
    }
   },
   "source": [
    "## 3.1 Uso de datos sintéticos"
   ]
  },
  {
   "cell_type": "code",
   "execution_count": 5,
   "metadata": {
    "collapsed": true,
    "slideshow": {
     "slide_type": "skip"
    }
   },
   "outputs": [],
   "source": [
    "df = pd.DataFrame()\n",
    "\n",
    "sample_rate = 2000\n",
    "total_seconds = 3.0\n",
    "\n",
    "# analog channel 1\n",
    "df['a1'] = gen_synthetic_analog_data(\n",
    "    sample_rate=sample_rate, total_seconds=total_seconds, \n",
    "    time_delay=0.7, noise_p=10\n",
    ")\n",
    "\n",
    "# analog channel 2\n",
    "df['a2'] = gen_synthetic_analog_data(\n",
    "    sample_rate=sample_rate, total_seconds=total_seconds, \n",
    "    time_delay=1.0, noise_p=10\n",
    ")\n",
    "\n",
    "# digital loop\n",
    "df['d1'] = gen_synthetic_digital_data(\n",
    "    sample_rate=sample_rate, total_seconds=total_seconds, \n",
    "    time_delay=0.8\n",
    ")"
   ]
  },
  {
   "cell_type": "code",
   "execution_count": 6,
   "metadata": {
    "collapsed": false,
    "slideshow": {
     "slide_type": "fragment"
    }
   },
   "outputs": [
    {
     "data": {
      "image/png": "[encoded data removed]",
      "text/plain": [
       "<matplotlib.figure.Figure at 0x7ff2736c9ac8>"
      ]
     },
     "metadata": {},
     "output_type": "display_data"
    }
   ],
   "source": [
    "df.plot()\n",
    "plt.title('Datos de los sensores')\n",
    "plt.grid(True)\n",
    "plt.ylabel('Tensión (V)')\n",
    "plt.xlabel('Tiempo (s)')\n",
    "plt.legend()\n",
    "plt.show()"
   ]
  },
  {
   "cell_type": "markdown",
   "metadata": {
    "slideshow": {
     "slide_type": "slide"
    }
   },
   "source": [
    "# 4. Almacenamiento y flujo de lo datos"
   ]
  },
  {
   "cell_type": "markdown",
   "metadata": {
    "slideshow": {
     "slide_type": "fragment"
    }
   },
   "source": [
    "Después de segmentados, los datos brutos son almacenados en la base de datos. Eso posibilita cambiar los métodos de cálculos o parámetros de calibración, posibilitando analizar los métodos utilizados.\n",
    "\n",
    "En todos los métodos y funciones de cálculos en el sistema, el tipo patrón para los conjuntos de datos es el *pandas.DataFrame*. Este es utilizado desde el momento de la lectura en la base de datos, en conjunto con sqlalchemy, hasta en los cálculos, ploteos y grabación en base de datos o en archivos CSV. El *pandas.DataFrame* fornece mecanismos para manipulación de datos muy parecidos a los utilizados en el lenguaje R."
   ]
  },
  {
   "cell_type": "code",
   "execution_count": 7,
   "metadata": {
    "collapsed": false,
    "slideshow": {
     "slide_type": "slide"
    }
   },
   "outputs": [],
   "source": [
    "# Connect to the database\n",
    "DATABASE = {\n",
    "    'host': 'localhost',\n",
    "    'database': 'pywim',\n",
    "    'port': '5432',\n",
    "    'user': 'pywim',\n",
    "    'password': 'pywim'\n",
    "}\n",
    "\n",
    "conn = psycopg2.connect(**DATABASE)\n",
    "\n",
    "engine = sqlalchemy.create_engine(\n",
    "    'postgresql+psycopg2://',\n",
    "    creator=lambda: conn\n",
    ")"
   ]
  },
  {
   "cell_type": "code",
   "execution_count": 8,
   "metadata": {
    "collapsed": false,
    "slideshow": {
     "slide_type": "slide"
    }
   },
   "outputs": [],
   "source": [
    "# creates acquisition data\n",
    "cur = conn.cursor()\n",
    "cur.execute(\n",
    "    'INSERT INTO wim.acquisition (id, date_time) ' +\n",
    "    'VALUES (DEFAULT, %s) RETURNING id', (datetime.datetime.now(),)\n",
    ")\n",
    "\n",
    "acq_id = cur.fetchone()[0]\n",
    "\n",
    "conn.commit()\n",
    "cur.close()\n",
    "\n",
    "df_data = df.copy()\n",
    "df_data['acquisition'] = acq_id\n",
    "df_data['time_seconds'] = df_data.index\n",
    "df_data.rename(\n",
    "    columns={\n",
    "        'a1': 'sensor1', 'a2': 'sensor2', 'd1': 'inductive_loop'\n",
    "    }, inplace=True\n",
    ")\n",
    "\n",
    "df_data.to_sql(\n",
    "    'acquisition_data', con=engine, \n",
    "    schema='wim', if_exists='append', index=False\n",
    ")\n",
    "\n",
    "conn.commit()"
   ]
  },
  {
   "cell_type": "code",
   "execution_count": 9,
   "metadata": {
    "collapsed": false,
    "slideshow": {
     "slide_type": "slide"
    }
   },
   "outputs": [],
   "source": [
    "# select acquisition data from database\n",
    "df_data = pd.read_sql_query(\n",
    "    '''\n",
    "    SELECT * FROM wim.acquisition_data\n",
    "    WHERE acquisition=%s\n",
    "    ''' % acq_id, con=engine,\n",
    "    index_col='time_seconds'\n",
    ")\n",
    "\n",
    "df_data.drop('acquisition', axis=1, inplace=True)"
   ]
  },
  {
   "cell_type": "code",
   "execution_count": 10,
   "metadata": {
    "collapsed": false,
    "slideshow": {
     "slide_type": "slide"
    }
   },
   "outputs": [
    {
     "data": {
      "image/png": "[encoded data removed]",
      "text/plain": [
       "<matplotlib.figure.Figure at 0x7ff270e20588>"
      ]
     },
     "metadata": {},
     "output_type": "display_data"
    }
   ],
   "source": [
    "df_data[['sensor1', 'sensor2', 'inductive_loop']].plot()\n",
    "plt.title('Datos de los sensores')\n",
    "plt.grid(True)\n",
    "plt.ylabel('Tensión (V)')\n",
    "plt.xlabel('Tiempo (s)')\n",
    "plt.legend()\n",
    "plt.show()"
   ]
  },
  {
   "cell_type": "markdown",
   "metadata": {
    "slideshow": {
     "slide_type": "slide"
    }
   },
   "source": [
    "# 5. Procesamiento digital de señal"
   ]
  },
  {
   "cell_type": "markdown",
   "metadata": {
    "slideshow": {
     "slide_type": "fragment"
    }
   },
   "source": [
    "Para la realización de los cálculos, la señal necesita ser tratada y, para eso, es necesario aplicar un filtrado de señal y corrección de *baseline*. Para la aplicación del filtrado, en el ejemplo, será utilizado la recomendación de <a name=\"ref-1\"/>[(KistlerInstrumente, 2004)](#cite-kistler2004installation), la fabricante de los sensores *Lineas*: filtrado del tipo pasa baja de orden 1, a 600 Hz."
   ]
  },
  {
   "cell_type": "markdown",
   "metadata": {
    "slideshow": {
     "slide_type": "slide"
    }
   },
   "source": [
    "## 5.1 Corrección de baseline"
   ]
  },
  {
   "cell_type": "markdown",
   "metadata": {
    "slideshow": {
     "slide_type": "fragment"
    }
   },
   "source": [
    "Para hacer la corrección de *baseline* pode ser utilizado el método que sea más apropiado para las características eléctricas de la señal del sensor. En la librería *nmrglue* <a name=\"ref-2\"/>[(Helmus and Jaroniec, 2013)](#cite-helmus2013nmrglue) tiene el módulo *proc_bl* que contiene muchas funciones que pueden ayudar a hacer la corrección de *baseline*. En el ejemplo abajo, la corrección será hecha sustrayendo de la señal el valor mínimo encontrado en los primeros 100 puntos de la señal."
   ]
  },
  {
   "cell_type": "code",
   "execution_count": 11,
   "metadata": {
    "collapsed": true
   },
   "outputs": [],
   "source": [
    "df_filt = df.copy()\n",
    "\n",
    "for s in df_filt.keys():\n",
    "    df_filt[s] -= df_filt[s][:100].min()"
   ]
  },
  {
   "cell_type": "code",
   "execution_count": 12,
   "metadata": {
    "collapsed": false,
    "slideshow": {
     "slide_type": "slide"
    }
   },
   "outputs": [
    {
     "data": {
      "image/png": "[encoded data removed]",
      "text/plain": [
       "<matplotlib.figure.Figure at 0x7ff270450550>"
      ]
     },
     "metadata": {},
     "output_type": "display_data"
    }
   ],
   "source": [
    "df_filt.plot()\n",
    "plt.title('Datos de los sensores')\n",
    "plt.grid(True)\n",
    "plt.ylabel('Tensión (V)')\n",
    "plt.xlabel('Tiempo (s)')\n",
    "plt.legend()\n",
    "plt.show()"
   ]
  },
  {
   "cell_type": "markdown",
   "metadata": {
    "slideshow": {
     "slide_type": "slide"
    }
   },
   "source": [
    "## 5.2 Filtrado de señal"
   ]
  },
  {
   "cell_type": "markdown",
   "metadata": {
    "slideshow": {
     "slide_type": "fragment"
    }
   },
   "source": [
    "El filtro utilizado será de tipo basa baja, de orden 1, con la frecuencia de corte de 600Hz. Para eso, fue utilizado los métodos filtfilt y butterworth de la librería scipy."
   ]
  },
  {
   "cell_type": "code",
   "execution_count": 13,
   "metadata": {
    "collapsed": true,
    "slideshow": {
     "slide_type": "fragment"
    }
   },
   "outputs": [],
   "source": [
    "order = 1\n",
    "freq = 600  # Mz\n",
    "lower_cut = freq/sample_rate\n",
    "\n",
    "b, a = signal.butter(order, lower_cut)\n",
    "\n",
    "df_filt['a1'] = signal.filtfilt(b, a, df_filt['a1'])\n",
    "df_filt['a2'] = signal.filtfilt(b, a, df_filt['a2'])"
   ]
  },
  {
   "cell_type": "code",
   "execution_count": 14,
   "metadata": {
    "collapsed": false,
    "slideshow": {
     "slide_type": "slide"
    }
   },
   "outputs": [
    {
     "data": {
      "image/png": "[encoded data removed]",
      "text/plain": [
       "<matplotlib.figure.Figure at 0x7ff270446be0>"
      ]
     },
     "metadata": {},
     "output_type": "display_data"
    }
   ],
   "source": [
    "df_filt.plot()\n",
    "plt.title('Datos de los sensores')\n",
    "plt.grid(True)\n",
    "plt.ylabel('Tensión (V)')\n",
    "plt.xlabel('Tiempo (s)')\n",
    "plt.legend()\n",
    "plt.show()"
   ]
  },
  {
   "cell_type": "markdown",
   "metadata": {
    "slideshow": {
     "slide_type": "slide"
    }
   },
   "source": [
    "## 5.3 Detección de picos"
   ]
  },
  {
   "cell_type": "markdown",
   "metadata": {
    "slideshow": {
     "slide_type": "fragment"
    }
   },
   "source": [
    "El método de detección de picos a ser utilizados debe llevar en cuenta las características de la señal. En <a name=\"ref-3\"/>[(Billauer, 2008)](#cite-billauer2008peakdet) se puede encontrar un método muy bueno para encontrar las máximas y mínimas locales. Para los datos de ejemplo, será utilizado el módulo *argrelextrema* de *scipy* y un *threshold* de 1 (volt), para evitar los ruidos de la señal."
   ]
  },
  {
   "cell_type": "code",
   "execution_count": 15,
   "metadata": {
    "collapsed": false,
    "slideshow": {
     "slide_type": "fragment"
    }
   },
   "outputs": [],
   "source": [
    "peaks = {}\n",
    "_tmp = df_filt['a1'].values.copy()\n",
    "_tmp[_tmp < 1] = 0.0\n",
    "peaks['a1'] = argrelextrema(_tmp, np.greater, order=100)[0]\n",
    "\n",
    "\n",
    "_tmp = df_filt['a2'].values.copy()\n",
    "_tmp[_tmp < 1] = 0.0\n",
    "peaks['a2'] = argrelextrema(_tmp, np.greater, order=100)[0]"
   ]
  },
  {
   "cell_type": "code",
   "execution_count": 16,
   "metadata": {
    "collapsed": false,
    "slideshow": {
     "slide_type": "slide"
    }
   },
   "outputs": [],
   "source": [
    "df_peaks = pd.DataFrame()\n",
    "df_peaks['peak_a1'] = np.zeros(df_filt.shape[0])\n",
    "df_peaks['peak_a2'] = np.zeros(df_filt.shape[0])\n",
    "\n",
    "df_peaks['peak_a1'][peaks['a1']] = 10\n",
    "df_peaks['peak_a2'][peaks['a2']] = 10\n",
    "\n",
    "df_peaks.index = df_filt.index"
   ]
  },
  {
   "cell_type": "code",
   "execution_count": 17,
   "metadata": {
    "collapsed": false,
    "slideshow": {
     "slide_type": "slide"
    }
   },
   "outputs": [
    {
     "data": {
      "image/png": "[encoded data removed]",
      "text/plain": [
       "<matplotlib.figure.Figure at 0x7ff270395390>"
      ]
     },
     "metadata": {},
     "output_type": "display_data"
    }
   ],
   "source": [
    "pd.concat((df_filt, df_peaks)).plot()\n",
    "plt.title('Datos de los sensores')\n",
    "plt.grid(True)\n",
    "plt.ylabel('Tensión (V)')\n",
    "plt.xlabel('Tiempo (s)')\n",
    "plt.legend()\n",
    "plt.show()"
   ]
  },
  {
   "cell_type": "markdown",
   "metadata": {
    "slideshow": {
     "slide_type": "slide"
    }
   },
   "source": [
    "## 5.4 Detección de la curva de la señal para el cálculo de peso"
   ]
  },
  {
   "cell_type": "markdown",
   "metadata": {
    "slideshow": {
     "slide_type": "fragment"
    }
   },
   "source": [
    "Para el recorte de la curva para el cálculo de peso para los sensores *Lineas* de *Kistler*, puede ser utilizado el concepto descrito en <a name=\"ref-4\"/>[(KistlerInstrumente, 2004)](#cite-kistler2004installation). La figura abajo <a name=\"ref-5\"/>[(KistlerInstrumente, 2004)](#cite-kistler2004installation) ilustra cómo debe ser hecho el recorte.\n",
    "\n",
    "<figure>\n",
    "  <img src=\"https://github.com/xmnfw/pywim/blob/master/docs/img/kistler-cut-signal-area.png?raw=true\" alt=\"Recorte del área de la señal\"/>\n",
    "  <center><figcaption>Recorte del área de la señal</figcaption></center>\n",
    "</figure>"
   ]
  },
  {
   "cell_type": "markdown",
   "metadata": {
    "slideshow": {
     "slide_type": "slide"
    }
   },
   "source": [
    "Para hacerlo con los datos de ejemplo, puede ser adoptado un threshold de 0,2 y un $\\Delta{t}$ de 20. Para facilitar el entendimiento, el corte será hecho desde 400 puntos antes del pico hasta 400 puntos después del pico."
   ]
  },
  {
   "cell_type": "code",
   "execution_count": 18,
   "metadata": {
    "collapsed": false,
    "slideshow": {
     "slide_type": "fragment"
    }
   },
   "outputs": [
    {
     "data": {
      "image/png": "[encoded data removed]",
      "text/plain": [
       "<matplotlib.figure.Figure at 0x7ff270390dd8>"
      ]
     },
     "metadata": {},
     "output_type": "display_data"
    }
   ],
   "source": [
    "sensor_curve = defaultdict(dict)\n",
    "sensor_curve_chart = defaultdict(list)\n",
    "\n",
    "fig, axes = plt.subplots(nrows=2, ncols=2)\n",
    "\n",
    "for k, s in enumerate(['a1', 'a2']):\n",
    "    for i, peak in enumerate(peaks[s]):\n",
    "        sensor_curve[s]['axle%s' % (i+1)] = (\n",
    "            pd.Series(df_filt[s].index[peak-400:peak+400])\n",
    "        )\n",
    "        df_filt[s].iloc[peak-400:peak+400].plot(ax=axes[k, i])\n",
    "        axes[k, i].set_title('Axle %s - Peak %s' % (k, i))\n",
    "plt.tight_layout()"
   ]
  },
  {
   "cell_type": "markdown",
   "metadata": {
    "slideshow": {
     "slide_type": "slide"
    }
   },
   "source": [
    "# 6. Cálculos"
   ]
  },
  {
   "cell_type": "markdown",
   "metadata": {
    "slideshow": {
     "slide_type": "fragment"
    }
   },
   "source": [
    "A partir de las informaciones de los picos de la señal y su curva, es posible empezar los cálculos para determinar la distancia entre ejes, velocidad y peso. A continuación, serán presentados estos cálculos utilizando los datos de ejemplo generados en las secciones anteriores."
   ]
  },
  {
   "cell_type": "markdown",
   "metadata": {
    "slideshow": {
     "slide_type": "slide"
    }
   },
   "source": [
    "## 6.1 Velocidad"
   ]
  },
  {
   "cell_type": "markdown",
   "metadata": {
    "slideshow": {
     "slide_type": "fragment"
    }
   },
   "source": [
    "Para calcular la velocidad es necesario, primeramente, saber la distancia entre los sensores. Para este ejemplo, será adoptada la distancia de 1 metro. La velocidad se da a través de la fórmula: $v = \\frac{\\Delta{s}}{\\Delta{t}}$"
   ]
  },
  {
   "cell_type": "code",
   "execution_count": 19,
   "metadata": {
    "collapsed": true,
    "slideshow": {
     "slide_type": "fragment"
    }
   },
   "outputs": [],
   "source": [
    "distance_sensors = 1 # metro\n",
    "vehicle_speed = {}\n",
    "\n",
    "time_points = peaks['a2'][0]-peaks['a1'][0]\n",
    "d_time = time_points*(1/sample_rate)\n",
    "vehicle_speed['axle1'] = distance_sensors/d_time  # m/s\n",
    "\n",
    "time_points = peaks['a2'][1]-peaks['a1'][1]\n",
    "d_time = time_points*(1/sample_rate)\n",
    "vehicle_speed['axle2'] = distance_sensors/d_time  # m/s\n",
    "\n",
    "df_speed = pd.DataFrame(\n",
    "    vehicle_speed, index=['speed_sensor_0_1', 'speed_sensor_1_2']\n",
    ")\n",
    "vehicle_speed_mean = df_speed.mean()[0]"
   ]
  },
  {
   "cell_type": "code",
   "execution_count": 20,
   "metadata": {
    "collapsed": false,
    "slideshow": {
     "slide_type": "slide"
    }
   },
   "outputs": [
    {
     "data": {
      "text/html": [
       "<div style=\"max-height:1000px;max-width:1500px;overflow:auto;\">\n",
       "<table border=\"1\" class=\"dataframe\">\n",
       "  <thead>\n",
       "    <tr style=\"text-align: right;\">\n",
       "      <th></th>\n",
       "      <th>axle1</th>\n",
       "      <th>axle2</th>\n",
       "    </tr>\n",
       "  </thead>\n",
       "  <tbody>\n",
       "    <tr>\n",
       "      <th>speed_sensor_0_1</th>\n",
       "      <td> 11.861614</td>\n",
       "      <td> 11.940299</td>\n",
       "    </tr>\n",
       "    <tr>\n",
       "      <th>speed_sensor_1_2</th>\n",
       "      <td> 11.861614</td>\n",
       "      <td> 11.940299</td>\n",
       "    </tr>\n",
       "  </tbody>\n",
       "</table>\n",
       "</div>"
      ],
      "text/plain": [
       "                      axle1      axle2\n",
       "speed_sensor_0_1  11.861614  11.940299\n",
       "speed_sensor_1_2  11.861614  11.940299"
      ]
     },
     "metadata": {},
     "output_type": "display_data"
    },
    {
     "name": "stdout",
     "output_type": "stream",
     "text": [
      "Velocidad media: 11.8616144975 km/h\n"
     ]
    }
   ],
   "source": [
    "display(df_speed*3.6)  # km\n",
    "print('Velocidad media:', vehicle_speed_mean * 3.6, 'km/h')  # km/h"
   ]
  },
  {
   "cell_type": "markdown",
   "metadata": {
    "slideshow": {
     "slide_type": "slide"
    }
   },
   "source": [
    "## 6.2 Distancia entre ejes"
   ]
  },
  {
   "cell_type": "markdown",
   "metadata": {
    "slideshow": {
     "slide_type": "fragment"
    }
   },
   "source": [
    "Para calcular la distancia entre ejes es necesario haber calculado la velocidad. La fórmula para el cálculo de la distancia entre ejes es: $\\Delta{s} = v*\\Delta{t}$. En este ejemplo será utilizada la velocidad media, pero también podría ser utilizada la velocidad encontrada por eje."
   ]
  },
  {
   "cell_type": "code",
   "execution_count": 21,
   "metadata": {
    "collapsed": false,
    "slideshow": {
     "slide_type": "fragment"
    }
   },
   "outputs": [
    {
     "data": {
      "text/html": [
       "<div style=\"max-height:1000px;max-width:1500px;overflow:auto;\">\n",
       "<table border=\"1\" class=\"dataframe\">\n",
       "  <thead>\n",
       "    <tr style=\"text-align: right;\">\n",
       "      <th></th>\n",
       "      <th>a1</th>\n",
       "      <th>a2</th>\n",
       "    </tr>\n",
       "  </thead>\n",
       "  <tbody>\n",
       "    <tr>\n",
       "      <th>axle1-axle2</th>\n",
       "      <td> 3.288303</td>\n",
       "      <td> 3.281713</td>\n",
       "    </tr>\n",
       "  </tbody>\n",
       "</table>\n",
       "</div>"
      ],
      "text/plain": [
       "                   a1        a2\n",
       "axle1-axle2  3.288303  3.281713"
      ]
     },
     "metadata": {},
     "output_type": "display_data"
    }
   ],
   "source": [
    "axles_distance = defaultdict(dict)\n",
    "\n",
    "time_points = peaks['a1'][1]-peaks['a1'][0]\n",
    "d_time = time_points*(1/sample_rate)\n",
    "axles_distance['a1']['axle1-axle2'] = d_time*vehicle_speed_mean\n",
    "\n",
    "time_points = peaks['a2'][1]-peaks['a2'][0]\n",
    "d_time = time_points*(1/sample_rate)\n",
    "axles_distance['a2']['axle1-axle2'] = d_time*vehicle_speed_mean\n",
    "\n",
    "df_distance_axles = pd.DataFrame(axles_distance)\n",
    "\n",
    "display(df_distance_axles)"
   ]
  },
  {
   "cell_type": "markdown",
   "metadata": {
    "slideshow": {
     "slide_type": "slide"
    }
   },
   "source": [
    "## 6.3 Área bajo la curva"
   ]
  },
  {
   "cell_type": "markdown",
   "metadata": {
    "slideshow": {
     "slide_type": "fragment"
    }
   },
   "source": [
    "Otra información necesaria para la realización de los cálculos de pesaje es el área bajo la curva identificada. Para realizar este cálculo es necesario hacer la integral de curva o, en este caso, la suma de los puntos de la curva."
   ]
  },
  {
   "cell_type": "code",
   "execution_count": 22,
   "metadata": {
    "collapsed": false,
    "slideshow": {
     "slide_type": "fragment"
    }
   },
   "outputs": [
    {
     "name": "stdout",
     "output_type": "stream",
     "text": [
      "intervalo de tiempo: 0.0005\n"
     ]
    },
    {
     "data": {
      "text/html": [
       "<div style=\"max-height:1000px;max-width:1500px;overflow:auto;\">\n",
       "<table border=\"1\" class=\"dataframe\">\n",
       "  <thead>\n",
       "    <tr style=\"text-align: right;\">\n",
       "      <th></th>\n",
       "      <th>axle1</th>\n",
       "      <th>axle2</th>\n",
       "    </tr>\n",
       "  </thead>\n",
       "  <tbody>\n",
       "    <tr>\n",
       "      <th>a2</th>\n",
       "      <td> 0.079913</td>\n",
       "      <td> 0.079913</td>\n",
       "    </tr>\n",
       "    <tr>\n",
       "      <th>a1</th>\n",
       "      <td> 0.079913</td>\n",
       "      <td> 0.079913</td>\n",
       "    </tr>\n",
       "  </tbody>\n",
       "</table>\n",
       "</div>"
      ],
      "text/plain": [
       "       axle1     axle2\n",
       "a2  0.079913  0.079913\n",
       "a1  0.079913  0.079913"
      ]
     },
     "metadata": {},
     "output_type": "display_data"
    }
   ],
   "source": [
    "df_area = pd.DataFrame()\n",
    "time_interval = 1/sample_rate\n",
    "\n",
    "print('intervalo de tiempo:', time_interval)\n",
    "\n",
    "for s in sensor_curve:\n",
    "    area = {}\n",
    "    for axle, v in sensor_curve[s].items():\n",
    "        # sumatorio con corrección de baseline\n",
    "        area.update({axle: (v-v.min()).sum()*time_interval})\n",
    "    df_area[s] = pd.Series(area)\n",
    "\n",
    "df_area = df_area.T\n",
    "\n",
    "display(df_area)"
   ]
  },
  {
   "cell_type": "markdown",
   "metadata": {
    "slideshow": {
     "slide_type": "slide"
    }
   },
   "source": [
    "## 6.4 Pesos"
   ]
  },
  {
   "cell_type": "markdown",
   "metadata": {
    "slideshow": {
     "slide_type": "fragment"
    }
   },
   "source": [
    "Para calcular el peso del vehículo serán utilizadas las informaciones de velocidad, la curva de cada eje, . Para los sensores *Lineas* de *Kistler*, debe ser seguida la siguiente formula <a name=\"ref-6\"/>[(KistlerInstrumente, 2004)](#cite-kistler2004installation):\n",
    "$W = ( V / L_s ) * A * C$, donde *W* es la variable de peso, *V* es la velocidad, *$L_s$* es el ancho del sensor, *A* es la integral de la curva y *C* es una constante de calibración. Para otros tipos de sensores, la fórmula es similar. Para sensores del tipo piezoeléctrico polímero y cerámicos es necesario considerar un método para corrección de los resultados debido a la sensibilidad a la temperatura <a name=\"ref-7\"/>[(Burnos, 2008)](#cite-burnos2008auto), <a name=\"ref-8\"/>[(Gajda et al., 2012)](#cite-gajda2012analysis). Para los datos de ejemplo, serán calculados los pesos sobre los ejes y el peso bruto total utilizando como parámetro: el ancho del sensor con el valor de 0.53 metros y la constante de calibración igual a 1 para todos los sensores."
   ]
  },
  {
   "cell_type": "code",
   "execution_count": 23,
   "metadata": {
    "collapsed": true,
    "slideshow": {
     "slide_type": "slide"
    }
   },
   "outputs": [],
   "source": [
    "amp_sensibility = 0.15*10**-3  # 1.8 pC/N*5V/60000pC\n",
    "\n",
    "C = pd.Series([1, 1])\n",
    "Ls = pd.Series([0.53] * 2)\n",
    "\n",
    "V = df_speed.reset_index(drop=True)\n",
    "A = df_area.reset_index(drop=True)\n",
    "W = pd.DataFrame()\n",
    "\n",
    "for axle in V.keys():\n",
    "    W[axle] = ((V[axle]/Ls)*A[axle]*C)/amp_sensibility/constants.g"
   ]
  },
  {
   "cell_type": "code",
   "execution_count": 24,
   "metadata": {
    "collapsed": false,
    "slideshow": {
     "slide_type": "slide"
    }
   },
   "outputs": [
    {
     "data": {
      "text/html": [
       "<div style=\"max-height:1000px;max-width:1500px;overflow:auto;\">\n",
       "<table border=\"1\" class=\"dataframe\">\n",
       "  <thead>\n",
       "    <tr style=\"text-align: right;\">\n",
       "      <th></th>\n",
       "      <th>axle1</th>\n",
       "      <th>axle2</th>\n",
       "    </tr>\n",
       "  </thead>\n",
       "  <tbody>\n",
       "    <tr>\n",
       "      <th>0</th>\n",
       "      <td> 337.732355</td>\n",
       "      <td> 339.972702</td>\n",
       "    </tr>\n",
       "    <tr>\n",
       "      <th>1</th>\n",
       "      <td> 337.732355</td>\n",
       "      <td> 339.972702</td>\n",
       "    </tr>\n",
       "  </tbody>\n",
       "</table>\n",
       "</div>"
      ],
      "text/plain": [
       "        axle1       axle2\n",
       "0  337.732355  339.972702\n",
       "1  337.732355  339.972702"
      ]
     },
     "metadata": {},
     "output_type": "display_data"
    },
    {
     "name": "stdout",
     "output_type": "stream",
     "text": [
      "\n",
      "Promedio por eje:\n"
     ]
    },
    {
     "data": {
      "text/plain": [
       "axle1    337.732355\n",
       "axle2    339.972702\n",
       "dtype: float64"
      ]
     },
     "metadata": {},
     "output_type": "display_data"
    },
    {
     "name": "stdout",
     "output_type": "stream",
     "text": [
      "\n",
      "Peso Bruto Total: 677.705056932 kg\n"
     ]
    }
   ],
   "source": [
    "display(W)\n",
    "print('\\nPromedio por eje:')\n",
    "display(W.mean())\n",
    "print('\\nPeso Bruto Total:', W.mean().sum(), 'kg')"
   ]
  },
  {
   "cell_type": "markdown",
   "metadata": {
    "slideshow": {
     "slide_type": "slide"
    }
   },
   "source": [
    "# 7. Clasificación de vehículos"
   ]
  },
  {
   "cell_type": "markdown",
   "metadata": {
    "slideshow": {
     "slide_type": "fragment"
    }
   },
   "source": [
    "Aquí será presentado un método para clasificación vehicular basado en los trabajos de <a name=\"ref-9\"/>[(vanBoxel and vanLieshout, 2003)](#cite-tech:optimization-vehicle-classification) y <a name=\"ref-10\"/>[(Oommen and Loke, 1997)](#cite-pattern-recogntion-of-strings)\n",
    "\n",
    "En este método, es utilizado un conjunto de *layouts* de referencias, definido por un conjunto de símbolos, que representa el diseño del vehículo, como puede ser visto en la figura abajo <a name=\"ref-11\"/>[(vanBoxel and vanLieshout, 2003)](#cite-tech:optimization-vehicle-classification).\n",
    "\n",
    "<figure>\n",
    "  <img src=\"https://github.com/xmnfw/pywim/blob/master/docs/img/dww-layout.png?raw=true\" alt=\"Ejemplos de layout de vehículos\"/>\n",
    "  <center><figcaption>Ejemplo de *layouts* de la representación de clases de vehículos pesados</figcaption></center>\n",
    "</figure>"
   ]
  },
  {
   "cell_type": "markdown",
   "metadata": {
    "slideshow": {
     "slide_type": "slide"
    }
   },
   "source": [
    "Para clasificar el vehículo, el sistema crea un *layout* para el vehículo medido, lo compara con *layouts* de referencias y clasifica el vehículo que con el *layout* de referencia que resulta más próximo.\n",
    "\n",
    "Este método presenta bajo desempeño en el lenguaje Python. Para solucionar esto, fue utilizada la librería numba, llegando a ser cerca de 100 veces más rápido. Fue necesária una adaptación en el algoritmo donde, ante de hacer las comparaciones, el *layout* del veículo y el *layout* de la clase de referencia son convertidos en números, así la función de comparación puede ser marcada para ser compilada en modo **nopython**. Cuanto más cerca de 0 más cerca el layout del vehículo está del *layout* de referencia."
   ]
  },
  {
   "cell_type": "code",
   "execution_count": 25,
   "metadata": {
    "collapsed": false,
    "slideshow": {
     "slide_type": "slide"
    }
   },
   "outputs": [
    {
     "name": "stdout",
     "output_type": "stream",
     "text": [
      "CPU times: user 409 ms, sys: 8.67 ms, total: 418 ms\n",
      "Wall time: 417 ms\n",
      "CPU times: user 1.19 ms, sys: 368 µs, total: 1.56 ms\n",
      "Wall time: 1.56 ms\n",
      "0\n"
     ]
    }
   ],
   "source": [
    "layout = dww.layout_to_int(dww.layout((7, 2, 0.5, 2)))\n",
    "layout_ref = dww.layout_to_int('-O----O-O----O-')\n",
    "\n",
    "z = np.zeros((len(layout), len(layout_ref)), dtype=int)\n",
    "\n",
    "%time resultado = dww_nb.D(layout, layout_ref, z)\n",
    "%time dww.D(layout, layout_ref, z)\n",
    "\n",
    "print(resultado)"
   ]
  },
  {
   "cell_type": "markdown",
   "metadata": {
    "slideshow": {
     "slide_type": "slide"
    }
   },
   "source": [
    "# 8. Calibración de los cálculos de pesaje"
   ]
  },
  {
   "cell_type": "markdown",
   "metadata": {
    "slideshow": {
     "slide_type": "fragment"
    }
   },
   "source": [
    "La calibración periódica en sistemas de pesaje es muy importante para mantener a un bajo margen de errores los pesos calculados. Para apoyar esta etapa puede ser utilizado el método de regresión lineal por mínimos cuadrados (*OLS*) de la librería *statsmodels* que, por ejemplo, posibilita saber informaciones como el coeficiente de determinación (R²) de la regresión lineal realizada. La librería *scikit-learn* también puede ser usada en esta etapa con finalidad de apoyo en los análisis de los resultados. Para probar estas funcionalidades, serán utilizados dados de pesaje sintéticos con ruidos, para simular los errores de medición con 100 pasadas de dos camiones con peso conocido."
   ]
  },
  {
   "cell_type": "code",
   "execution_count": 26,
   "metadata": {
    "collapsed": false,
    "slideshow": {
     "slide_type": "slide"
    }
   },
   "outputs": [],
   "source": [
    "# datos sintéticos\n",
    "df_weight = pd.DataFrame({\n",
    "    'a1': np.ones(200), 'a2': np.ones(200), 'target': np.ones(200)\n",
    "})\n",
    "\n",
    "df_weight.loc[:100, ['a1', 'a2']] = 8000\n",
    "df_weight.loc[100:, ['a1', 'a2']] = 10000\n",
    "\n",
    "df_weight['a1'] += np.random.random(200)*1000\n",
    "df_weight['a2'] += np.random.random(200)*1000\n",
    "\n",
    "df_weight.loc[:100, ['target']] = 8000\n",
    "df_weight.loc[100:, ['target']] = 10000\n",
    "\n",
    "r2 = {}\n",
    "c = {}\n",
    "predict = []\n",
    "X = []\n",
    "for i, s in enumerate(['a1', 'a2']):\n",
    "    # Adds a constant term to the predictor\n",
    "    X.append(sm.add_constant(df_weight[s]))\n",
    "             \n",
    "    model = sm.OLS(df_weight['target'], X[i])\n",
    "    predict.append(model.fit())\n",
    "    r2[s] = [predict[i]._results.rsquared]\n",
    "    c[s] = predict[i].params[s]"
   ]
  },
  {
   "cell_type": "code",
   "execution_count": 27,
   "metadata": {
    "collapsed": false,
    "slideshow": {
     "slide_type": "slide"
    }
   },
   "outputs": [
    {
     "name": "stdout",
     "output_type": "stream",
     "text": [
      "R2 {'a2': [0.92125034306761655], 'a1': [0.92732830085202089]}\n",
      "CC {'a2': 0.9269227427976322, 'a1': 0.92787966282853351}\n"
     ]
    },
    {
     "data": {
      "image/png": "[encoded data removed]",
      "text/plain": [
       "<matplotlib.figure.Figure at 0x7ff270324a90>"
      ]
     },
     "metadata": {},
     "output_type": "display_data"
    },
    {
     "data": {
      "image/png": "[encoded data removed]",
      "text/plain": [
       "<matplotlib.figure.Figure at 0x7ff2737b2390>"
      ]
     },
     "metadata": {},
     "output_type": "display_data"
    }
   ],
   "source": [
    "#fig, axes = plt.subplots(nrows=1, ncols=2)\n",
    "for i, s in enumerate(['a1', 'a2']):\n",
    "    #df_weight['target']\n",
    "    fig = sm.graphics.abline_plot(model_results=predict[i])\n",
    "    ax = fig.axes[0]\n",
    "    ax.scatter(df_weight[s], df_weight['target'])\n",
    "    ax.set_xlabel('Valor calculado')\n",
    "    ax.set_ylabel('Valor Target')\n",
    "    ax.set_title('Valores de pesaje sensor %s' % s)\n",
    "    plt.tight_layout()\n",
    "    \n",
    "print('R2', r2)\n",
    "print('CC', c)"
   ]
  },
  {
   "cell_type": "code",
   "execution_count": 28,
   "metadata": {
    "collapsed": true,
    "slideshow": {
     "slide_type": "slide"
    }
   },
   "outputs": [],
   "source": [
    "def score_95_calc(metric_score, y, y_pred):\n",
    "    if y.shape[0] < 1:\n",
    "        print('size calc 0')\n",
    "        return 0.0\n",
    "\n",
    "    y_true = np.array([True] * y.shape[0])\n",
    "\n",
    "    lb = y - y * 0.05\n",
    "    ub = y + y * 0.05\n",
    "\n",
    "    y_pred_95 = (lb < y_pred) == (y_pred < ub)\n",
    "    y_pred_95 = y_pred_95 == True\n",
    "\n",
    "    return metric_score(y_true, y_pred_95)"
   ]
  },
  {
   "cell_type": "code",
   "execution_count": 29,
   "metadata": {
    "collapsed": true,
    "slideshow": {
     "slide_type": "slide"
    }
   },
   "outputs": [],
   "source": [
    "def score_95_base(metric_score, estimator, X_test, y_test):\n",
    "    if y_test.shape[0] < 1:\n",
    "        print('size base 0')\n",
    "        return 0.0\n",
    "\n",
    "    y_pred = estimator.predict(X_test)\n",
    "    return score_95_calc(metric_score, y_test, y_pred)"
   ]
  },
  {
   "cell_type": "code",
   "execution_count": 30,
   "metadata": {
    "collapsed": true,
    "slideshow": {
     "slide_type": "slide"
    }
   },
   "outputs": [],
   "source": [
    "def score_95_accuracy(estimator, X, y):\n",
    "    return score_95_base(metrics.accuracy_score, estimator, X, y)\n",
    "\n",
    "\n",
    "def score_95_precision(estimator, X, y):\n",
    "    return score_95_base(metrics.precision_score, estimator, X, y)\n",
    "\n",
    "\n",
    "def score_95_recall(estimator, X, y):\n",
    "    return score_95_base(metrics.recall_score, estimator, X, y)\n",
    "\n",
    "\n",
    "def score_95_f1_score(estimator, X, y):\n",
    "    return score_95_base(metrics.f1_score, estimator, X, y)"
   ]
  },
  {
   "cell_type": "code",
   "execution_count": 31,
   "metadata": {
    "collapsed": false,
    "slideshow": {
     "slide_type": "slide"
    }
   },
   "outputs": [
    {
     "name": "stdout",
     "output_type": "stream",
     "text": [
      "accuracy:              0.88\n",
      "precision:             1.0\n",
      "recall:                0.88\n",
      "f1 score:              0.936170212766\n"
     ]
    }
   ],
   "source": [
    "df_weight_cc = df_weight[['a1', 'a2']].copy()\n",
    "\n",
    "for s in ['a1', 'a2']:\n",
    "    df_weight_cc[s] *= c[s]\n",
    "    \n",
    "df_gross_weight = df_weight_cc.mean(axis=1)\n",
    "\n",
    "for _m_name, _metric in [\n",
    "    ('accuracy', metrics.accuracy_score),\n",
    "    ('precision', metrics.precision_score),\n",
    "    ('recall', metrics.recall_score),\n",
    "    ('f1 score', metrics.f1_score),\n",
    "]:\n",
    "    print(\n",
    "        ('%s:' % _m_name).ljust(22, ' '),\n",
    "        score_95_calc(_metric, df_weight['target'], df_gross_weight)\n",
    "    )\n"
   ]
  },
  {
   "cell_type": "markdown",
   "metadata": {
    "slideshow": {
     "slide_type": "slide"
    }
   },
   "source": [
    "# 9. Reconocimiento automático de matrículas vehiculares"
   ]
  },
  {
   "cell_type": "markdown",
   "metadata": {
    "slideshow": {
     "slide_type": "fragment"
    }
   },
   "source": [
    "El reconocimiento de matrículas vehiculares puede ser realizado a través de una cámara ALPR. También es posible hacer este procesamiento separado, sin utilizar la cámara ALPR. Un material muy interesantes sobre el tema es el trabajo <a name=\"ref-12\"/>[(Sajjad, 2010)](#cite-article:alpr-using-python-and-opencv) que provee informaciones y ejemplos de cómo hacer el reconocimiento de matrículas vehiculares utilizando el lenguaje Python junto con la librería *OpenCV*. La matrícula vehicular es muy importante para los sistemas de pesaje de vehículos pesados pues con esta información es posible penalizar los infractores, principalmente los que huyen después de recibir el aviso de detención en las estaciones de control de pesaje."
   ]
  },
  {
   "cell_type": "markdown",
   "metadata": {
    "slideshow": {
     "slide_type": "slide"
    }
   },
   "source": [
    "# 10. Conclusión"
   ]
  },
  {
   "cell_type": "markdown",
   "metadata": {
    "slideshow": {
     "slide_type": "fragment"
    }
   },
   "source": [
    "Este es un trabajo inicial con propósito educativo de cómo crear un sistema computacional de apoyo al pesaje de vehículos pesados en movimiento. Los próximos pasos para evolucionar este trabajo es ampliar los temas de: \n",
    "- Adquisición de datos, desde la configuración eléctrica, hasta los parámetros de configuración de la misma;\n",
    "- Reconocimiento automático de matrículas vehiculares, utilizando alguna librería y desarrollando algunos ejemplos;\n",
    "- Diferencias entre algoritmos para cálculo de pesaje entre sensores del tipo piezoelétrictos cuarzo, cerámico y polímero."
   ]
  },
  {
   "cell_type": "markdown",
   "metadata": {
    "slideshow": {
     "slide_type": "slide"
    }
   },
   "source": [
    "#References\n",
    "\n",
    "<a name=\"cite-kistler2004installation\"/><sup>[^](#ref-1) [^](#ref-4) [^](#ref-5) [^](#ref-6) </sup>Kistler Instrumente, AG. 2004. _Installation Instructions: Lineas\\textregistered Sensors for Weigh-in-Motion Type 9195E_.\n",
    "\n",
    "<a name=\"cite-helmus2013nmrglue\"/><sup>[^](#ref-2) </sup>Helmus, Jonathan J and Jaroniec, Christopher P. 2013. _Nmrglue: an open source Python package for the analysis of multidimensional NMR data_.\n",
    "\n",
    "<a name=\"cite-billauer2008peakdet\"/><sup>[^](#ref-3) </sup>Billauer, Eli. 2008. _peakdet: Peak detection using MATLAB_.\n",
    "\n",
    "<a name=\"cite-burnos2008auto\"/><sup>[^](#ref-7) </sup>Burnos, Piotr. 2008. _Auto-calibration and temperature correction of WIM systems_.\n",
    "\n",
    "<a name=\"cite-gajda2012analysis\"/><sup>[^](#ref-8) </sup>Gajda, Janusz and Sroka, Ryszard and Stencel, Marek and Zeglen, Tadeusz and Piwowar, Piotr and Burnos, Piotr. 2012. _Analysis of the temperature influences on the metrological properties of polymer piezoelectric load sensors applied in Weigh-in-Motion systems_.\n",
    "\n",
    "<a name=\"cite-tech:optimization-vehicle-classification\"/><sup>[^](#ref-9) [^](#ref-11) </sup>van Boxel, DW and van Lieshout, RA. 2003. _Optimization Vehicle Classification_.\n",
    "\n",
    "<a name=\"cite-pattern-recogntion-of-strings\"/><sup>[^](#ref-10) </sup>Oommen, B John and Loke, Richard KS. 1997. _Pattern recognition of strings with substitutions, insertions, deletions and generalized transpositions_.\n",
    "\n",
    "<a name=\"cite-article:alpr-using-python-and-opencv\"/><sup>[^](#ref-12) </sup>Sajjad, K.M.. 2010. _Automatic License Plate Recognition using Python and OpenCV_.\n",
    "\n"
   ]
  }
 ],
 "metadata": {
  "celltoolbar": "Slideshow",
  "kernelspec": {
   "display_name": "Python 3",
   "language": "python",
   "name": "python3"
  },
  "language_info": {
   "codemirror_mode": {
    "name": "ipython",
    "version": 3
   },
   "file_extension": ".py",
   "mimetype": "text/x-python",
   "name": "python",
   "nbconvert_exporter": "python",
   "pygments_lexer": "ipython3",
   "version": "3.4.0"
  }
 },
 "nbformat": 4,
 "nbformat_minor": 0
}
