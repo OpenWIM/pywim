{
 "cells": [
  {
   "cell_type": "markdown",
   "metadata": {},
   "source": [
    "#Table of Contents\n",
    "* [1. El uso de Python como apoyo al pesaje de vehículos de pesados en movimiento (WIM)](#1.-El-uso-de-Python-como-apoyo-al-pesaje-de-vehículos-de-pesados-en-movimiento-%28WIM%29)\n",
    "* [2. Descripción del proyecto](#2.-Descripción-del-proyecto)\n",
    "* [3. Adquisición de datos](#3.-Adquisición-de-datos)\n",
    "\t* [3.1 Uso de datos sintéticos](#3.1-Uso-de-datos-sintéticos)\n",
    "* [4. Almacenamiento y flujo de lo datos](#4.-Almacenamiento-y-flujo-de-lo-datos)\n",
    "* [5. Filtrado de señal](#5.-Filtrado-de-señal)\n",
    "* [6. Clasificación de vehículos](#6.-Clasificación-de-vehículos)\n",
    "* [7. Calibración de los cálculos de pesaje](#7.-Calibración-de-los-cálculos-de-pesaje)\n",
    "* [8. Reconocimiento automático de matrículas vehículares](#8.-Reconocimiento-automático-de-matrículas-vehículares)\n",
    "* [9. Conclusión](#9.-Conclusión)\n"
   ]
  },
  {
   "cell_type": "markdown",
   "metadata": {},
   "source": [
    "<!--bibtex\n",
    "\n",
    "@TechReport{tech:optimization-vehicle-classification,\n",
    "  Title                    = {Optimization Vehicle Classification},\n",
    "  Author                   = {van Boxel, DW and van Lieshout, RA},\n",
    "  Institution              = {Ministerie van Verkeer en Waterstaat - Directoraat-Generaal Rijkswaterstaat - Dienst Weg- en Waterbouwkunde (DWW)},\n",
    "  Year                     = {2003},\n",
    "\n",
    "  Owner                    = {xmn},\n",
    "  Timestamp                = {2014.10.22}\n",
    "}\n",
    "\n",
    "@Article{pattern-recogntion-of-strings,\n",
    "  Title                    = {Pattern recognition of strings with substitutions, insertions, deletions and generalized transpositions},\n",
    "  Author                   = {Oommen, B John and Loke, Richard KS},\n",
    "  Journal                  = {Pattern Recognition},\n",
    "  Year                     = {1997},\n",
    "  Number                   = {5},\n",
    "  Pages                    = {789--800},\n",
    "  Volume                   = {30},\n",
    "\n",
    "  Publisher                = {Elsevier}\n",
    "}\n",
    "\n",
    "@article{vanweigh,\n",
    "  title={Weigh-in-Motion--Categorising vehicles},\n",
    "  author={van Boxel, DW and van Lieshout, RA and van Doorn, RA}\n",
    "}\n",
    "\n",
    "\n",
    "-->\n",
    "\n",
    "<!-- %%javascript\n",
    "IPython.load_extensions('calico-document-tools'); -->"
   ]
  },
  {
   "cell_type": "markdown",
   "metadata": {},
   "source": [
    "# 1. El uso de Python como apoyo al pesaje de vehículos de pesados en movimiento (WIM)"
   ]
  },
  {
   "cell_type": "markdown",
   "metadata": {},
   "source": [
    "Muchos accidentes en carreteras son causados, directamente o indirectamente, por vehículos pesados conducidos con sobrepeso. Estos damnifican más el pavimento y también sufren más efectos dinámicos durante las curvas.\n",
    "\n",
    "Para inhibir el exceso de peso de los vehículos pesados, es necesario fiscalizar estas infracciones y, cuando necesario, aplicar las medidas establecidas por ley, como multas y aprehensiones. Un método que está siendo investigado en muchas partes del mundo es el pesaje en movimiento. Este método tiene como ventajas la economía en espacio físico y operación, ya que sus sensores son implantados en la propia carretera, y no implica en atrasos directos en el flujo de la vía, pues puede pesar los camiones transitando en alta velocidad.\n",
    "\n",
    "En este trabajo será presentado las tecnologías utilizadas en el proyecto desarrollado en el laboratorio de transportes (**LabTrans**) de la Universidade Federal de Santa Catarina (**UFSC**). El trabajo aquí presentado está basado en este proyecto, pero desarrollado con carácter educativo.\n",
    "\n",
    "El lenguaje Python es potenciado por las innumerables librerías de apoyo que le proporciona un mejor desempeño (a veces muy cerca de lenguajes como C y Java) y mayor comodidad para manipular los datos (como en el lenguaje R).\n",
    "\n",
    "Las librerías principales utilizadas en este proyecto fueron: **numpy, scipy, flask, pandas, pandasql, sqlalchemy, statsmodels, numba, pymodelfit, scikit-learn, pydaqmx**.\n"
   ]
  },
  {
   "cell_type": "markdown",
   "metadata": {},
   "source": [
    "# 2. Descripción del proyecto"
   ]
  },
  {
   "cell_type": "markdown",
   "metadata": {},
   "source": [
    "\n",
    "Un sistema computacional de pesaje de vehículos en movimiento está compuesto, básicamente, de:\n",
    "- Adquisición de señal de los sensores de peso en la vía);\n",
    "- Segmentación de señal (para recortar la señal respectiva al camión medido);\n",
    "- Tratamiento de señales;\n",
    "- Cálculos (velocidad, número de ejes, grupos de ejes, distancia entre ejes, peso total, peso por ejes, peso por grupo de ejes, largo);\n",
    "- Clasificación del vehículo;\n",
    "- Calibración;\n",
    "- Reconocimiento de matrículas vehiculares;\n",
    "- Detección de infracción;\n",
    "\n",
    "El sistema debe ser rápido y robusto para procesar todas estas informaciones en el menor tiempo posible. Python no es un lenguaje reconocido por tener un alto desempeño, por eso, es necesario utilizar librerías y métodos para potenciar su capacidad de procesamiento.\n",
    "\n",
    "Con base en los resultados del pesaje, clasificación y reconocimiento de la matrícula vehicular es posible saber si el vehículo cometió alguna infracción y, en caso positivo, es posible vincular la infracción a la identificación del vehículo infractor."
   ]
  },
  {
   "cell_type": "code",
   "execution_count": 4,
   "metadata": {
    "collapsed": false
   },
   "outputs": [
    {
     "name": "stdout",
     "output_type": "stream",
     "text": [
      "Usando DAQ genérico\n"
     ]
    }
   ],
   "source": [
    "from matplotlib import pyplot as plt\n",
    "\n",
    "import numpy as np\n",
    "import pandas as pd\n",
    "import numba as nb\n",
    "import sqlalchemy\n",
    "import psycopg2\n",
    "import os\n",
    "import sys\n",
    "\n",
    "# local\n",
    "sys.path.insert(0, os.path.dirname(os.path.dirname(os.getcwd())))\n",
    "\n",
    "from pywim.lib.daq.generic import (\n",
    "    gen_synthetic_analog_data, gen_synthetic_digital_data\n",
    ")\n",
    "\n",
    "try:\n",
    "    import PyDAQmx as pydaq\n",
    "except NotImplementedError:\n",
    "    print('Usando DAQ genérico')\n",
    "    import pywim.lib.daq.generic as pydaq\n",
    "\n",
    "%matplotlib inline"
   ]
  },
  {
   "cell_type": "markdown",
   "metadata": {
    "collapsed": true
   },
   "source": [
    "# 3. Adquisición de datos"
   ]
  },
  {
   "cell_type": "markdown",
   "metadata": {},
   "source": [
    "La adquisición de datos fue hecha através de placas de adquisición DAQmx de la empresa National Instruments (**NI**). Para comunicar con estas fue utilizada la librería PyDAQmx, un wrap hecho en Python para los controladores del hardware fornecidos por la empresa. Esta librería es una interfaz completa para los controladores NIDAQmx ANSI C e importa todas las funciones del controlador e importa todas las constantes predefinidas. Como resultado, la librería retorna un objeto \"numpy.array\".\n",
    "\n",
    "Después de adquirir la señal de los sensores, el sistema la almacena en un buffer circular en memoria que, dentro un proceso paralelo, es analisada en busca de una señal completa de un vehículo (segmento). Este proceso fue construído de manera muy simple, donde el programa espera la señal desde un bucle inductivo y, cuando accionado, segmenta la señal con valores respectivos a los 3 segundos siguientes."
   ]
  },
  {
   "cell_type": "code",
   "execution_count": 3,
   "metadata": {
    "collapsed": false
   },
   "outputs": [
    {
     "data": {
      "image/png": "[encoded data removed]",
      "text/plain": [
       "<matplotlib.figure.Figure at 0x7f159b66d5f8>"
      ]
     },
     "metadata": {},
     "output_type": "display_data"
    }
   ],
   "source": [
    "task = pydaq.Task()\n",
    "\n",
    "samples_per_channel = 1000\n",
    "number_of_channels = 1\n",
    "\n",
    "task.CfgSampClkTiming()\n",
    "total_samples = pydaq.int32()\n",
    "data_size = samples_per_channel * number_of_channels\n",
    "data = np.zeros((data_size,), dtype=np.float64)\n",
    "\n",
    "task.StartTask()\n",
    "\n",
    "data = task.ReadAnalogF64(\n",
    "    samples_per_channel,\n",
    "    10.0,\n",
    "    pydaq.DAQmx_Val_GroupByChannel,\n",
    "    data,\n",
    "    data_size,\n",
    "    pydaq.byref(total_samples),\n",
    "    None\n",
    ")\n",
    "\n",
    "pd.DataFrame(data).plot()\n",
    "plt.show()"
   ]
  },
  {
   "cell_type": "code",
   "execution_count": null,
   "metadata": {
    "collapsed": true
   },
   "outputs": [],
   "source": []
  },
  {
   "cell_type": "markdown",
   "metadata": {},
   "source": [
    "## 3.1 Uso de datos sintéticos"
   ]
  },
  {
   "cell_type": "code",
   "execution_count": 26,
   "metadata": {
    "collapsed": false
   },
   "outputs": [
    {
     "data": {
      "image/png": "[encoded data removed]",
      "text/plain": [
       "<matplotlib.figure.Figure at 0x7f1197168550>"
      ]
     },
     "metadata": {},
     "output_type": "display_data"
    }
   ],
   "source": [
    "ts_analog = gen_synthetic_analog_data(5000, 3.0, 1)\n",
    "ts_analog.plot(label='Señal analógica')\n",
    "\n",
    "ts_digital = gen_synthetic_digital_data(5000, 3.0, 1)\n",
    "ts_digital.plot(label='Señal digital')\n",
    "\n",
    "plt.suptitle('Datos sintéticos para la simulación de la medición de un sensor')\n",
    "plt.autoscale(tight=True)\n",
    "\n",
    "leg = plt.legend(loc='best')\n",
    "leg.get_frame().set_alpha(0.4)\n",
    "\n",
    "plt.show()"
   ]
  },
  {
   "cell_type": "markdown",
   "metadata": {},
   "source": [
    "# 4. Almacenamiento y flujo de lo datos"
   ]
  },
  {
   "cell_type": "markdown",
   "metadata": {},
   "source": [
    "Después de segmentados, los datos brutos son almacenados en la base de datos, posibilitando cambiar los métodos de cálculos o parámetros de calibración, a cualquier momento de la ejecución del proyecto, a fin de obtener el mejor resultado.\n",
    "\n",
    "En todos los métodos y funciones de cálculos en el sistema, el tipo patrón para los conjuntos de datos es el \"pandas.DataFrame\". Este es utilizado desde el momento de la lectura en la base de datos, en conjunto con sqlalchemy, hasta en los cálculos, ploteos y grabación en base de datos o en archivos CSV. el \"pandas.DataFrame\" fornece mecanismos para manipulación de datos muy parecidos a los utilizados en el lenguaje R."
   ]
  },
  {
   "cell_type": "markdown",
   "metadata": {},
   "source": [
    "# 5. Filtrado de señal"
   ]
  },
  {
   "cell_type": "markdown",
   "metadata": {},
   "source": [
    "Para la realización de los cálculos, la señal necesita ser tradada (filtro de señal) y, para eso, fue aplicado un filtro pasa baja de órden 1, a 600 Hz, utilizando los métodos filtfilt y butterworth de la librería scipy. En esta etapa, los datos ya están almacenados en un objeto \"pandas.DataFrame\"."
   ]
  },
  {
   "cell_type": "markdown",
   "metadata": {},
   "source": [
    "# 6. Clasificación de vehículos"
   ]
  },
  {
   "cell_type": "markdown",
   "metadata": {},
   "source": [
    "Em método utilizado para la clasificación vehicular fue basado en los trabajos de <a name=\"ref-1\"/>[(vanBoxel and vanLieshout, 2003)](#cite-tech:optimization-vehicle-classification) y <a name=\"ref-2\"/>[(Oommen and Loke, 1997)](#cite-pattern-recogntion-of-strings)\n",
    "\n",
    "En este método, es utilizado un conjunto de *layouts* de referencias, definido por un conjunto de símbolos, que representa el diseño del vehículo, como puede ser visto en la figura abajo.\n",
    "\n",
    "<figure>\n",
    "  <img src=\"img/dww-layout.png\" alt=\"Ejemplos de layout de vehículos\"/>\n",
    "  <center><figcaption>Ejemplo de *layouts* de la representación de clases de vehículos pesados <a name=\"ref-3\"/>[(vanBoxel and vanLieshout, 2003)](#cite-tech:optimization-vehicle-classification)</figcaption></center>\n",
    "</figure>\n",
    "\n",
    "Para clasificar el vehículo, el sistema crea un *layout* para el vehículo medido, lo compara con *layouts* de referencias y clasifica el vehículo que con el *layout* de referencia que resulta más próximo.\n",
    "\n",
    "Este método presentava muy bajo desempeño con el lenguaje Python. Para solucionar esto, fue utilizada la librería numba, llegando a ser cerca de 100 veces más rápido. Fue necesária una adaptación en el algoritmo donde, ante de hacer las comparaciones, el *layout* del veículo y el *layout* de la clase de referencia son convertidos en números, así la función de comparación puede ser marcada para ser compilada en modo **nopython**. Cuanto más cerca de 0 más cerca el layout del vehículo está del *layout* de referencia."
   ]
  },
  {
   "cell_type": "code",
   "execution_count": 24,
   "metadata": {
    "collapsed": false
   },
   "outputs": [
    {
     "name": "stdout",
     "output_type": "stream",
     "text": [
      "CPU times: user 1.92 ms, sys: 0 ns, total: 1.92 ms\n",
      "Wall time: 1.65 ms\n",
      "CPU times: user 0 ns, sys: 0 ns, total: 0 ns\n",
      "Wall time: 33.1 µs\n",
      "0\n"
     ]
    }
   ],
   "source": [
    "from pywim.lib.vehicular_classification import dww\n",
    "from pywim.lib.vehicular_classification import dww_nb\n",
    "\n",
    "layout = dww.layout_to_int(dww.layout((7, 2, 0.5, 2)))\n",
    "layout_ref = dww.layout_to_int('-O----O-O----O-')\n",
    "\n",
    "z = np.zeros((len(layout), len(layout_ref)), dtype=int)\n",
    "\n",
    "%time dww.D(layout, layout_ref, z)\n",
    "%time resultado = dww_nb.D(layout, layout_ref, z)\n",
    "\n",
    "print(resultado)"
   ]
  },
  {
   "cell_type": "markdown",
   "metadata": {},
   "source": [
    "# 7. Calibración de los cálculos de pesaje"
   ]
  },
  {
   "cell_type": "markdown",
   "metadata": {},
   "source": [
    "La calibración períodicas en sistemas de pesaje es muy importante para mantener un bajo margen de errores de los pesos calculados. Para apoyar esta etapa fue utilizado el método de regresión lineal por mínimos cuadrados (OLS) de la librería \"statsmodels\" que, por ejemplo, posibilita saber informaciones como el coeficiente de determinación (R²) resultante de la regresión lineal. La librería scikit-learn también fue utilizada en esta etapa con finalidad de apoyo en la análisis de los resultados. Através de los datos de peso calculados para cada sensor (en el tramo reservado para los sensores piezoeléctrico cuarzo fueron instaladas 16 líneas de sensores), fueron eligidos algunos modelos matemáticos en scikit-learn para predecir el valor del peso bruto total (el sistema calcula através de media ponderada). Através de esta librería, es posible medir y evaluar los resultados de los modelos y, posteriormente, compararlos entre sí."
   ]
  },
  {
   "cell_type": "markdown",
   "metadata": {},
   "source": [
    "# 8. Reconocimiento automático de matrículas vehículares"
   ]
  },
  {
   "cell_type": "markdown",
   "metadata": {},
   "source": [
    "El reconocimiento de matrículas vehiculares fue realizado através de una cámara ALPR, de la empresa ARH. Con finalidad de medir la eficiencia de los resultados, fueron probadas algunas librerías libres para el tema. Uno de los materiales más interesantes encontrados a respecto fue el trabajo del investigador K.M. Sajjad (Automatic License Plate Recognition using Python and OpenCV) que fornece informaciones y ejemplos de cómo hacer el reconocimiento de matrículas vehículares utilizando el lenguaje Python."
   ]
  },
  {
   "cell_type": "code",
   "execution_count": null,
   "metadata": {
    "collapsed": false
   },
   "outputs": [],
   "source": []
  },
  {
   "cell_type": "markdown",
   "metadata": {},
   "source": [
    "# 9. Conclusión"
   ]
  },
  {
   "cell_type": "markdown",
   "metadata": {},
   "source": [
    "#References\n",
    "\n",
    "<a name=\"cite-tech:optimization-vehicle-classification\"/><sup>[^](#ref-1) [^](#ref-3) </sup>van Boxel, DW and van Lieshout, RA. 2003. _Optimization Vehicle Classification_.\n",
    "\n",
    "<a name=\"cite-pattern-recogntion-of-strings\"/><sup>[^](#ref-2) </sup>Oommen, B John and Loke, Richard KS. 1997. _Pattern recognition of strings with substitutions, insertions, deletions and generalized transpositions_.\n",
    "\n"
   ]
  }
 ],
 "metadata": {
  "kernelspec": {
   "display_name": "Python 3",
   "language": "python",
   "name": "python3"
  },
  "language_info": {
   "codemirror_mode": {
    "name": "ipython",
    "version": 3
   },
   "file_extension": ".py",
   "mimetype": "text/x-python",
   "name": "python",
   "nbconvert_exporter": "python",
   "pygments_lexer": "ipython3",
   "version": "3.4.0"
  }
 },
 "nbformat": 4,
 "nbformat_minor": 0
}
