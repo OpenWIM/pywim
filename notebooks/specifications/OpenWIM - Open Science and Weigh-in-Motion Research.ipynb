{
 "cells": [
  {
   "cell_type": "markdown",
   "metadata": {},
   "source": [
    "<!--bibtex\n",
    "@article{albagli2015open,\n",
    "  title={Open Science, open issues},\n",
    "  author={Albagli, Sarita and Maciel, Maria Lucia and Abdo, Alexandre Hannud},\n",
    "  year={2015},\n",
    "  publisher={IBICT}\n",
    "}\n",
    "-->"
   ]
  },
  {
   "cell_type": "markdown",
   "metadata": {},
   "source": [
    "# Table of Contents\n",
    "* [1. OpenWIM - Open Science and Weigh-in-Motion Research](#1.-OpenWIM---Open-Science-and-Weigh-in-Motion-Research)\n"
   ]
  },
  {
   "cell_type": "markdown",
   "metadata": {},
   "source": [
    "# 1. OpenWIM - Open Science and Weigh-in-Motion Research"
   ]
  },
  {
   "cell_type": "markdown",
   "metadata": {},
   "source": [
    "Overweight heavy vehicles represent a big problem related to accidents and pavement damage. The weight enforcement is very important to inhibit the overweight of these vehicles. One method that is being investigated in many parts of the world is weigh-in-motion (WIM), which has the advantage of reduced physical space and operating costs. Since the sensors can be installed on the road itself, it can weigh passing vehicles, without them having to slow down, hence, not delaying the road user’s journey.\n",
    "\n",
    "Although there are many papers publicly available about weigh-in-motion in the engineering transportation area, there has not been much research based on free access sources and data or including explanations that allow the reproduction of results. In this context, the Open Science concept can help improve the WIM research through collaborative efforts and reproducible methods, using algorithms and data with free public access.\n",
    "\n",
    "The OpenWIM project was born upon this background as an Open Science initiative, to provide a WIM research repository with initial structure based on the main information available in the literature. This can then be converted into a framework for researchers to develop and test new methods and technologies.\n",
    "\n",
    "The structure of this project was designed over some pillars:\n",
    "- Standards;\n",
    "- Open Data;\n",
    "- Reproducibility;\n",
    "- Algorithms;\n",
    "- Papers.\n",
    "\n",
    "The Standards pillar is based on a recompilation of standards found in the internacional literatures used in WIM projects. This can be a guideline to new researchers to structure their projects and can facilitate the shared used of data and algorithms. This standards can be about the file names, layout data structure, file format used in system integration, standard units, column name standard (in data files), algorithms style code, etc.\n",
    "\n",
    "The Open Data pillar is based on a open repository where Weigh-in-Motion data is published. This data can be:\n",
    "- Raw data from weigh sensors;\n",
    "- Raw data from inductive loop;\n",
    "- Known information about the vehicle run (gross vehicle weight, speed, distance between axles, weight in each axle, vehicle category, temperature, etc);\n",
    "- Vehicle category patterns;\n",
    "- Calibration data;\n",
    "- License plate images;\n",
    "- Vehicle images;\n",
    "\n",
    "The raw data from sensors and the weight information is very important to validate weigh and calibration methods. Raw data from inductive loop can help in methods like vehicle classification. The license plate images can help to test or improve methods that recognizes the plate position and license value. The vehicle images can be used, for example, by vehicle classification method using image processing and artificial neural network.\n",
    "\n",
    "The Reproducibility pillar is based on Notebook Sciences to describe and explain about some method, data or concept related to Weigh-in-Motion. This slope will use the Jupyter Notebook technology as default tool. With this tool, the researcher can write texts, texts with latex format, and algorithms; open data files; plot charts; display tables; show images; etc. Jupyter Notebooks can be used with some main programming languages like Python, Julia, Octave, Matlab, Bash, Scheme, etc.\n",
    "\n",
    "The Algorithms pillar is based on a repository for researchers public his algorithms used in their research. This algorithms with a test dataset can help other researchers in their research that allows more alternatives in their experiences. Other important key about this pillar is the informal peer-review because when other researchers can test some algorithms they can find some problem or exception.\n",
    "\n",
    "The \"main product\" of academic and scientific environments are the Papers. The Papers pillar is based on a collaborative environment that allows researchers of all parts of the world to work together in some research. When a researcher has some interesting in a specific research that can join to this group to sum efforts in that project. This can be used to handle economic limitations.\n",
    "\n",
    "At the conclusion of this paper will be presented the barriers found in this project and future perspectives."
   ]
  },
  {
   "cell_type": "markdown",
   "metadata": {},
   "source": [
    "# References\n",
    "\n",
    "<a name=\"cite-albagli2015open\"/><sup>[^](#ref-1) </sup>Albagli, Sarita and Maciel, Maria Lucia and Abdo, Alexandre Hannud. 2015. _Open Science, open issues_.\n",
    "\n"
   ]
  }
 ],
 "metadata": {
  "kernelspec": {
   "display_name": "Python 3",
   "language": "python",
   "name": "python3"
  },
  "language_info": {
   "codemirror_mode": {
    "name": "ipython",
    "version": 3
   },
   "file_extension": ".py",
   "mimetype": "text/x-python",
   "name": "python",
   "nbconvert_exporter": "python",
   "pygments_lexer": "ipython3",
   "version": "3.5.0"
  }
 },
 "nbformat": 4,
 "nbformat_minor": 0
}
