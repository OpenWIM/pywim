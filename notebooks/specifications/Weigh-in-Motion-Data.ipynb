{
 "cells": [
  {
   "cell_type": "markdown",
   "metadata": {},
   "source": [
    "<!--bibtex\n",
    "\n",
    "@article{enright2011cleaning,\n",
    "  title={Cleaning weigh-in-motion data: Techniques and recommendations},\n",
    "  author={Enright, Bernard and OBrien, Eugene J},\n",
    "  journal={Dublin Institute of Technology, University College Dublin},\n",
    "  year={2011}\n",
    "}\n",
    "\n",
    "@TechReport{tech:cost-323,\n",
    "  Title                    = {Weigh-in-Motion of Road Vehicles: Final Report of the COST 323 Action},\n",
    "  Author                   = {Jacob, Bernard and OBrien, EJ and Jehaes, S},\n",
    "  Year                     = {2002},\n",
    "\n",
    "  Journal                  = {Laboratoire Central des Ponts et Chauss{\\'e}es Publications, Paris}\n",
    "}\n",
    "\n",
    "@article{qu1997traffic,\n",
    "  title={Traffic-load forecasting using weigh-in-motion data},\n",
    "  author={Qu, Tongbin and Lee, Clyde E and Huang, Liren},\n",
    "  journal={Work},\n",
    "  volume={987},\n",
    "  pages={6},\n",
    "  year={1997}\n",
    "}\n",
    "\n",
    "@phdthesis{jiang2009improvements,\n",
    "  title={Improvements in Piezoelectric Sensors and WIM Data Collection Technology},\n",
    "  author={Jiang, Xiaohua},\n",
    "  year={2009},\n",
    "  school={University of Waterloo, Canada}\n",
    "}\n",
    "\n",
    "@inproceedings{burnos2008auto,\n",
    "  title={Auto-calibration and temperature correction of WIM systems},\n",
    "  author={Burnos, Piotr},\n",
    "  booktitle={Proceedings of the International Conference on Heavy Vehicles, 5th International Conference on Weigh-in-Motion of Heavy Vehicles},\n",
    "  pages={300--307},\n",
    "  year={2008}\n",
    "}\n",
    "\n",
    "@techreport{elkins2008development,\n",
    "  title={Development of truck axle Spectra from Oregon Weigh-in-motion Data for Use in Pavement Design and Analysis},\n",
    "  author={Elkins, Lori and Higgins, Christopher},\n",
    "  year={2008}\n",
    "}\n",
    "\n",
    "-->\n",
    "<!--\n",
    "i.e.:\n",
    "<a name=\"ref-1\"/>[(UNDEFINED)](#cite-PER-GRA:2007) or <a name=\"ref-2\"/>[(UNDEFINED)](#cite-Papa2007)\n",
    "-->\n",
    "<!--\n",
    "%%javascript\n",
    "Jupyter.notebook.config.update({\n",
    "    \"load_extensions\":{\"calico-document-tools\":true}\n",
    "})\n",
    "-->"
   ]
  },
  {
   "cell_type": "markdown",
   "metadata": {},
   "source": [
    "# Table of Contents\n",
    "* [1. Weigh-in-Motion Data](#1.-Weigh-in-Motion-Data)\n",
    "\t* [1.1 General Recommendations](#1.1-General-Recommendations)\n",
    "\t* [1.2 Raw Sensor Data](#1.2-Raw-Sensor-Data)\n",
    "\t* [1.3 Estimated Data](#1.3-Estimated-Data)\n",
    "\t* [1.4 Environment Data](#1.4-Environment-Data)\n",
    "\t* [1.5 Data Cleaning](#1.5-Data-Cleaning)\n",
    "\t* [1.6 Statistical Data](#1.6-Statistical-Data)\n",
    "\t* [1.7 Discussions](#1.7-Discussions)\n",
    "\t* [1.8 Conclusions](#1.8-Conclusions)\n",
    "\t* [1.9 Appendix](#1.9-Appendix)\n"
   ]
  },
  {
   "cell_type": "markdown",
   "metadata": {},
   "source": [
    "# 1. Weigh-in-Motion Data"
   ]
  },
  {
   "cell_type": "markdown",
   "metadata": {
    "collapsed": false
   },
   "source": [
    "The Weigh-in-Motion (WIM) Systems can collect data from different kind of devices, like Automatic License Plate Recognition (ALPR), weigh sensors (piezoelectric quartz, piezoelectric ceramic, piezoelectric polymer, etc), temperature sensors, etc. Additionally, the WIM Systems can produce a variety kind of data, like weigh data, classification data, violation information, some analytic reports, etc.\n",
    "\n",
    "In this paper, it will be treat some data structures and caution about these data, presented on the main WIM literatures.\n",
    "\n",
    "The goal of this paper is to collect the main data structure and file structure to standardise the OpenWIM input and output data. The OpenWIM is a open science project for weigh-in-motion research. Its goal is to be a standard platform to be used for WIM researchers in their investigation and to be a collaborative repository about this subject.\n",
    "\n",
    "In the final report of COST 323 <a name=\"ref-3\"/>[(Jacob, OBrien and Jehaes, 2002)](#cite-tech:cost-323), in the Section 12 and Appendix IV, some aspects about data storage, processing, transmission and standard format. This information will be the main guideline to this study.\n",
    "\n",
    "Here will be presentated some recommendations about the data and specifications used to cleaning the data before analysis stage <a name=\"ref-4\"/>[(Enright and OBrien, 2011)](#cite-enright2011cleaning).\n",
    "\n",
    "The data that will be treated here is:\n",
    "\n",
    "* raw sensors data;\n",
    "* estimated data, like speed, gross vehicle weight, axles weight, axles group weight, distance between axles, vehicle classification, etc;\n",
    "* environment data, like temperature, humidity, traffic condition, etc;\n",
    "* statistic data, like relative errors, etc;\n",
    "\n",
    "The general recommendations is treated in section 1.1, covering the general aspects of data and file formats.\n",
    "\n",
    "The output data standard layout from WIM systems, tipically has some attributes, treated on the section 1.2.\n",
    "\n",
    "The section 1.3 has some recommendations to cleaning outpu data.\n",
    "\n",
    "And, finally, the section 1.4 has the conclusion of this study."
   ]
  },
  {
   "cell_type": "markdown",
   "metadata": {},
   "source": [
    "## 1.1 General Recommendations"
   ]
  },
  {
   "cell_type": "markdown",
   "metadata": {},
   "source": [
    "To avoid any confusion while reading the output data files or using these data, it is important to consider some recommendations about the data and files, add some information to improve the completeness of the output data and apply some organization to this output <a name=\"ref-5\"/>[(Jacob, OBrien and Jehaes, 2002)](#cite-tech:cost-323). \n",
    "\n",
    "Recommendations about the data:\n",
    "\n",
    "* the time should registered in hh:mm:ss:cc, up to hundreds of second;\n",
    "* temperature must be in $^{\\circ}$C;\n",
    "* velocity must be in km/h;\n",
    "* all the weights and loads are given in kg, but with a scale division of 100 kg according to the sensitivity and accuracy of the system.\n",
    "\n",
    "The division scales should be, according to the accuracy classes <a name=\"ref-6\"/>[(Jacob, OBrien and Jehaes, 2002)](#cite-tech:cost-323):\n",
    "\n",
    "* Class A: 20 kg;\n",
    "* Class B+: 50 kg;\n",
    "* Class B: 100 kg;\n",
    "* Class C: 200 kg;\n",
    "* Class D+(20): 200 to 500 kg;\n",
    "* Class D: 500 kg.\n",
    "\n",
    "Recommendations about the file structure:\n",
    "\n",
    "* use explicit heading columns;\n",
    "* use units, and, as far as possible, S.I. (System International) must be used;\n",
    "* use a data file in a spreadsheet widly distributed format or a tabulated ASCII format, like CSV;\n",
    "\n",
    "Some information should be present in the output data file to be more completed and offer some detail to future analysis:\n",
    "\n",
    "* environmental conditions during the measurement, like weather, traffic, etc;\n",
    "* calibration coefficient periodically computed by the system, in case of an automatic self-calibration;\n",
    "* reports about any eventual breakdown, failure or maintenace operation of WIM system.\n",
    "\n",
    "The data package should have some identification information about the WIM site:\n",
    "\n",
    "* road identification;\n",
    "* accurate location of the WIM system,\n",
    "* type of sensor and of electronics used;\n",
    "* date of manufacture and of installation of the WIM system;\n",
    "* date of the last calibration;\n",
    "* period of measurement;\n",
    "* owner of the WIM system and contact person in charge of the data collection.\n",
    "\n",
    "To apply some organization to the output data, the first columns should be data common to all vehicle and, the last ones, should be columns when can have variation in the number of axles per vehicle (like axles load, distance between axles, etc)."
   ]
  },
  {
   "cell_type": "markdown",
   "metadata": {},
   "source": [
    "## 1.2 Raw Sensor Data"
   ]
  },
  {
   "cell_type": "markdown",
   "metadata": {},
   "source": [
    "Basically, the first main input data is the raw data sensors. These data can be acquired using a data acquisition device (DAQ) through the analog channels (weigh sensor, temperature sensors, etc) and the digital channels (i.e., inductive loops).\n",
    "\n",
    "The three more wideley piezo-eletric weigh sensors used are piezo-ceramic, piezo-polymer and piezo-electric <a name=\"ref-7\"/>[(Jiang, 2009)](#cite-jiang2009improvements).\n",
    "\n",
    "It is essencial to store the raw sensor data during the investigation about the input signal and to validate weigh methods. In COST 323 <a name=\"ref-8\"/>[(Jacob, OBrien and Jehaes, 2002)](#cite-tech:cost-323), was not found any description about the raw data layout file. By the way, this data can be represented by a matrix using as a first column a index with time instant, it represented by microseconds in floating point format, followed by other columns representing each sensor data (in table 1, a exemple of sensor data structure)."
   ]
  },
  {
   "cell_type": "markdown",
   "metadata": {},
   "source": [
    "## 1.3 Estimated Data"
   ]
  },
  {
   "cell_type": "markdown",
   "metadata": {},
   "source": [
    "The WIM data recorded per vehicle are typically <a name=\"ref-9\"/>[(Enright and OBrien, 2011)](#cite-enright2011cleaning):\n",
    "\n",
    "* vehicle number (unique identifier);\n",
    "* date;\n",
    "* time (when leading axle passes sensor);\n",
    "* speed;\n",
    "* lane;\n",
    "* category (type of truck);\n",
    "* total vehicle length (measured by inductive loop detectors);\n",
    "* gross vehicle weight (GVW);\n",
    "* individual Axle loads, the sum of which is the GVW;\n",
    "* wheelbase;\n",
    "* axle spacings, the sum of which is the wheelbase.\n",
    "\n",
    "In <a name=\"ref-10\"/>[(Qu, Lee and Huang, 1997)](#cite-qu1997traffic) is showed a layout structure used in their research. Where, in the file name standard, these rules were used: \n",
    "\n",
    "* unique file name;\n",
    "* using the “Dsssmmdd.yy” format, where:\n",
    "  - D: Raw data file designator;\n",
    "  - sss: Site number, (i.e., 001 for site 1);\n",
    "  - mm: Month;\n",
    "  - dd: Day;\n",
    "  - .: Extension separator;\n",
    "  - yy: Year.\n",
    "\n",
    "About the ASCII data file format, these rules were used:\n",
    "\n",
    "* After the data file is converted to ASCII code, the file name is changed from “Dssmdd.yy” to “Vsssmmdd.yy”;\n",
    "* An ASCII data file is composed of strings like: 2,3,24,0,0,26,63,28,12,1.2,1.2,12,0.8,0.7,9.4; where:\n",
    "  - 2: Lane used by vehicle (i.e., 1 for right lane, 2 for left lane)\n",
    "  - 3:Month\n",
    "  - 24: Day\n",
    "  - 0: Hour\n",
    "  - 0: Minute\n",
    "  - 26: Second\n",
    "  - 63: Speed of first axle (mi/h)\n",
    "  - 28: Time, used to calculate lateral position (ms)\n",
    "  - 12: Infrared blocked time for the first axle (ms)\n",
    "  - 1.2: Load of the left wheel of the first axle (kip)\n",
    "  - 1.2: Load of the right wheel of the first axle (kip)\n",
    "  - 12: Infrared blocked time for the second axle (ms)\n",
    "  - 0.8: Load of the left wheel of the second axle (kip)\n",
    "  - 0.3: Load of the right wheel of the second axle (kip)\n",
    "  - 9.4: Axle spacing between the first and second axle (ft)\n"
   ]
  },
  {
   "cell_type": "markdown",
   "metadata": {},
   "source": [
    "## 1.4 Environment Data"
   ]
  },
  {
   "cell_type": "markdown",
   "metadata": {},
   "source": [
    "Piezo-ceramic and piezo-polymer sensors are sensible to temperature influence and, for this reason, a temperature sensors is needed to apply some correction method <a name=\"ref-11\"/>[(Burnos, 2008)](#cite-burnos2008auto)."
   ]
  },
  {
   "cell_type": "markdown",
   "metadata": {},
   "source": [
    "## 1.5 Data Cleaning"
   ]
  },
  {
   "cell_type": "markdown",
   "metadata": {
    "collapsed": true
   },
   "source": [
    "Some data cleaning criteria can be used to eliminate some undesireble data in statistical analysis. For example, in <a name=\"ref-12\"/>[(Elkins and Higgins, 2008)](#cite-elkins2008development) is used these criteria:\n",
    "\n",
    "* misplaced characters, such as a letter where a number should be or a number where aletter should be;\n",
    "* an individual axle weight greater than 50 kips;\n",
    "* a speed less than 10 mph;\n",
    "* a speed greater than 99 mph;\n",
    "* a length greater than 200 ft;\n",
    "* the sum of the axle spacings greater than the length of the truck;\n",
    "* the sum of the axle spacings less than 7 ft;\n",
    "* the first axle spacing less than 5 ft."
   ]
  },
  {
   "cell_type": "markdown",
   "metadata": {},
   "source": [
    "## 1.6 Statistical Data"
   ]
  },
  {
   "cell_type": "markdown",
   "metadata": {},
   "source": []
  },
  {
   "cell_type": "markdown",
   "metadata": {},
   "source": [
    "## 1.7 Discussions"
   ]
  },
  {
   "cell_type": "markdown",
   "metadata": {},
   "source": []
  },
  {
   "cell_type": "markdown",
   "metadata": {},
   "source": [
    "## 1.8 Conclusions"
   ]
  },
  {
   "cell_type": "markdown",
   "metadata": {
    "collapsed": true
   },
   "source": []
  },
  {
   "cell_type": "markdown",
   "metadata": {},
   "source": [
    "## 1.9 Appendix"
   ]
  },
  {
   "cell_type": "code",
   "execution_count": 28,
   "metadata": {
    "collapsed": false
   },
   "outputs": [
    {
     "name": "stdout",
     "output_type": "stream",
     "text": [
      "TIME_ss;A1_v;A2_v;D1_v\n",
      "0.0;0.6532256560486067;0.7825516687745769;0.13909638756553477\n",
      "0.0002;0.012080131007545125;0.25936644956461063;0.6130571599469344\n",
      "0.0004;0.49806121790972024;0.04532767667405424;0.11353139841604765\n",
      "0.0006;0.376994232179206;0.1334437849658927;0.4586038409839722\n",
      "0.0008;0.9194422502608218;0.04829203659282266;0.2625550204900562\n",
      "0.001;0.34844307878738023;0.7954767095508017;0.405740947371785\n",
      "0.0012;0.6504015250336552;0.622537816694311;0.4118297153073377\n",
      "0.0014;0.4335708469780257;0.6757066126848909;0.5561231772033712\n",
      "0.0016;0.6029603198010272;0.969571027216345;0.37780169632813\n",
      "0.0018;0.4743284965480635;0.5762469417927556;0.7139057143768299\n",
      "\n"
     ]
    }
   ],
   "source": [
    "from IPython.display import display, HTML\n",
    "import pandas as pd\n",
    "import numpy as np\n",
    "import io\n",
    "\n",
    "data = pd.DataFrame({\n",
    "    'A1_v': np.random.random(10), \n",
    "    'A2_v': np.random.random(10),\n",
    "    'D1_v': np.random.random(10)    \n",
    "})\n",
    "data.index /= 5000\n",
    "data.index.name = 'TIME_ss'\n",
    "\n",
    "buffer = io.StringIO()\n",
    "\n",
    "data.to_csv(buffer, sep=';')\n",
    "buffer.seek(0)\n",
    "\n",
    "print(buffer.read())\n",
    "print('20151231')"
   ]
  },
  {
   "cell_type": "markdown",
   "metadata": {},
   "source": [
    "<!--\n",
    "links:\n",
    "www.is-wim.org/doc/wim_data_cleaning_ie.pdf\n",
    "\n",
    "-->"
   ]
  },
  {
   "cell_type": "markdown",
   "metadata": {},
   "source": [
    "# References\n",
    "\n",
    "<a name=\"cite-tech:cost-323\"/><sup>[^](#ref-3) [^](#ref-5) [^](#ref-6) [^](#ref-8) </sup>Jacob, Bernard and OBrien, EJ and Jehaes, S. 2002. _Weigh-in-Motion of Road Vehicles: Final Report of the COST 323 Action_.\n",
    "\n",
    "<a name=\"cite-enright2011cleaning\"/><sup>[^](#ref-4) [^](#ref-9) </sup>Enright, Bernard and OBrien, Eugene J. 2011. _Cleaning weigh-in-motion data: Techniques and recommendations_.\n",
    "\n",
    "<a name=\"cite-jiang2009improvements\"/><sup>[^](#ref-7) </sup>Jiang, Xiaohua. 2009. _Improvements in Piezoelectric Sensors and WIM Data Collection Technology_.\n",
    "\n",
    "<a name=\"cite-qu1997traffic\"/><sup>[^](#ref-10) </sup>Qu, Tongbin and Lee, Clyde E and Huang, Liren. 1997. _Traffic-load forecasting using weigh-in-motion data_.\n",
    "\n",
    "<a name=\"cite-burnos2008auto\"/><sup>[^](#ref-11) </sup>Burnos, Piotr. 2008. _Auto-calibration and temperature correction of WIM systems_.\n",
    "\n",
    "<a name=\"cite-elkins2008development\"/><sup>[^](#ref-12) </sup>Elkins, Lori and Higgins, Christopher. 2008. _Development of truck axle Spectra from Oregon Weigh-in-motion Data for Use in Pavement Design and Analysis_.\n",
    "\n"
   ]
  }
 ],
 "metadata": {
  "kernelspec": {
   "display_name": "Python 3",
   "language": "python",
   "name": "python3"
  },
  "language_info": {
   "codemirror_mode": {
    "name": "ipython",
    "version": 3
   },
   "file_extension": ".py",
   "mimetype": "text/x-python",
   "name": "python",
   "nbconvert_exporter": "python",
   "pygments_lexer": "ipython3",
   "version": "3.5.2"
  },
  "toc": {
   "colors": {
    "hover_highlight": "#DAA520",
    "running_highlight": "#FF0000",
    "selected_highlight": "#FFD700"
   },
   "moveMenuLeft": true,
   "nav_menu": {
    "height": "210px",
    "width": "252px"
   },
   "navigate_menu": true,
   "number_sections": true,
   "sideBar": true,
   "threshold": 4,
   "toc_cell": false,
   "toc_section_display": "block",
   "toc_window_display": false
  }
 },
 "nbformat": 4,
 "nbformat_minor": 0
}
