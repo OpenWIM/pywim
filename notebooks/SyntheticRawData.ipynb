{
 "cells": [
  {
   "cell_type": "markdown",
   "metadata": {
    "deletable": true,
    "editable": true,
    "toc": "true"
   },
   "source": [
    "# Table of Contents\n",
    " <p><div class=\"lev1 toc-item\"><a href=\"#Synthetic-Raw-Data\" data-toc-modified-id=\"Synthetic-Raw-Data-1\"><span class=\"toc-item-num\">1&nbsp;&nbsp;</span>Synthetic Raw Data</a></div>"
   ]
  },
  {
   "cell_type": "markdown",
   "metadata": {
    "deletable": true,
    "editable": true
   },
   "source": [
    "# Synthetic Raw Data"
   ]
  },
  {
   "cell_type": "code",
   "execution_count": 1,
   "metadata": {
    "collapsed": true,
    "deletable": true,
    "editable": true
   },
   "outputs": [],
   "source": [
    "from IPython.display import display\n",
    "from matplotlib import pyplot as plt\n",
    "\n",
    "import matplotlib\n",
    "import numpy as np\n",
    "import pandas as pd"
   ]
  },
  {
   "cell_type": "code",
   "execution_count": 2,
   "metadata": {
    "collapsed": true,
    "deletable": true,
    "editable": true
   },
   "outputs": [],
   "source": [
    "def gen_slope(width: int=400, c=2.5):\n",
    "    f = lambda x: (-(x)**2)/c\n",
    "\n",
    "    slope = [\n",
    "        f(i) for i in np.linspace(-3, 3, width)\n",
    "    ]\n",
    "    slope -= min(slope)\n",
    "\n",
    "    return slope"
   ]
  },
  {
   "cell_type": "code",
   "execution_count": 3,
   "metadata": {
    "collapsed": true,
    "deletable": true,
    "editable": true
   },
   "outputs": [],
   "source": [
    "def translate_vehicle_layout_to_distance(layout: str):\n",
    "    \"\"\"\n",
    "    :param layout: str ex: -O-O-------O--\n",
    "    :return: tuple with axles distance (m) and vehicle lenght (m)\n",
    "    \n",
    "    \"\"\"\n",
    "    axles_distance = []\n",
    "    _distance = 0\n",
    "    \n",
    "    layout = layout.upper()\n",
    "    \n",
    "    for c in layout:\n",
    "        _distance += 50\n",
    "        if c == 'O':\n",
    "            axles_distance.append(_distance/100)\n",
    "            _distance = 0\n",
    "\n",
    "    return axles_distance[1:], len(layout)*50/100"
   ]
  },
  {
   "cell_type": "code",
   "execution_count": 4,
   "metadata": {
    "collapsed": false,
    "deletable": true,
    "editable": true,
    "scrolled": true
   },
   "outputs": [
    {
     "data": {
      "image/png": "[encoded data removed]",
      "text/plain": [
       "<matplotlib.figure.Figure at 0x7fa49ca828d0>"
      ]
     },
     "metadata": {},
     "output_type": "display_data"
    }
   ],
   "source": [
    "def gen_truck_raw_data(\n",
    "    sample_rate: int, speed: float, vehicle_layout: str, \n",
    "    sensors_distance: list=[],\n",
    "    p_signal_noise: float=10.0\n",
    ") -> pd.DataFrame:\n",
    "    \"\"\"\n",
    "    if sensors_distance is None return just one signal wave\n",
    "    \n",
    "    \"\"\"\n",
    "    axles_distance, vehicle_lenght = (\n",
    "        translate_vehicle_layout_to_distance(vehicle_layout)\n",
    "    )\n",
    "    \n",
    "    sensors_distance.insert(0, 0)\n",
    "    axles_distance.insert(0, 0)\n",
    "    \n",
    "    total_seconds = (sum(sensors_distance)+vehicle_lenght)/speed\n",
    "    total_points = int(sample_rate*total_seconds)+1\n",
    "    total_seconds = total_points/sample_rate  # correction\n",
    "    \n",
    "    footprint = 50/100\n",
    "    \n",
    "    x = np.linspace(0, total_seconds, total_points)\n",
    "    \n",
    "    data = {}\n",
    "    shift = 0.5\n",
    "    Δd_cum = 0\n",
    "    \n",
    "    for i, Δd in enumerate(sensors_distance):\n",
    "        Δd_cum += Δd\n",
    "        y = np.zeros(total_points)\n",
    "        axd_cum = 0\n",
    "        for axd in axles_distance:\n",
    "            axd_cum += axd\n",
    "            j = int(((axd_cum+shift+Δd_cum)*sample_rate)//speed)\n",
    "            #print(axd_cum, j, total_points)\n",
    "            width = int(600//speed)\n",
    "            y[j:j+width] = gen_slope(width, c=2.5)\n",
    "        \n",
    "        y += np.random.random(total_points)/p_signal_noise  # noise\n",
    "        y += np.random.randint(0, 100)/70  # changes baseline\n",
    "        \n",
    "        data[i] = y\n",
    "        \n",
    "    return pd.DataFrame(data, index=x)\n",
    "\n",
    "vehicle_layout = '-O-O------O--'\n",
    "\n",
    "data = gen_truck_raw_data(\n",
    "    sample_rate=2000, \n",
    "    speed=20, \n",
    "    vehicle_layout=vehicle_layout, \n",
    "    sensors_distance=[2, 2],\n",
    "    p_signal_noise=100.0\n",
    ")\n",
    "\n",
    "data.plot()\n",
    "plt.grid(True)\n",
    "plt.show()"
   ]
  }
 ],
 "metadata": {
  "kernelspec": {
   "display_name": "Python 3",
   "language": "python",
   "name": "python3"
  },
  "language_info": {
   "codemirror_mode": {
    "name": "ipython",
    "version": 3
   },
   "file_extension": ".py",
   "mimetype": "text/x-python",
   "name": "python",
   "nbconvert_exporter": "python",
   "pygments_lexer": "ipython3",
   "version": "3.5.3"
  },
  "latex_envs": {
   "LaTeX_envs_menu_present": true,
   "bibliofile": "biblio.bib",
   "cite_by": "apalike",
   "current_citInitial": 1,
   "eqLabelWithNumbers": true,
   "eqNumInitial": 0,
   "labels_anchors": false,
   "latex_user_defs": false,
   "report_style_numbering": false,
   "user_envs_cfg": false
  },
  "nav_menu": {},
  "toc": {
   "colors": {
    "hover_highlight": "#DAA520",
    "running_highlight": "#FF0000",
    "selected_highlight": "#FFD700"
   },
   "moveMenuLeft": true,
   "nav_menu": {
    "height": "30px",
    "width": "252px"
   },
   "navigate_menu": true,
   "number_sections": true,
   "sideBar": true,
   "threshold": 6,
   "toc_cell": true,
   "toc_section_display": "block",
   "toc_window_display": true
  }
 },
 "nbformat": 4,
 "nbformat_minor": 0
}
