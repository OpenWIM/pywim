{
 "cells": [
  {
   "cell_type": "markdown",
   "metadata": {
    "deletable": true,
    "editable": true,
    "toc": "true"
   },
   "source": [
    "# Table of Contents\n",
    " <p><div class=\"lev1 toc-item\"><a href=\"#1.-Weigh-in-Motion-Storage-Raw-Data\" data-toc-modified-id=\"1.-Weigh-in-Motion-Storage-Raw-Data-1\"><span class=\"toc-item-num\">1&nbsp;&nbsp;</span>1. Weigh-in-Motion Storage Raw Data</a></div><div class=\"lev2 toc-item\"><a href=\"#1.1-Standards\" data-toc-modified-id=\"1.1-Standards-11\"><span class=\"toc-item-num\">1.1&nbsp;&nbsp;</span>1.1 Standards</a></div><div class=\"lev3 toc-item\"><a href=\"#1.1.1-File-and-dataset-names\" data-toc-modified-id=\"1.1.1-File-and-dataset-names-111\"><span class=\"toc-item-num\">1.1.1&nbsp;&nbsp;</span>1.1.1 File and dataset names</a></div><div class=\"lev3 toc-item\"><a href=\"#1.1.2-Fields-name-and-extra-information\" data-toc-modified-id=\"1.1.2-Fields-name-and-extra-information-112\"><span class=\"toc-item-num\">1.1.2&nbsp;&nbsp;</span>1.1.2 Fields name and extra information</a></div><div class=\"lev2 toc-item\"><a href=\"#1.2-Algorithms\" data-toc-modified-id=\"1.2-Algorithms-12\"><span class=\"toc-item-num\">1.2&nbsp;&nbsp;</span>1.2 Algorithms</a></div><div class=\"lev3 toc-item\"><a href=\"#1.2.1-Start-up\" data-toc-modified-id=\"1.2.1-Start-up-121\"><span class=\"toc-item-num\">1.2.1&nbsp;&nbsp;</span>1.2.1 Start up</a></div><div class=\"lev3 toc-item\"><a href=\"#1.2.2-Creating-the-file\" data-toc-modified-id=\"1.2.2-Creating-the-file-122\"><span class=\"toc-item-num\">1.2.2&nbsp;&nbsp;</span>1.2.2 Creating the file</a></div><div class=\"lev3 toc-item\"><a href=\"#1.2.3-Reading-the-file\" data-toc-modified-id=\"1.2.3-Reading-the-file-123\"><span class=\"toc-item-num\">1.2.3&nbsp;&nbsp;</span>1.2.3 Reading the file</a></div><div class=\"lev1 toc-item\"><a href=\"#References\" data-toc-modified-id=\"References-2\"><span class=\"toc-item-num\">2&nbsp;&nbsp;</span>References</a></div>"
   ]
  },
  {
   "cell_type": "markdown",
   "metadata": {
    "deletable": true,
    "editable": true
   },
   "source": [
    "# 1. Weigh-in-Motion Storage Raw Data"
   ]
  },
  {
   "cell_type": "markdown",
   "metadata": {
    "deletable": true,
    "editable": true
   },
   "source": [
    "Basically, the first main input data is the raw data sensors. These data can be acquired using a data acquisition device (DAQ) through analog channels (e.g. weigh sensors, temperature sensors, etc) and/or digital channels (e.g., inductive loops).\n",
    "\n",
    "The three more wideley piezo-eletric weigh sensors used are piezo-ceramic, piezo-polymer and piezo-electric <cite data-cite=\"jiang2009improvements\">(Jiang, 2009)</cite>.\n",
    "\n",
    "The storing the raw sensor data allows studying of the input signals and validating weigh methods. In COST 323 <cite data-cite=\"tech:cost-323\">(Jacob et al., 2009)</cite>, it was not found any description about the raw data layout file. By the way, this data can be represented by a matrix using as a first column a index with time instant, it can be represented by microseconds in floating point format and it is followed by other columns representing each sensor data."
   ]
  },
  {
   "cell_type": "markdown",
   "metadata": {
    "deletable": true,
    "editable": true
   },
   "source": [
    "## 1.1 Standards"
   ]
  },
  {
   "cell_type": "markdown",
   "metadata": {
    "deletable": true,
    "editable": true
   },
   "source": [
    "On one file it can be saved any measurements of vehicle's run, e.g. the researcher can create one file per day and on each file all vehicle's run, with respecting to the date of the file. Each vehicle's run should be saved on a specific dataset. The main idea of these standards is promoting a best practice to store and share weigh-in-motion data."
   ]
  },
  {
   "cell_type": "markdown",
   "metadata": {
    "deletable": true,
    "editable": true
   },
   "source": [
    "### 1.1.1 File and dataset names"
   ]
  },
  {
   "cell_type": "markdown",
   "metadata": {
    "deletable": true,
    "editable": true
   },
   "source": [
    "The filename should have be informative, respecting the date, site and lane and the organization type of the dataset. If the file contains measurements from more than one site so the site identification number should be **000**. The same idea should be used to lane identification number. The date field from the filename should contain the initial date time of the period. If it is necessary, inform the initial time too (optional). The standard structure proposed is:\n",
    "\n",
    "```\n",
    "wim_t_sss_ll_yyyymmdd[_hhMMSS]\n",
    "```"
   ]
  },
  {
   "cell_type": "markdown",
   "metadata": {
    "deletable": true,
    "editable": true
   },
   "source": [
    "E.g. **wim_day_001_01_20174904_004936**. When: \n",
    "\n",
    "* ***wim* is a fixed text;\n",
    "* **t** means the organization type of the datasets (i.e. **day** means one file per day,  **week** means one file per week, **month** means one file per month, **year** means one file per year and **full** means a full file with a complete data);\n",
    "* **sss** means site identification number (e.g. 001);\n",
    "* **ll** means lane identification number (e.g. 02);\n",
    "* **yyyy** means the year (e.g. 2012);\n",
    "* **mm** means the mounth (e.g. 12);\n",
    "* **dd** means the day (e.g. 30);\n",
    "* **hh** means the hour (e.g. 23);\n",
    "* **MM** means the minute (e.g. 59);\n",
    "* **SS** means (e.g. 30).\n",
    "\n",
    "For each vehicle's run, it should be created a new dataset. The dataset name should contain site identification number, lane identification number, date and time. The standard structure proposed is:\n",
    "\n",
    "```\n",
    "run_sss_ll_yyyymmdd_hhMMSS\n",
    "```\n",
    "\n",
    "E.g. **run_001_01_20174904_004936**. When **run** is a fixed text. The other parts in dataset name can be explained as in file name standard."
   ]
  },
  {
   "cell_type": "markdown",
   "metadata": {
    "deletable": true,
    "editable": true
   },
   "source": [
    "### 1.1.2 Fields name and extra information"
   ]
  },
  {
   "cell_type": "markdown",
   "metadata": {
    "deletable": true,
    "editable": true
   },
   "source": [
    "Each dataset contains information from signal data. The dataset should contain some extra information to allow data post-processing. The columns on the dataset should be **index** and data from analog channels and digital channels. The standard for column names should be:\n",
    "\n",
    "```\n",
    "{t}{n}\n",
    "```\n",
    "\n",
    "Where {t} means the channel type (i.e. can be set as **a** for analog, or **d** for digital) and {n} means the number of the channel (e.g. **a1**).\n",
    "\n",
    "\n",
    "The main extra information that should be saved on the dataset is:\n",
    "\n",
    "* sample rate (e.g. 5000 [points per second]);\n",
    "* date time (e.g. 2017-49-04 00:49:36);\n",
    "* site id (e.g. 001);\n",
    "* lane id (e.g. 01);\n",
    "* temperature (e.g. 28.5);\n",
    "* license_plate (e.g. AAA9999);\n",
    "* sensor calibration constant (e.g. [0.98, 0.99, 0.75]);\n",
    "* distance between sensors (e.g. [1.0, 1.5, 2.0]);\n",
    "* sensor type (e.g. quartz, polymer, ceramic, etc or mixed);\n",
    "* sensors layout (e.g. |/|\\\\|<|>|=|)\n",
    "* channel configuration (this is a, optional attribute, it is required just when sensor type is mixed, e.g. {'a0': 'polymer', 'a1': 'ceramic'}) "
   ]
  },
  {
   "cell_type": "markdown",
   "metadata": {
    "deletable": true,
    "editable": true
   },
   "source": [
    "## 1.2 Algorithms"
   ]
  },
  {
   "cell_type": "markdown",
   "metadata": {
    "deletable": true,
    "editable": true
   },
   "source": [
    "The algorithms presented here was written in Python language. If it is necessary to use another language would be easy to convert or rewrite this code in any language.\n",
    "\n",
    "Storage Data module should be able to write and read data from hdf5 file with a simple approach, in other words, it should be easy for anybody to manipulate and understand this data using other languages. "
   ]
  },
  {
   "cell_type": "code",
   "execution_count": 1,
   "metadata": {
    "collapsed": false,
    "deletable": true,
    "editable": true
   },
   "outputs": [],
   "source": [
    "from IPython.display import display\n",
    "from datetime import datetime\n",
    "from matplotlib import pyplot as plt\n",
    "from scipy import misc\n",
    "\n",
    "import h5py\n",
    "import json\n",
    "import numpy as np\n",
    "import os\n",
    "import pandas as pd\n",
    "import sys"
   ]
  },
  {
   "cell_type": "markdown",
   "metadata": {
    "deletable": true,
    "editable": true
   },
   "source": [
    "### 1.2.1 Start up"
   ]
  },
  {
   "cell_type": "code",
   "execution_count": 2,
   "metadata": {
    "collapsed": false,
    "deletable": true,
    "editable": true
   },
   "outputs": [],
   "source": [
    "# local\n",
    "sys.path.insert(0, os.path.dirname(os.getcwd()))\n",
    "from pywim.utils.dsp.synthetic_data.sensor_data import gen_truck_raw_data"
   ]
  },
  {
   "cell_type": "code",
   "execution_count": 3,
   "metadata": {
    "collapsed": false,
    "deletable": true,
    "editable": true,
    "scrolled": false
   },
   "outputs": [
    {
     "data": {
      "image/png": "[encoded data removed]",
      "text/plain": [
       "<matplotlib.figure.Figure at 0x7f92c751e5f8>"
      ]
     },
     "metadata": {},
     "output_type": "display_data"
    }
   ],
   "source": [
    "# generates a synthetic data\n",
    "sample_rate = 2000\n",
    "sensors_distance = [1, 2]\n",
    "\n",
    "data = gen_truck_raw_data(\n",
    "    sample_rate=sample_rate, speed=20, vehicle_layout='O--O------O-',\n",
    "    sensors_distance=sensors_distance, p_signal_noise=100.0\n",
    ")\n",
    "\n",
    "data.plot()\n",
    "plt.show()"
   ]
  },
  {
   "cell_type": "code",
   "execution_count": 4,
   "metadata": {
    "collapsed": false,
    "deletable": true,
    "editable": true
   },
   "outputs": [
    {
     "data": {
      "text/html": [
       "<div>\n",
       "<table border=\"1\" class=\"dataframe\">\n",
       "  <thead>\n",
       "    <tr style=\"text-align: right;\">\n",
       "      <th></th>\n",
       "      <th>a0</th>\n",
       "      <th>a1</th>\n",
       "      <th>a2</th>\n",
       "    </tr>\n",
       "  </thead>\n",
       "  <tbody>\n",
       "    <tr>\n",
       "      <th>0.000000</th>\n",
       "      <td>0.389480</td>\n",
       "      <td>1.276618</td>\n",
       "      <td>0.106032</td>\n",
       "    </tr>\n",
       "    <tr>\n",
       "      <th>0.000501</th>\n",
       "      <td>0.392524</td>\n",
       "      <td>1.274657</td>\n",
       "      <td>0.108751</td>\n",
       "    </tr>\n",
       "    <tr>\n",
       "      <th>0.001001</th>\n",
       "      <td>0.391638</td>\n",
       "      <td>1.277125</td>\n",
       "      <td>0.101377</td>\n",
       "    </tr>\n",
       "    <tr>\n",
       "      <th>0.001502</th>\n",
       "      <td>0.388019</td>\n",
       "      <td>1.276151</td>\n",
       "      <td>0.101875</td>\n",
       "    </tr>\n",
       "    <tr>\n",
       "      <th>0.002002</th>\n",
       "      <td>0.391389</td>\n",
       "      <td>1.279297</td>\n",
       "      <td>0.106091</td>\n",
       "    </tr>\n",
       "  </tbody>\n",
       "</table>\n",
       "</div>"
      ],
      "text/plain": [
       "                a0        a1        a2\n",
       "0.000000  0.389480  1.276618  0.106032\n",
       "0.000501  0.392524  1.274657  0.108751\n",
       "0.001001  0.391638  1.277125  0.101377\n",
       "0.001502  0.388019  1.276151  0.101875\n",
       "0.002002  0.391389  1.279297  0.106091"
      ]
     },
     "execution_count": 4,
     "metadata": {},
     "output_type": "execute_result"
    }
   ],
   "source": [
    "data.head()"
   ]
  },
  {
   "cell_type": "markdown",
   "metadata": {
    "deletable": true,
    "editable": true
   },
   "source": [
    "### 1.2.2 Creating the file"
   ]
  },
  {
   "cell_type": "code",
   "execution_count": 5,
   "metadata": {
    "collapsed": false,
    "deletable": true,
    "editable": true
   },
   "outputs": [
    {
     "name": "stdout",
     "output_type": "stream",
     "text": [
      "wim_day_001_01_20170324\n"
     ]
    }
   ],
   "source": [
    "date_time = datetime.now()\n",
    "site_id = '001'\n",
    "lane_id = '01'\n",
    "collection_type = 'day'  # stored per day\n",
    "\n",
    "f_id = 'wim_{}_{}_{}_{}'.format(\n",
    "    collection_type, site_id, lane_id, \n",
    "    date_time.strftime('%Y%m%d')\n",
    ")\n",
    "\n",
    "f = h5py.File('/tmp/{}.h5'.format(f_id), 'w')\n",
    "print(f_id)"
   ]
  },
  {
   "cell_type": "code",
   "execution_count": 6,
   "metadata": {
    "collapsed": false,
    "deletable": true,
    "editable": true
   },
   "outputs": [
    {
     "name": "stdout",
     "output_type": "stream",
     "text": [
      "run_001_01_20172824_232845\n"
     ]
    }
   ],
   "source": [
    "dset_id = 'run_{}_{}_{}'.format(\n",
    "    site_id, lane_id, date_time.strftime('%Y%M%d_%H%M%S')\n",
    ")\n",
    "print(dset_id)"
   ]
  },
  {
   "cell_type": "code",
   "execution_count": 7,
   "metadata": {
    "collapsed": true,
    "deletable": true,
    "editable": true
   },
   "outputs": [],
   "source": [
    "dset = f.create_dataset(\n",
    "    dset_id, shape=(data.shape[0],),\n",
    "    dtype=np.dtype([\n",
    "        (k, float) for k in ['index'] + list(data.keys())\n",
    "    ])\n",
    ")\n",
    "\n",
    "dset['index'] = data.index\n",
    "\n",
    "for k in data.keys():\n",
    "    dset[k] = data[k]"
   ]
  },
  {
   "cell_type": "code",
   "execution_count": 8,
   "metadata": {
    "collapsed": false,
    "deletable": true,
    "editable": true
   },
   "outputs": [
    {
     "data": {
      "text/plain": [
       "True"
      ]
     },
     "execution_count": 8,
     "metadata": {},
     "output_type": "execute_result"
    }
   ],
   "source": [
    "# check if all values are the same\n",
    "df = pd.DataFrame(dset[tuple(data.keys())], index=dset['index'])\n",
    "np.all(df == data)"
   ]
  },
  {
   "cell_type": "code",
   "execution_count": 9,
   "metadata": {
    "collapsed": false,
    "deletable": true,
    "editable": true
   },
   "outputs": [],
   "source": [
    "dset.attrs['sample_rate'] = sample_rate\n",
    "dset.attrs['date_time'] = date_time.strftime('%Y-%M-%d %H:%M:%S')\n",
    "dset.attrs['site_id'] = site_id\n",
    "dset.attrs['lane_id'] = lane_id\n",
    "dset.attrs['temperature'] = 28.5\n",
    "dset.attrs['license_plate'] = 'AAA9999'  # license plate number\n",
    "dset.attrs['calibration_constant'] = [0.98, 0.99, 0.75]\n",
    "dset.attrs['sensors_distance'] = sensors_distance\n",
    "dset.attrs['sensor_type'] = 'mixed'\n",
    "dset.attrs['sensors_layout'] = '|||'\n",
    "dset.attrs['channel_configuration'] =  json.dumps({\n",
    "    'a0': 'polymer', 'a1': 'ceramic', 'a2': 'polymer'\n",
    "})\n",
    "\n",
    "# flush its data to disk and close\n",
    "f.flush()\n",
    "f.close()"
   ]
  },
  {
   "cell_type": "markdown",
   "metadata": {
    "deletable": true,
    "editable": true
   },
   "source": [
    "### 1.2.3 Reading the file"
   ]
  },
  {
   "cell_type": "code",
   "execution_count": 10,
   "metadata": {
    "collapsed": false,
    "deletable": true,
    "editable": true
   },
   "outputs": [
    {
     "name": "stdout",
     "output_type": "stream",
     "text": [
      "/tmp/wim_day_001_01_20170324.h5\n"
     ]
    }
   ],
   "source": [
    "print('/tmp/{}.h5'.format(f_id))\n",
    "\n",
    "f = h5py.File('/tmp/{}.h5'.format(f_id), 'r')"
   ]
  },
  {
   "cell_type": "code",
   "execution_count": 11,
   "metadata": {
    "collapsed": false,
    "deletable": true,
    "editable": true
   },
   "outputs": [
    {
     "name": "stdout",
     "output_type": "stream",
     "text": [
      "\n",
      "================================================================================\n",
      "run_001_01_20172824_232845\n",
      "================================================================================\n",
      "sample_rate:         \t2000\n",
      "date_time:           \t2017-28-24 23:28:45\n",
      "site_id:             \t001\n",
      "lane_id:             \t01\n",
      "temperature:         \t28.5\n",
      "license_plate:       \tAAA9999\n",
      "calibration_constant:\t[ 0.98  0.99  0.75]\n",
      "sensors_distance:    \t[0 1 2]\n",
      "sensor_type:         \tmixed\n",
      "sensors_layout:      \t|||\n",
      "channel_configuration:\t{\"a1\": \"ceramic\", \"a0\": \"polymer\", \"a2\": \"polymer\"}\n"
     ]
    },
    {
     "data": {
      "image/png": "[encoded data removed]",
      "text/plain": [
       "<matplotlib.figure.Figure at 0x7f92c51e3940>"
      ]
     },
     "metadata": {},
     "output_type": "display_data"
    }
   ],
   "source": [
    "for dset_id in f.keys():\n",
    "    dset = f[dset_id]\n",
    "    \n",
    "    paddle = len(max(dset.attrs, key=lambda v: len(v)))\n",
    "    \n",
    "    print('')\n",
    "    print('='*80)\n",
    "    print(dset_id)\n",
    "    print('='*80)\n",
    "    \n",
    "    for k in dset.attrs:\n",
    "        print('{}:'.format(k).ljust(paddle, ' '), dset.attrs[k], sep='\\t')\n",
    "        \n",
    "    pd.DataFrame(dset[dset.dtype.names[1:]], index=dset['index']).plot()\n",
    "    plt.show()\n",
    "    \n",
    "    # f.__delitem__(dset_id)"
   ]
  },
  {
   "cell_type": "code",
   "execution_count": 12,
   "metadata": {
    "collapsed": true,
    "deletable": true,
    "editable": true
   },
   "outputs": [],
   "source": [
    "f.flush()\n",
    "f.close()"
   ]
  },
  {
   "cell_type": "markdown",
   "metadata": {
    "deletable": true,
    "editable": true
   },
   "source": [
    "# References\n",
    "\n"
   ]
  },
  {
   "cell_type": "markdown",
   "metadata": {
    "deletable": true,
    "editable": true
   },
   "source": [
    "Jiang, X. (2009). Improvements in Piezoelectric Sensors and WIM Data Collection Technology (Doctoral dissertation, University of Waterloo, Canada).\n",
    "\n",
    "Jacob, B., OBrien, E. J., & Jehaes, S. (2002). Weigh-in-Motion of Road Vehicles: Final Report of the COST 323 Action. Laboratoire Central des Ponts et Chaussées Publications, Paris."
   ]
  }
 ],
 "metadata": {
  "kernelspec": {
   "display_name": "Python 3",
   "language": "python",
   "name": "python3"
  },
  "language_info": {
   "codemirror_mode": {
    "name": "ipython",
    "version": 3
   },
   "file_extension": ".py",
   "mimetype": "text/x-python",
   "name": "python",
   "nbconvert_exporter": "python",
   "pygments_lexer": "ipython3",
   "version": "3.5.3"
  },
  "latex_envs": {
   "LaTeX_envs_menu_present": true,
   "bibliofile": "biblio.bib",
   "cite_by": "number",
   "current_citInitial": 1,
   "eqLabelWithNumbers": true,
   "eqNumInitial": 1,
   "labels_anchors": true,
   "latex_user_defs": false,
   "report_style_numbering": false,
   "user_envs_cfg": false
  },
  "toc": {
   "colors": {
    "hover_highlight": "#DAA520",
    "running_highlight": "#FF0000",
    "selected_highlight": "#FFD700"
   },
   "moveMenuLeft": true,
   "nav_menu": {
    "height": "84px",
    "width": "252px"
   },
   "navigate_menu": true,
   "number_sections": false,
   "sideBar": true,
   "threshold": 4,
   "toc_cell": true,
   "toc_section_display": "block",
   "toc_window_display": true
  }
 },
 "nbformat": 4,
 "nbformat_minor": 2
}
