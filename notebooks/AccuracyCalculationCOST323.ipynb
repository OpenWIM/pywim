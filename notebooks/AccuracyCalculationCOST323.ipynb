{
 "cells": [
  {
   "cell_type": "markdown",
   "metadata": {
    "toc": "true"
   },
   "source": [
    "# Table of Contents\n",
    " <p><div class=\"lev1\"><a href=\"#Accuracy-Calculation-COST-323\"><span class=\"toc-item-num\">1&nbsp;&nbsp;</span>Accuracy Calculation COST 323</a></div><div class=\"lev1\"><a href=\"#References\"><span class=\"toc-item-num\">2&nbsp;&nbsp;</span>References</a></div>"
   ]
  },
  {
   "cell_type": "markdown",
   "metadata": {},
   "source": [
    "# Accuracy Calculation COST 323"
   ]
  },
  {
   "cell_type": "markdown",
   "metadata": {},
   "source": [
    "The accuracy calculation can be consulting in \\cite{jacob1998european}."
   ]
  },
  {
   "cell_type": "code",
   "execution_count": 1,
   "metadata": {
    "collapsed": true
   },
   "outputs": [],
   "source": [
    "import numpy as np\n",
    "import pandas as pd"
   ]
  },
  {
   "cell_type": "code",
   "execution_count": 2,
   "metadata": {
    "collapsed": false
   },
   "outputs": [
    {
     "data": {
      "text/html": [
       "<div>\n",
       "<table border=\"1\" class=\"dataframe\">\n",
       "  <thead>\n",
       "    <tr style=\"text-align: right;\">\n",
       "      <th></th>\n",
       "      <th>A</th>\n",
       "      <th>B+</th>\n",
       "      <th>B</th>\n",
       "      <th>C</th>\n",
       "      <th>D+</th>\n",
       "      <th>D</th>\n",
       "      <th>E</th>\n",
       "    </tr>\n",
       "  </thead>\n",
       "  <tbody>\n",
       "    <tr>\n",
       "      <th>gwv</th>\n",
       "      <td>5</td>\n",
       "      <td>7</td>\n",
       "      <td>10</td>\n",
       "      <td>15</td>\n",
       "      <td>20</td>\n",
       "      <td>25</td>\n",
       "      <td>inf</td>\n",
       "    </tr>\n",
       "    <tr>\n",
       "      <th>load_group_axles</th>\n",
       "      <td>7</td>\n",
       "      <td>10</td>\n",
       "      <td>13</td>\n",
       "      <td>18</td>\n",
       "      <td>23</td>\n",
       "      <td>28</td>\n",
       "      <td>inf</td>\n",
       "    </tr>\n",
       "    <tr>\n",
       "      <th>load_single_axle</th>\n",
       "      <td>8</td>\n",
       "      <td>11</td>\n",
       "      <td>15</td>\n",
       "      <td>20</td>\n",
       "      <td>25</td>\n",
       "      <td>30</td>\n",
       "      <td>inf</td>\n",
       "    </tr>\n",
       "    <tr>\n",
       "      <th>load_axle_of_group</th>\n",
       "      <td>10</td>\n",
       "      <td>14</td>\n",
       "      <td>20</td>\n",
       "      <td>25</td>\n",
       "      <td>30</td>\n",
       "      <td>35</td>\n",
       "      <td>inf</td>\n",
       "    </tr>\n",
       "  </tbody>\n",
       "</table>\n",
       "</div>"
      ],
      "text/plain": [
       "                     A  B+   B   C  D+   D    E\n",
       "gwv                  5   7  10  15  20  25  inf\n",
       "load_group_axles     7  10  13  18  23  28  inf\n",
       "load_single_axle     8  11  15  20  25  30  inf\n",
       "load_axle_of_group  10  14  20  25  30  35  inf"
      ]
     },
     "execution_count": 2,
     "metadata": {},
     "output_type": "execute_result"
    }
   ],
   "source": [
    "# 'A', 'B+', 'B', 'C', 'D+', 'D', 'E'\n",
    "tolerance_table = pd.DataFrame(\n",
    "    [], columns=('A', 'B+', 'B', 'C', 'D+', 'D', 'E'),\n",
    "    index=(\n",
    "        'gwv', 'load_group_axles', 'load_single_axle', 'load_axle_of_group'\n",
    "    )\n",
    ")\n",
    "tolerance_table.loc['gwv',:] = [5, 7, 10, 15, 20, 25, np.inf]\n",
    "tolerance_table.loc['load_group_axles',:] = [7, 10, 13, 18, 23, 28, np.inf]\n",
    "tolerance_table.loc['load_single_axle',:] = [8, 11, 15, 20, 25, 30, np.inf]\n",
    "tolerance_table.loc['load_axle_of_group',:] = [10, 14, 20, 25, 30, 35, np.inf]\n",
    "tolerance_table"
   ]
  },
  {
   "cell_type": "code",
   "execution_count": 3,
   "metadata": {
    "collapsed": false
   },
   "outputs": [
    {
     "data": {
      "text/plain": [
       "'\\nTest plan\\n\"r1\"=full repeatability\\n\"r2\"=extended repeatability\\n\"rr1\"=limited reproducibility\\n\"rr2\"=full reproducibility\\n\\nEnv\\n\"I\"=environmental repeatability\\n\"II\"=environmental limited reproducibility\\n\"III\"=environmental full reproducibility\\n'"
      ]
     },
     "execution_count": 3,
     "metadata": {},
     "output_type": "execute_result"
    }
   ],
   "source": [
    "# conditions \n",
    "\"\"\"\n",
    "Test plan\n",
    "\"r1\"=full repeatability\n",
    "\"r2\"=extended repeatability\n",
    "\"rr1\"=limited reproducibility\n",
    "\"rr2\"=full reproducibility\n",
    "\n",
    "Env\n",
    "\"I\"=environmental repeatability\n",
    "\"II\"=environmental limited reproducibility\n",
    "\"III\"=environmental full reproducibility\n",
    "\"\"\""
   ]
  },
  {
   "cell_type": "markdown",
   "metadata": {},
   "source": [
    "# References\n",
    "\n",
    "(<a id=\"cit-jacob1998european\" href=\"#call-jacob1998european\">JACOB and O'Brien, 1998</a>) B. JACOB and E.J. O'Brien, ``_European Specification on Weigh-In-Motion of Road Vehicles (COST323)_'', SECOND EUROPEAN CONFERENCE ON WEIGH-IN-MOTION OF ROAD VEHICLES, HELD LISBON, PORTUGAL 14-16 SEPTEMBER 1998,  1998.\n",
    "\n"
   ]
  }
 ],
 "metadata": {
  "kernelspec": {
   "display_name": "Python 3",
   "language": "python",
   "name": "python3"
  },
  "language_info": {
   "codemirror_mode": {
    "name": "ipython",
    "version": 3
   },
   "file_extension": ".py",
   "mimetype": "text/x-python",
   "name": "python",
   "nbconvert_exporter": "python",
   "pygments_lexer": "ipython3",
   "version": "3.5.2"
  },
  "latex_envs": {
   "bibliofile": "biblio.bib",
   "cite_by": "apalike",
   "current_citInitial": 1,
   "eqLabelWithNumbers": true,
   "eqNumInitial": 0
  },
  "nav_menu": {},
  "toc": {
   "navigate_menu": true,
   "number_sections": true,
   "sideBar": true,
   "threshold": 6,
   "toc_cell": true,
   "toc_section_display": "block",
   "toc_window_display": true
  }
 },
 "nbformat": 4,
 "nbformat_minor": 0
}
