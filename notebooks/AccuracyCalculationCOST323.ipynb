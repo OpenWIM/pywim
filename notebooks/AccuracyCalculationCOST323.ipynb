{
 "cells": [
  {
   "cell_type": "markdown",
   "metadata": {
    "toc": "true"
   },
   "source": [
    "# Table of Contents\n",
    " <p><div class=\"lev1\"><a href=\"#Accuracy-Calculation-COST-323\"><span class=\"toc-item-num\">1&nbsp;&nbsp;</span>Accuracy Calculation COST 323</a></div><div class=\"lev2\"><a href=\"#Description-of-the-accuracy-calculation-sheet\"><span class=\"toc-item-num\">1.1&nbsp;&nbsp;</span>Description of the accuracy calculation sheet</a></div><div class=\"lev3\"><a href=\"#Accuracy-class-by-type-weigh-(Column-G)\"><span class=\"toc-item-num\">1.1.1&nbsp;&nbsp;</span>Accuracy class by type weigh (Column G)</a></div><div class=\"lev3\"><a href=\"#d-(Column-H)\"><span class=\"toc-item-num\">1.1.2&nbsp;&nbsp;</span>d (Column H)</a></div><div class=\"lev3\"><a href=\"#d_min-(Column-I)\"><span class=\"toc-item-num\">1.1.3&nbsp;&nbsp;</span>d_min (Column I)</a></div><div class=\"lev3\"><a href=\"#\\pi-(Column-L)\"><span class=\"toc-item-num\">1.1.4&nbsp;&nbsp;</span>\\pi (Column L)</a></div><div class=\"lev3\"><a href=\"#\\pi-(Column-M)\"><span class=\"toc-item-num\">1.1.5&nbsp;&nbsp;</span>\\pi (Column M)</a></div><div class=\"lev3\"><a href=\"#\\pi-'-(Column-M)\"><span class=\"toc-item-num\">1.1.6&nbsp;&nbsp;</span>\\pi ' (Column M)</a></div><div class=\"lev3\"><a href=\"#accepted-class-(Column-O)\"><span class=\"toc-item-num\">1.1.7&nbsp;&nbsp;</span>accepted class (Column O)</a></div><div class=\"lev2\"><a href=\"#Source\"><span class=\"toc-item-num\">1.2&nbsp;&nbsp;</span>Source</a></div><div class=\"lev3\"><a href=\"#Tolarance-classes\"><span class=\"toc-item-num\">1.2.1&nbsp;&nbsp;</span>Tolarance classes</a></div><div class=\"lev2\"><a href=\"#Test\"><span class=\"toc-item-num\">1.3&nbsp;&nbsp;</span>Test</a></div><div class=\"lev1\"><a href=\"#References\"><span class=\"toc-item-num\">2&nbsp;&nbsp;</span>References</a></div>"
   ]
  },
  {
   "cell_type": "markdown",
   "metadata": {},
   "source": [
    "# Accuracy Calculation COST 323"
   ]
  },
  {
   "cell_type": "markdown",
   "metadata": {},
   "source": [
    "The accuracy calculation can be consulting in \\cite{jacob1998european}. In the \n",
    "accuracy calculation sheet provided by COST 323, we can extract the follow\n",
    "information:"
   ]
  },
  {
   "cell_type": "markdown",
   "metadata": {},
   "source": [
    "## Description of the accuracy calculation sheet\n",
    "\n",
    "Initial verification: (Yes=1, No=0)\n",
    "\n",
    "Sheet Fields (the header columns stay in line 8 and 9 into the sheet): \n",
    "* SYSTEM/Entity (column A/Index), \n",
    "* Number  (column B) [Input], \n",
    "* Identified (column C) [Input], \n",
    "* Mean (column D) [Input], \n",
    "* Std deviat (column E) [Input], \n",
    "* p_o (column F), \n",
    "* Class (column G), \n",
    "* d (column H), \n",
    "* d_min (column I) [Input/Minimization Solver Output],\n",
    "* d_c (column J),\n",
    "* class (column K), \n",
    "* p (column L) - related to column I, \n",
    "* p (column M) -  related to column H, \n",
    "* p' (column N), \n",
    "* Accepted (column O)\n",
    "\n",
    "Test plan\n",
    "\n",
    "* \"r1\"=full repeatability\n",
    "* \"r2\"=extended repeatability\n",
    "* \"rr1\"=limited reproducibility\n",
    "* \"rr2\"=full reproducibility\n",
    "\n",
    "Env\n",
    "\n",
    "* \"I\"=environmental repeatability\n",
    "* \"II\"=environmental limited reproducibility\n",
    "* \"III\"=environmental full reproducibility\n",
    "\n",
    "Description:\n",
    "\n",
    "* Number: number of measured vehicles/axles/etc. which are valid and kept for the\n",
    "test (may be less than those of the test plan)\n",
    "* Identified: percentage of the total number of measured vehicles/axles/etc. \n",
    "which are valid and kept for the test (enter by hand)\n",
    "* Mean, Std Deviation: mean and standard deviation of the individual relative \n",
    "errors with respect to the static reference loads\n",
    "* p_o: minimum required level of confidence within the class tolerance d, i.e. \n",
    "of the confidence interval [-d;d]\n",
    "* d_min: for each criterion, tolerance (half width of the confidence interval) \n",
    "which exactly corresponds to the minimum required level of confidence p_o\n",
    "* d_c: \"best acceptable interpolated class for the given criterion\", i.e. \n",
    "tolerance on the GW which exactly corresponds to the d_min of the given \n",
    "criterion"
   ]
  },
  {
   "cell_type": "markdown",
   "metadata": {},
   "source": [
    "### Accuracy class by type weigh (Column G)\n",
    "\n",
    "gwv class calculation\n",
    "\n",
    "$\n",
    "=IF(K9<=5;CONCATENATE(\"A(\";TEXT(K9;\"0\");\")\");\\\\\n",
    "  IF(K9<=7;CONCATENATE(\"B+(\";TEXT(K9;\"0\");\")\");\\\\\n",
    "    IF(K9<=10;CONCATENATE(\"B(\";TEXT(K9;\"0\");\")\");\\\\\n",
    "      IF(K9<=15;CONCATENATE(\"C(\";TEXT(K9;\"0\");\")\");\\\\\n",
    "        IF(K9<=20;CONCATENATE(\"D+(\";TEXT(K9;\"0\");\")\");\\\\\n",
    "          IF(K9<=25;CONCATENATE(\"D(\";TEXT(K9;\"0\");\")\");\\\\\n",
    "            CONCATENATE(\"E(\";TEXT(K9;\"0\");\")\")))))))\n",
    "$\n",
    "\n",
    "load group of axles\n",
    "\n",
    "$\n",
    "=IF(K10<=5;CONCATENATE(\"A(\";TEXT(K10;\"0\");\")\");\\\\\n",
    "  IF(K10<=7;CONCATENATE(\"B+(\";TEXT(K10;\"0\");\")\");\\\\\n",
    "    IF(K10<=10;CONCATENATE(\"B(\";TEXT(K10;\"0\");\")\");\\\\\n",
    "      IF(K10<=15;CONCATENATE(\"C(\";TEXT(K10;\"0\");\")\");\\\\\n",
    "        IF(K10<=20;CONCATENATE(\"D+(\";TEXT(K10;\"0\");\")\");\\\\\n",
    "          IF(K10<=25;CONCATENATE(\"D(\";TEXT(K10;\"0\");\")\");\\\\\n",
    "            CONCATENATE(\"E(\";TEXT(K10;\"0\");\")\")))))))\n",
    "$\n",
    "\n",
    "single axle\n",
    "\n",
    "$\n",
    "=IF(K11<=5;CONCATENATE(\"A(\";TEXT(K11;\"0\");\")\");\\\\\n",
    "  IF(K11<=7;CONCATENATE(\"B+(\";TEXT(K11;\"0\");\")\");\\\\\n",
    "    IF(K11<=10;CONCATENATE(\"B(\";TEXT(K11;\"0\");\")\");\\\\\n",
    "      IF(K11<=15;CONCATENATE(\"C(\";TEXT(K11;\"0\");\")\");\\\\\n",
    "        IF(K11<=20;CONCATENATE(\"D+(\";TEXT(K11;\"0\");\")\");\\\\\n",
    "          IF(K11<=25;CONCATENATE(\"D(\";TEXT(K11;\"0\");\")\");\\\\\n",
    "            CONCATENATE(\"E(\";TEXT(K11;\"0\");\")\")))))))\n",
    "$\n",
    "\n",
    "axle of group\n",
    "\n",
    "$\n",
    "=IF(K12<=5;CONCATENATE(\"A(\";TEXT(K12;\"0\");\")\");\\\\\n",
    "  IF(K12<=7;CONCATENATE(\"B+(\";TEXT(K12;\"0\");\")\");\\\\\n",
    "    IF(K12<=10;CONCATENATE(\"B(\";TEXT(K12;\"0\");\")\");\\\\\n",
    "      IF(K12<=15;CONCATENATE(\"C(\";TEXT(K12;\"0\");\")\");\\\\\n",
    "        IF(K12<=20;CONCATENATE(\"D+(\";TEXT(K12;\"0\");\")\");\\\\\n",
    "          IF(K12<=25;CONCATENATE(\"D(\";TEXT(K12;\"0\");\")\");\\\\\n",
    "            CONCATENATE(\"E(\";TEXT(K12;\"0\");\")\")))))))\n",
    "$"
   ]
  },
  {
   "cell_type": "markdown",
   "metadata": {},
   "source": [
    "### d (Column H)\n",
    "\n",
    "gwv \n",
    "\n",
    "$=K9*IF(M$4=0;1;0,8)$\n",
    "\n",
    "group of axles\n",
    "\n",
    "$\n",
    "=IF(K10<7;K10/0,7;IF(K10<30;K10+3;K10*1,1))*IF(M$4=0;1;0,8)\n",
    "$\n",
    "\n",
    "single axle\n",
    "\n",
    "$\n",
    "=IF(K11<10;K11*(85-K11)/50;IF(K11<25;K11+5;6*K11/5))*IF(M$4=0;1;0,8)\n",
    "$\n",
    "\n",
    "axle of group\n",
    "\n",
    "$\n",
    "=IF(K12<10;2*K12;IF(K12<25;K12+10;6*K12/5+5))*IF(M$4=0;1;0,8)\n",
    "$"
   ]
  },
  {
   "cell_type": "markdown",
   "metadata": {},
   "source": [
    "### d_min (Column I)\n",
    "\n",
    "This field can be set by hand or using a minimization function.\n",
    "\n",
    "gwv\n",
    "\n",
    "group of axles\n",
    "\n",
    "single axle\n",
    "\n",
    "axle of a group"
   ]
  },
  {
   "cell_type": "markdown",
   "metadata": {},
   "source": [
    "### \\pi (Column L)\n",
    "\n",
    "gwv\n",
    "\n",
    "$=100*(1-TDIST((I9/E9-D9/E9)-TINV(0,05;B9-1)/SQRT(B9);B9-1;1)-TDIST((I9/E9+D9/E9)-TINV(0,05;B9-1)/SQRT(B9);B9-1;1))$\n",
    "\n",
    "group of axles\n",
    "\n",
    "$=100*(1-TDIST((I10/E10-D10/E10)-TINV(0,05;B10-1)/SQRT(B10);B10-1;1)-TDIST((I10/E10+D10/E10)-TINV(0,05;B10-1)/SQRT(B10);B10-1;1))$\n",
    "\n",
    "single axle\n",
    "\n",
    "$=100*(1-TDIST((I11/E11-D11/E11)-TINV(0,05;B11-1)/SQRT(B11);B11-1;1)-TDIST((I11/E11+D11/E11)-TINV(0,05;B11-1)/SQRT(B11);B11-1;1))$\n",
    "\n",
    "axle of a group\n",
    "\n",
    "$=100*(1-TDIST((I12/E12-D12/E12)-TINV(0,05;B12-1)/SQRT(B12);B12-1;1)-TDIST((I12/E12+D12/E12)-TINV(0,05;B12-1)/SQRT(B12);B12-1;1))$"
   ]
  },
  {
   "cell_type": "markdown",
   "metadata": {},
   "source": [
    "### \\pi (Column M)\n",
    "\n",
    "gwv\n",
    "\n",
    "$=100*(1-TDIST((H9/E9-D9/E9)-TINV(0,05;B9-1)/SQRT(B9);B9-1;1)-TDIST((H9/E9+D9/E9)-TINV(0,05;B9-1)/SQRT(B9);B9-1;1))$\n",
    "\n",
    "group of axles\n",
    "\n",
    "$=100*(1-TDIST((H10/E10-D10/E10)-TINV(0,05;B10-1)/SQRT(B10);B10-1;1)-TDIST((H10/E10+D10/E10)-TINV(0,05;B10-1)/SQRT(B10);B10-1;1))$\n",
    "\n",
    "single axle\n",
    "\n",
    "$=100*(1-TDIST((H11/E11-D11/E11)-TINV(0,05;B11-1)/SQRT(B11);B11-1;1)-TDIST((H11/E11+D11/E11)-TINV(0,05;B11-1)/SQRT(B11);B11-1;1))$\n",
    "\n",
    "axle of a group\n",
    "\n",
    "$=100*(1-TDIST((H12/E12-D12/E12)-TINV(0,05;B12-1)/SQRT(B12);B12-1;1)-TDIST((H12/E12+D12/E12)-TINV(0,05;B12-1)/SQRT(B12);B12-1;1))$"
   ]
  },
  {
   "cell_type": "markdown",
   "metadata": {},
   "source": [
    "### accepted class (Column O)\n",
    "\n",
    "$O12 = MAX(K11:K12)$\n",
    "\n",
    "$\n",
    "=IF(O12<=5;CONCATENATE(\"A(\";TEXT(O12;\"0\");\")\");\\\\\n",
    "  IF(O12<=7;CONCATENATE(\"B+(\";TEXT(O12;\"0\");\")\");\\\\\n",
    "    IF(O12<=10;CONCATENATE(\"B(\";TEXT(O12;\"0\");\")\");\\\\\n",
    "      IF(O12<=15;CONCATENATE(\"C(\";TEXT(O12;\"0\");\")\");\\\\\n",
    "        IF(O12<=20;CONCATENATE(\"D+(\";TEXT(O12;\"0\");\")\");\\\\\n",
    "          IF(O12<=25;CONCATENATE(\"D(\";TEXT(O12;\"0\");\")\");\\\\\n",
    "            CONCATENATE(\"E(\";TEXT(O12;\"0\");\")\")))))))\n",
    "$"
   ]
  },
  {
   "cell_type": "markdown",
   "metadata": {},
   "source": [
    "## Source"
   ]
  },
  {
   "cell_type": "code",
   "execution_count": 1,
   "metadata": {
    "collapsed": true
   },
   "outputs": [],
   "source": [
    "from scipy.stats import norm\n",
    "from scipy import stats\n",
    "\n",
    "import numpy as np\n",
    "import pandas as pd"
   ]
  },
  {
   "cell_type": "code",
   "execution_count": 2,
   "metadata": {
    "collapsed": false
   },
   "outputs": [],
   "source": [
    "def iif(cond, on_true, on_false):\n",
    "    return (on_false, on_true)[cond is True]"
   ]
  },
  {
   "cell_type": "code",
   "execution_count": 25,
   "metadata": {
    "collapsed": true
   },
   "outputs": [],
   "source": [
    "def calc_min_confidence(\n",
    "    data: pd.DataFrame, test_plan: str, env_condition: str\n",
    "):\n",
    "    \"\"\"\n",
    "    =100*(2*NORMDIST(\\\\\n",
    "      IF(\\$B\\$5=\"r1\";2,675/IF(\\$D\\$5=\"III\";1,1;IF(\\$D\\$5=\"II\";1,05;1));\\\\\n",
    "      IF(\\$B\\$5=\"r2\";2,36/IF(\\$D\\$5=\"III\";1,1;IF(\\$D\\$5=\"II\";1,05;1));\\\\\n",
    "        IF(\\$B\\$5=\"RR1\";2,155/IF(\\$D\\$5=\"III\";1,1;IF(\\$D\\$5=\"II\";1,05;1));\\\\\n",
    "          IF(\\$B\\$5=\"RR2\";2/IF(\\$D\\$5=\"III\";1,1;IF(\\$D\\$5=\"II\";1,05;1));0))\\\\\n",
    "      ))-TINV(0,05;B9-1)/SQRT(B9);0;1;TRUE())-1)\n",
    "      \n",
    "    \"\"\"\n",
    "    # data = data.copy()\n",
    "    \n",
    "    def _calc(v: float):\n",
    "        \n",
    "        if env_condition=='I':\n",
    "            _v = 1 \n",
    "        elif env_condition=='II':\n",
    "            _v = 1.05\n",
    "        elif env_condition=='III':\n",
    "            _v = 1.1 \n",
    "        else:\n",
    "            raise Exception('INVALID_ENV_CONDITION')\n",
    "                      \n",
    "        if test_plan=='R1':\n",
    "            _v = 2.675/_v\n",
    "        elif test_plan=='R2':\n",
    "            _v = 2.36/_v\n",
    "        elif test_plan=='RR1':\n",
    "            _v = 2.155/_v\n",
    "        elif test_plan=='RR2': \n",
    "            _v = 2/_v\n",
    "        else:\n",
    "            raise Exception('INVALID_TEST_PLAN')\n",
    "\n",
    "        # in isf, the probabity is divided by 2 \n",
    "        # because in excel TINV is 2-side tail\n",
    "        return 100 * (\n",
    "            2 * norm.cdf(_v-stats.t.isf(0.05/2, v-1)/np.sqrt(v), 0, 1)-1\n",
    "        )\n",
    "    \n",
    "    test_plan = test_plan.upper()\n",
    "    env_condition = env_condition.upper()\n",
    "    \n",
    "    data['min_confidence'] = data.number.apply(_calc)\n",
    "    \n",
    "    return data"
   ]
  },
  {
   "cell_type": "code",
   "execution_count": 44,
   "metadata": {
    "collapsed": true
   },
   "outputs": [],
   "source": [
    "def calc_best_acceptable_class(\n",
    "    data: pd.DataFrame, initial_verification: bool\n",
    ") -> pd.DataFrame:\n",
    "    \"\"\"\n",
    "    \n",
    "    \"\"\"\n",
    "    # data = data.copy()\n",
    "    # IF(M$4=0;1;1,25)\n",
    "    factor = 1.25 if initial_verification else 1\n",
    "    best_acceptable_class = []\n",
    "    \n",
    "    # gwv \n",
    "    # =I9∗IF(M$4=0;1;1,25)\n",
    "    best_acceptable_class.append(data.loc['gwv', 'min_tolerance'] * factor)\n",
    "    \n",
    "    # group of axles \n",
    "    # =IF(I10<10; 0,7∗I10∗IF(M$4=0;1;1,25); I10∗IF(M$4=0;1;1,25)−3)\n",
    "    v = data.loc['group_axles', 'min_tolerance']\n",
    "    v = v*0.7*factor if v < 10 else v*factor-3\n",
    "    best_acceptable_class.append(v)\n",
    "    \n",
    "    # single axle\n",
    "    # =IF(I11<15;\n",
    "    #     I11∗(I11∗IF(M$4=0;1;1,25)+97)∗IF(M$4=0;1;1,25)/168;\n",
    "    #     I11∗IF(M$4=0;1;1,25)−5)\n",
    "    v = data.loc['single_axle', 'min_tolerance']\n",
    "    v = v*(v*factor+97)*factor/168 if v < 15 else v*factor-5\n",
    "    best_acceptable_class.append(v)\n",
    "    \n",
    "    # axle of a group\n",
    "    # =IF(I12<20;I12∗IF(M$4=0;1;1,25)/2;(I12∗IF(M$4=0;1;1,25)−10))\n",
    "    v = data.loc['axle_group', 'min_tolerance']\n",
    "    v = v*factor/2 if v < 20 else v*factor-10\n",
    "    best_acceptable_class.append(v)\n",
    "    \n",
    "    data['best_acceptable_class'] = best_acceptable_class\n",
    "    return data"
   ]
  },
  {
   "cell_type": "code",
   "execution_count": 54,
   "metadata": {
    "collapsed": false
   },
   "outputs": [],
   "source": [
    "def calc_classification(data: pd.DataFrame) -> pd.DataFrame:\n",
    "    \"\"\"\n",
    "    gwv\n",
    "    =IF(OR(J9<=5;J9>7);ROUNDUP((J9/5);0)*5;7)\n",
    "    \n",
    "    group of axles\n",
    "    =IF(OR(J10<=5;J10>7);ROUNDUP((J10/5);0)*5;7)\n",
    "\n",
    "    single axle\n",
    "    =IF(OR(J11<=5;J11>7);ROUNDUP((J11/5);0)*5;7)\n",
    "\n",
    "    axle of a group\n",
    "    =IF(OR(J12<=5;J12>7);ROUNDUP((J12/5);0)*5;7)\n",
    "    \"\"\"\n",
    "    def _calc(v):\n",
    "        # =IF(OR(J9<=5;J9>7);ROUNDUP((J9/5);0)*5;7)\n",
    "        return np.ceil(v/5)*5 if v<=5 or v>7 else 7\n",
    "    \n",
    "    data['class_value'] = data.best_acceptable_class.apply(_calc)\n",
    "    \n",
    "    return data"
   ]
  },
  {
   "cell_type": "markdown",
   "metadata": {},
   "source": [
    "### Tolarance classes "
   ]
  },
  {
   "cell_type": "code",
   "execution_count": 4,
   "metadata": {
    "collapsed": false
   },
   "outputs": [
    {
     "data": {
      "text/html": [
       "<div>\n",
       "<table border=\"1\" class=\"dataframe\">\n",
       "  <thead>\n",
       "    <tr style=\"text-align: right;\">\n",
       "      <th></th>\n",
       "      <th>A</th>\n",
       "      <th>B+</th>\n",
       "      <th>B</th>\n",
       "      <th>C</th>\n",
       "      <th>D+</th>\n",
       "      <th>D</th>\n",
       "      <th>E</th>\n",
       "    </tr>\n",
       "  </thead>\n",
       "  <tbody>\n",
       "    <tr>\n",
       "      <th>gwv</th>\n",
       "      <td>5</td>\n",
       "      <td>7</td>\n",
       "      <td>10</td>\n",
       "      <td>15</td>\n",
       "      <td>20</td>\n",
       "      <td>25</td>\n",
       "      <td>inf</td>\n",
       "    </tr>\n",
       "    <tr>\n",
       "      <th>load_group_axles</th>\n",
       "      <td>7</td>\n",
       "      <td>10</td>\n",
       "      <td>13</td>\n",
       "      <td>18</td>\n",
       "      <td>23</td>\n",
       "      <td>28</td>\n",
       "      <td>inf</td>\n",
       "    </tr>\n",
       "    <tr>\n",
       "      <th>load_single_axle</th>\n",
       "      <td>8</td>\n",
       "      <td>11</td>\n",
       "      <td>15</td>\n",
       "      <td>20</td>\n",
       "      <td>25</td>\n",
       "      <td>30</td>\n",
       "      <td>inf</td>\n",
       "    </tr>\n",
       "    <tr>\n",
       "      <th>load_axle_of_group</th>\n",
       "      <td>10</td>\n",
       "      <td>14</td>\n",
       "      <td>20</td>\n",
       "      <td>25</td>\n",
       "      <td>30</td>\n",
       "      <td>35</td>\n",
       "      <td>inf</td>\n",
       "    </tr>\n",
       "  </tbody>\n",
       "</table>\n",
       "</div>"
      ],
      "text/plain": [
       "                     A  B+   B   C  D+   D    E\n",
       "gwv                  5   7  10  15  20  25  inf\n",
       "load_group_axles     7  10  13  18  23  28  inf\n",
       "load_single_axle     8  11  15  20  25  30  inf\n",
       "load_axle_of_group  10  14  20  25  30  35  inf"
      ]
     },
     "execution_count": 4,
     "metadata": {},
     "output_type": "execute_result"
    }
   ],
   "source": [
    "# 'A', 'B+', 'B', 'C', 'D+', 'D', 'E'\n",
    "tolerance_table = pd.DataFrame(\n",
    "    [], columns=('A', 'B+', 'B', 'C', 'D+', 'D', 'E'),\n",
    "    index=(\n",
    "        'gwv', 'load_group_axles', 'load_single_axle', 'load_axle_group'\n",
    "    )\n",
    ")\n",
    "tolerance_table.loc['gwv',:] = [5, 7, 10, 15, 20, 25, np.inf]\n",
    "tolerance_table.loc['load_group_axles',:] = [7, 10, 13, 18, 23, 28, np.inf]\n",
    "tolerance_table.loc['load_single_axle',:] = [8, 11, 15, 20, 25, 30, np.inf]\n",
    "tolerance_table.loc['load_axle_group',:] = [10, 14, 20, 25, 30, 35, np.inf]\n",
    "tolerance_table"
   ]
  },
  {
   "cell_type": "markdown",
   "metadata": {
    "collapsed": true
   },
   "source": [
    "## Test"
   ]
  },
  {
   "cell_type": "code",
   "execution_count": 39,
   "metadata": {
    "collapsed": false
   },
   "outputs": [
    {
     "data": {
      "text/html": [
       "<div>\n",
       "<table border=\"1\" class=\"dataframe\">\n",
       "  <thead>\n",
       "    <tr style=\"text-align: right;\">\n",
       "      <th></th>\n",
       "      <th>number</th>\n",
       "      <th>valid_measures</th>\n",
       "      <th>mean</th>\n",
       "      <th>std</th>\n",
       "    </tr>\n",
       "  </thead>\n",
       "  <tbody>\n",
       "    <tr>\n",
       "      <th>gwv</th>\n",
       "      <td>86</td>\n",
       "      <td>96.2</td>\n",
       "      <td>-2.27</td>\n",
       "      <td>6.09</td>\n",
       "    </tr>\n",
       "    <tr>\n",
       "      <th>group_axles</th>\n",
       "      <td>66</td>\n",
       "      <td>96.2</td>\n",
       "      <td>1.00</td>\n",
       "      <td>8.44</td>\n",
       "    </tr>\n",
       "    <tr>\n",
       "      <th>single_axle</th>\n",
       "      <td>197</td>\n",
       "      <td>95.5</td>\n",
       "      <td>-3.92</td>\n",
       "      <td>7.66</td>\n",
       "    </tr>\n",
       "    <tr>\n",
       "      <th>axle_group</th>\n",
       "      <td>169</td>\n",
       "      <td>96.0</td>\n",
       "      <td>-0.19</td>\n",
       "      <td>10.07</td>\n",
       "    </tr>\n",
       "  </tbody>\n",
       "</table>\n",
       "</div>"
      ],
      "text/plain": [
       "             number  valid_measures  mean    std\n",
       "gwv              86            96.2 -2.27   6.09\n",
       "group_axles      66            96.2  1.00   8.44\n",
       "single_axle     197            95.5 -3.92   7.66\n",
       "axle_group      169            96.0 -0.19  10.07"
      ]
     },
     "execution_count": 39,
     "metadata": {},
     "output_type": "execute_result"
    }
   ],
   "source": [
    "test_plan = 'RR2'\n",
    "env_condition = 'I'\n",
    "initial_verification = False\n",
    "\n",
    "cols = ['number', 'valid_measures', 'mean', 'std']\n",
    "indx = ['gwv', 'group_axles', 'single_axle', 'axle_group']\n",
    "\n",
    "data = pd.DataFrame(\n",
    "    [[86, 96.2, -2.27, 6.09],\n",
    "     [66, 96.2, 1.00, 8.44],\n",
    "     [197, 95.5, -3.92, 7.66],\n",
    "     [169, 96.0, -0.19, 10.07]],\n",
    "    columns=cols, index=indx\n",
    ")\n",
    "\n",
    "data"
   ]
  },
  {
   "cell_type": "code",
   "execution_count": 40,
   "metadata": {
    "collapsed": false
   },
   "outputs": [
    {
     "name": "stdout",
     "output_type": "stream",
     "text": [
      "Minimum confidence calcuation Test ... SUCCESS\n"
     ]
    }
   ],
   "source": [
    "print('Minimum confidence calcuation Test', end=' ... ')\n",
    "\n",
    "calc_min_confidence(\n",
    "    data=data, \n",
    "    test_plan=test_plan, \n",
    "    env_condition=env_condition\n",
    ")\n",
    "\n",
    "np.testing.assert_allclose(\n",
    "    data['min_confidence'].values,\n",
    "    np.array([92.6, 92.1, 93.7, 93.5]),\n",
    "    atol=0.05  # becouse round function\n",
    ")\n",
    "print('SUCCESS')"
   ]
  },
  {
   "cell_type": "code",
   "execution_count": 43,
   "metadata": {
    "collapsed": false
   },
   "outputs": [
    {
     "name": "stdout",
     "output_type": "stream",
     "text": [
      "Best acceptable class Test ... SUCCESS\n"
     ]
    }
   ],
   "source": [
    "print('Best acceptable class Test', end=' ... ')\n",
    "data['min_tolerance'] = [13.0, 17.2, 17.1, 20.3]\n",
    "\n",
    "calc_best_acceptable_class(\n",
    "    data=data, initial_verification=initial_verification\n",
    ")\n",
    "\n",
    "np.testing.assert_allclose(\n",
    "    data['best_acceptable_class'].values,\n",
    "    np.array([13.0, 14.2, 12.1, 10.3]),\n",
    "    atol=0.05  # because round function\n",
    ")\n",
    "print('SUCCESS')"
   ]
  },
  {
   "cell_type": "code",
   "execution_count": 56,
   "metadata": {
    "collapsed": false
   },
   "outputs": [
    {
     "name": "stdout",
     "output_type": "stream",
     "text": [
      "Class Test ... SUCCESS\n"
     ]
    }
   ],
   "source": [
    "print('Class Test', end=' ... ')\n",
    "\n",
    "calc_classification(data=data)\n",
    "\n",
    "np.testing.assert_allclose(\n",
    "    data['class_value'].values,\n",
    "    np.array([15, 15, 15, 15])\n",
    ")\n",
    "print('SUCCESS')"
   ]
  },
  {
   "cell_type": "code",
   "execution_count": null,
   "metadata": {
    "collapsed": true
   },
   "outputs": [],
   "source": [
    "print('Class Test', end=' ... ')\n",
    "\n",
    "calc_classification(data=data)\n",
    "\n",
    "np.testing.assert_allclose(\n",
    "    data['class_value'].values,\n",
    "    np.array([15, 15, 15, 15])\n",
    ")\n",
    "print('SUCCESS')"
   ]
  },
  {
   "cell_type": "markdown",
   "metadata": {},
   "source": [
    "# References\n",
    "\n",
    "(<a id=\"cit-jacob1998european\" href=\"#call-jacob1998european\">JACOB and O'Brien, 1998</a>) B. JACOB and E.J. O'Brien, ``_European Specification on Weigh-In-Motion of Road Vehicles (COST323)_'', SECOND EUROPEAN CONFERENCE ON WEIGH-IN-MOTION OF ROAD VEHICLES, HELD LISBON, PORTUGAL 14-16 SEPTEMBER 1998,  1998.\n",
    "\n"
   ]
  }
 ],
 "metadata": {
  "kernelspec": {
   "display_name": "Python 3",
   "language": "python",
   "name": "python3"
  },
  "language_info": {
   "codemirror_mode": {
    "name": "ipython",
    "version": 3
   },
   "file_extension": ".py",
   "mimetype": "text/x-python",
   "name": "python",
   "nbconvert_exporter": "python",
   "pygments_lexer": "ipython3",
   "version": "3.5.2"
  },
  "latex_envs": {
   "bibliofile": "biblio.bib",
   "cite_by": "apalike",
   "current_citInitial": 1,
   "eqLabelWithNumbers": true,
   "eqNumInitial": 0
  },
  "nav_menu": {},
  "toc": {
   "navigate_menu": true,
   "number_sections": true,
   "sideBar": true,
   "threshold": 6,
   "toc_cell": true,
   "toc_section_display": "block",
   "toc_window_display": true
  }
 },
 "nbformat": 4,
 "nbformat_minor": 0
}
