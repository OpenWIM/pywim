{
 "cells": [
  {
   "cell_type": "markdown",
   "metadata": {
    "deletable": true,
    "editable": true,
    "toc": "true"
   },
   "source": [
    "# Table of Contents\n",
    " <p><div class=\"lev1 toc-item\"><a href=\"#Accuracy-Calculation-COST-323\" data-toc-modified-id=\"Accuracy-Calculation-COST-323-1\"><span class=\"toc-item-num\">1&nbsp;&nbsp;</span>Accuracy Calculation COST 323</a></div><div class=\"lev2 toc-item\"><a href=\"#Description-of-the-accuracy-calculation-sheet\" data-toc-modified-id=\"Description-of-the-accuracy-calculation-sheet-11\"><span class=\"toc-item-num\">1.1&nbsp;&nbsp;</span>Description of the accuracy calculation sheet</a></div><div class=\"lev2 toc-item\"><a href=\"#Source\" data-toc-modified-id=\"Source-12\"><span class=\"toc-item-num\">1.2&nbsp;&nbsp;</span>Source</a></div><div class=\"lev3 toc-item\"><a href=\"#Tolarance-classes\" data-toc-modified-id=\"Tolarance-classes-121\"><span class=\"toc-item-num\">1.2.1&nbsp;&nbsp;</span>Tolarance classes</a></div><div class=\"lev2 toc-item\"><a href=\"#Test\" data-toc-modified-id=\"Test-13\"><span class=\"toc-item-num\">1.3&nbsp;&nbsp;</span>Test</a></div><div class=\"lev1 toc-item\"><a href=\"#References\" data-toc-modified-id=\"References-2\"><span class=\"toc-item-num\">2&nbsp;&nbsp;</span>References</a></div>"
   ]
  },
  {
   "cell_type": "markdown",
   "metadata": {
    "deletable": true,
    "editable": true
   },
   "source": [
    "# Accuracy Calculation COST 323"
   ]
  },
  {
   "cell_type": "markdown",
   "metadata": {
    "deletable": true,
    "editable": true
   },
   "source": [
    "The accuracy calculation can be consulting in \\cite{jacob1998european}. In the \n",
    "accuracy calculation sheet provided by COST 323, we can extract the follow\n",
    "information:"
   ]
  },
  {
   "cell_type": "markdown",
   "metadata": {
    "deletable": true,
    "editable": true
   },
   "source": [
    "## Description of the accuracy calculation sheet\n",
    "\n",
    "Initial verification: (Yes=1, No=0)\n",
    "\n",
    "Sheet Fields (the header columns stay in line 8 and 9 into the sheet): \n",
    "\n",
    "* SYSTEM/Entity (column A/Index), \n",
    "* Number  (column B) [Input], \n",
    "* Identified (column C) [Input], \n",
    "* Mean (column D) [Input], \n",
    "* Std deviat (column E) [Input], \n",
    "* p_o (column F), \n",
    "* Class (column G), \n",
    "* d (column H), \n",
    "* d_min (column I) [Input/Minimization Solver Output],\n",
    "* d_c (column J),\n",
    "* class (column K), \n",
    "* p (column L) - related to column I, \n",
    "* p (column M) -  related to column H, \n",
    "* p' (column N), \n",
    "* Accepted (column O)\n",
    "\n",
    "Test plan\n",
    "\n",
    "* \"r1\"=full repeatability\n",
    "* \"r2\"=extended repeatability\n",
    "* \"rr1\"=limited reproducibility\n",
    "* \"rr2\"=full reproducibility\n",
    "\n",
    "Env\n",
    "\n",
    "* \"I\"=environmental repeatability\n",
    "* \"II\"=environmental limited reproducibility\n",
    "* \"III\"=environmental full reproducibility\n",
    "\n",
    "Description:\n",
    "\n",
    "* Number: number of measured vehicles/axles/etc. which are valid and kept for the\n",
    "test (may be less than those of the test plan)\n",
    "* Identified: percentage of the total number of measured vehicles/axles/etc. \n",
    "which are valid and kept for the test (enter by hand)\n",
    "* Mean, Std Deviation: mean and standard deviation of the individual relative \n",
    "errors with respect to the static reference loads\n",
    "* p_o: minimum required level of confidence within the class tolerance d, i.e. \n",
    "of the confidence interval [-d;d]\n",
    "* d_min: for each criterion, tolerance (half width of the confidence interval) \n",
    "which exactly corresponds to the minimum required level of confidence p_o\n",
    "* d_c: \"best acceptable interpolated class for the given criterion\", i.e. \n",
    "tolerance on the GW which exactly corresponds to the d_min of the given \n",
    "criterion"
   ]
  },
  {
   "cell_type": "markdown",
   "metadata": {
    "deletable": true,
    "editable": true
   },
   "source": [
    "## Source"
   ]
  },
  {
   "cell_type": "code",
   "execution_count": 1,
   "metadata": {
    "collapsed": true,
    "deletable": true,
    "editable": true
   },
   "outputs": [],
   "source": [
    "from matplotlib import pyplot as plt\n",
    "from scipy.stats import norm\n",
    "from scipy.optimize import root, fsolve\n",
    "from scipy import stats\n",
    "\n",
    "import numba as nb\n",
    "import numpy as np\n",
    "import pandas as pd\n",
    "\n",
    "%matplotlib inline"
   ]
  },
  {
   "cell_type": "code",
   "execution_count": 2,
   "metadata": {
    "collapsed": true,
    "deletable": true,
    "editable": true
   },
   "outputs": [],
   "source": [
    "def calc_min_confidence(\n",
    "    data: pd.DataFrame, test_plan: str, env_condition: str\n",
    "):\n",
    "    \"\"\"\n",
    "    =100*(2*NORMDIST(\\\\\n",
    "      IF(\\$B\\$5=\"r1\";2,675/IF(\\$D\\$5=\"III\";1,1;IF(\\$D\\$5=\"II\";1,05;1));\\\\\n",
    "      IF(\\$B\\$5=\"r2\";2,36/IF(\\$D\\$5=\"III\";1,1;IF(\\$D\\$5=\"II\";1,05;1));\\\\\n",
    "        IF(\\$B\\$5=\"RR1\";2,155/IF(\\$D\\$5=\"III\";1,1;IF(\\$D\\$5=\"II\";1,05;1));\\\\\n",
    "          IF(\\$B\\$5=\"RR2\";2/IF(\\$D\\$5=\"III\";1,1;IF(\\$D\\$5=\"II\";1,05;1));0))\\\\\n",
    "      ))-TINV(0,05;B9-1)/SQRT(B9);0;1;TRUE())-1)\n",
    "      \n",
    "    \"\"\"\n",
    "    # data = data.copy()\n",
    "    \n",
    "    def _calc(v: float):\n",
    "        \n",
    "        if env_condition=='I':\n",
    "            _v = 1 \n",
    "        elif env_condition=='II':\n",
    "            _v = 1.05\n",
    "        elif env_condition=='III':\n",
    "            _v = 1.1 \n",
    "        else:\n",
    "            raise Exception('INVALID_ENV_CONDITION')\n",
    "                      \n",
    "        if test_plan=='R1':\n",
    "            _v = 2.675/_v\n",
    "        elif test_plan=='R2':\n",
    "            _v = 2.36/_v\n",
    "        elif test_plan=='RR1':\n",
    "            _v = 2.155/_v\n",
    "        elif test_plan=='RR2': \n",
    "            _v = 2/_v\n",
    "        else:\n",
    "            raise Exception('INVALID_TEST_PLAN')\n",
    "\n",
    "        # in isf, the probabity is divided by 2 \n",
    "        # because in excel TINV is 2-side tail\n",
    "        return 100 * (\n",
    "            2 * norm.cdf(_v-stats.t.isf(0.05/2, v-1)/np.sqrt(v), 0, 1)-1\n",
    "        )\n",
    "    \n",
    "    test_plan = test_plan.upper()\n",
    "    env_condition = env_condition.upper()\n",
    "    \n",
    "    data['min_confidence'] = data.number.apply(_calc)\n",
    "    \n",
    "    return data"
   ]
  },
  {
   "cell_type": "code",
   "execution_count": 3,
   "metadata": {
    "collapsed": true,
    "deletable": true,
    "editable": true
   },
   "outputs": [],
   "source": [
    "def calc_best_acceptable_class(\n",
    "    data: pd.DataFrame, initial_verification: bool\n",
    ") -> pd.DataFrame:\n",
    "    \"\"\"\n",
    "    \n",
    "    \"\"\"\n",
    "    # data = data.copy()\n",
    "    # IF(M$4=0;1;1,25)\n",
    "    factor = 1.25 if initial_verification else 1\n",
    "    best_acceptable_class = []\n",
    "    \n",
    "    # gwv \n",
    "    # =I9∗IF(M$4=0;1;1,25)\n",
    "    best_acceptable_class.append(data.loc['gwv', 'min_tolerance'] * factor)\n",
    "    \n",
    "    # group of axles \n",
    "    # =IF(I10<10; 0,7∗I10∗IF(M$4=0;1;1,25); I10∗IF(M$4=0;1;1,25)−3)\n",
    "    v = data.loc['group_axles', 'min_tolerance']\n",
    "    v = v*0.7*factor if v < 10 else v*factor-3\n",
    "    best_acceptable_class.append(v)\n",
    "    \n",
    "    # single axle\n",
    "    # =IF(I11<15;\n",
    "    #     I11∗(I11∗IF(M$4=0;1;1,25)+97)∗IF(M$4=0;1;1,25)/168;\n",
    "    #     I11∗IF(M$4=0;1;1,25)−5)\n",
    "    v = data.loc['single_axle', 'min_tolerance']\n",
    "    v = v*(v*factor+97)*factor/168 if v < 15 else v*factor-5\n",
    "    best_acceptable_class.append(v)\n",
    "    \n",
    "    # axle of a group\n",
    "    # =IF(I12<20;I12∗IF(M$4=0;1;1,25)/2;(I12∗IF(M$4=0;1;1,25)−10))\n",
    "    v = data.loc['axle_group', 'min_tolerance']\n",
    "    v = v*factor/2 if v < 20 else v*factor-10\n",
    "    best_acceptable_class.append(v)\n",
    "    \n",
    "    data['best_acceptable_class'] = best_acceptable_class\n",
    "    return data"
   ]
  },
  {
   "cell_type": "code",
   "execution_count": 4,
   "metadata": {
    "collapsed": false,
    "deletable": true,
    "editable": true
   },
   "outputs": [],
   "source": [
    "def calc_classification(data: pd.DataFrame) -> pd.DataFrame:\n",
    "    \"\"\"\n",
    "    =IF(OR(J9<=5;J9>7);ROUNDUP((J9/5);0)*5;7)\n",
    "\n",
    "    \"\"\"\n",
    "    def _calc(v: float):\n",
    "        # =IF(OR(J9<=5;J9>7);ROUNDUP((J9/5);0)*5;7)\n",
    "        return np.ceil(v/5)*5 if v<=5 or v>7 else 7\n",
    "    \n",
    "    data['class_value'] = data.best_acceptable_class.apply(_calc)\n",
    "    \n",
    "    return data"
   ]
  },
  {
   "cell_type": "code",
   "execution_count": 5,
   "metadata": {
    "collapsed": true,
    "deletable": true,
    "editable": true
   },
   "outputs": [],
   "source": [
    "def resolve_class_name(data: pd.DataFrame) -> pd.DataFrame:\n",
    "    \"\"\"\n",
    "    =IF(K9<=5;CONCATENATE(\"A(\";TEXT(K9;\"0\");\")\");\\\\\n",
    "      IF(K9<=7;CONCATENATE(\"B+(\";TEXT(K9;\"0\");\")\");\\\\\n",
    "        IF(K9<=10;CONCATENATE(\"B(\";TEXT(K9;\"0\");\")\");\\\\\n",
    "          IF(K9<=15;CONCATENATE(\"C(\";TEXT(K9;\"0\");\")\");\\\\\n",
    "            IF(K9<=20;CONCATENATE(\"D+(\";TEXT(K9;\"0\");\")\");\\\\\n",
    "              IF(K9<=25;CONCATENATE(\"D(\";TEXT(K9;\"0\");\")\");\\\\\n",
    "                CONCATENATE(\"E(\";TEXT(K9;\"0\");\")\")))))))\n",
    "    \"\"\"\n",
    "    def _resolve(v: int):\n",
    "        c = (\n",
    "            'A' if v<=5 else\n",
    "            'B+' if v<=7 else\n",
    "            'B' if v<=10 else\n",
    "            'C' if v<=15 else\n",
    "            'D+' if v<=20 else\n",
    "            'D' if v<=25 else\n",
    "            'E'\n",
    "        )\n",
    "        return '%s(%s)' % (c, int(v))\n",
    "        \n",
    "    data['class_name'] = data.class_value.apply(_resolve)\n",
    "    return data\n"
   ]
  },
  {
   "cell_type": "code",
   "execution_count": 6,
   "metadata": {
    "collapsed": true,
    "deletable": true,
    "editable": true
   },
   "outputs": [],
   "source": [
    "def calc_delta(data: pd.DataFrame, initial_verification: bool):\n",
    "    \"\"\"\n",
    "    \n",
    "    \"\"\"\n",
    "    d = []\n",
    "    # factor\n",
    "    # IF(M$4=0;1;0,8)\n",
    "    factor = 0.8 if initial_verification else 1\n",
    "    \n",
    "    # gwv \n",
    "    # =K9*IF(M$4=0;1;0,8)\n",
    "    d.append(data.loc['gwv', 'class_value']*factor)\n",
    "    \n",
    "    # group of axles\n",
    "    # =IF(K10<7;K10/0,7;IF(K10<30;K10+3;K10*1,1))*IF(M$4=0;1;0,8)\n",
    "    v = data.loc['group_axles', 'class_value']\n",
    "    v = v/0.7 if v<7 else v+3 if v<30 else v*1.1 \n",
    "    d.append(v*factor)\n",
    "\n",
    "    # single axle\n",
    "    # =IF(K11<10;K11*(85-K11)/50;IF(K11<25;K11+5;6*K11/5))*IF(M$4=0;1;0,8)\n",
    "    v = data.loc['single_axle', 'class_value']\n",
    "    v = v*(85-v)/50 if v<10 else v+5 if v<25 else 6*v/5\n",
    "    d.append(v*factor)\n",
    "\n",
    "    # axle of group\n",
    "    # =IF(K12<10;2*K12;IF(K12<25;K12+10;6*K12/5+5))*IF(M$4=0;1;0,8)\n",
    "    v = data.loc['axle_group', 'class_value']\n",
    "    v = 2*v if v<10 else v+10 if v<25 else 6*v/5+5\n",
    "    d.append(v*factor)\n",
    "    \n",
    "    data['d'] = d\n",
    "    return d"
   ]
  },
  {
   "cell_type": "code",
   "execution_count": 7,
   "metadata": {
    "collapsed": false,
    "deletable": true,
    "editable": true
   },
   "outputs": [],
   "source": [
    "def calc_confidence_level(data: pd.DataFrame) -> pd.DataFrame:\n",
    "    \"\"\"\n",
    "    * Number  (column B) [Input], \n",
    "    * Identified (column C) [Input], \n",
    "    * Mean (column D) [Input], \n",
    "    * Std deviat (column E) [Input], \n",
    "    * p_o (column F), \n",
    "    * Class (column G), \n",
    "    * d (column H), \n",
    "    * d_min (column I) [Input/Minimization Solver Output],\n",
    "    * d_c (column J),\n",
    "    * class (column K), \n",
    "    * p (column L) - related to column I, \n",
    "    * p (column M) -  related to column H, \n",
    "    * Accepted (column O)\n",
    "    \n",
    "    =100*(\n",
    "        1-TDIST((H9/E9-D9/E9)-TINV(0,05;B9-1)/SQRT(B9);B9-1;1)-\n",
    "        TDIST((H9/E9+D9/E9)-TINV(0,05;B9-1)/SQRT(B9);B9-1;1)\n",
    "    )\n",
    "    \"\"\"\n",
    "    def _calc(v: pd.Series) -> pd.Series:\n",
    "        return 100*(\n",
    "            1-stats.t.sf(\n",
    "                (v.d/v['std']-v['mean']/v['std'])-stats.t.isf(0.05/2, v.number-1)/\n",
    "                np.sqrt(v.number),\n",
    "                v.number-1\n",
    "            )-stats.t.sf(\n",
    "                (v.d/v['std']+v['mean']/v['std'])-stats.t.isf(0.05/2, v.number-1)/\n",
    "                np.sqrt(v.number),v.number-1\n",
    "            )\n",
    "        )\n",
    "    data['confidence_level'] = data.T.apply(_calc)\n",
    "    return data"
   ]
  },
  {
   "cell_type": "code",
   "execution_count": 8,
   "metadata": {
    "collapsed": true,
    "deletable": true,
    "editable": true
   },
   "outputs": [],
   "source": [
    "def resolve_accepted_class(data: pd.DataFrame) -> str:\n",
    "    \"\"\"\n",
    "    O12 = MAX(K11:K12)\n",
    "    \n",
    "    =IF(O12<=5;CONCATENATE(\"A(\";TEXT(O12;\"0\");\")\");\\\\\n",
    "      IF(O12<=7;CONCATENATE(\"B+(\";TEXT(O12;\"0\");\")\");\\\\\n",
    "        IF(O12<=10;CONCATENATE(\"B(\";TEXT(O12;\"0\");\")\");\\\\\n",
    "          IF(O12<=15;CONCATENATE(\"C(\";TEXT(O12;\"0\");\")\");\\\\\n",
    "            IF(O12<=20;CONCATENATE(\"D+(\";TEXT(O12;\"0\");\")\");\\\\\n",
    "              IF(O12<=25;CONCATENATE(\"D(\";TEXT(O12;\"0\");\")\");\\\\\n",
    "                CONCATENATE(\"E(\";TEXT(O12;\"0\");\")\")))))))\n",
    "    \"\"\"\n",
    "    v = data['class_value'].max()\n",
    "    c = (\n",
    "        'A' if v<=5 else\n",
    "        'B+' if v<=7 else\n",
    "        'B' if v<=10 else\n",
    "        'C' if v<=15 else\n",
    "        'D+' if v<=20 else\n",
    "        'D' if v<=25 else\n",
    "        'E'\n",
    "    )\n",
    "    return '%s(%s)' % (c, int(v))"
   ]
  },
  {
   "cell_type": "code",
   "execution_count": 9,
   "metadata": {
    "collapsed": false,
    "deletable": true,
    "editable": true
   },
   "outputs": [],
   "source": [
    "def solver_min_tolerance(data: pd.DataFrame) -> pd.DataFrame:\n",
    "    \"\"\"\n",
    "    * Number  (column B) [Input], \n",
    "    * Identified (column C) [Input], \n",
    "    * Mean (column D) [Input], \n",
    "    * Std deviat (column E) [Input], \n",
    "    * p_o (column F), \n",
    "    * Class (column G), \n",
    "    * d (column H), \n",
    "    * d_min (column I) [Input/Minimization Solver Output],\n",
    "    * d_c (column J),\n",
    "    * class (column K), \n",
    "    * p (column L) - related to column I, \n",
    "    * p (column M) -  related to column H, \n",
    "    * Accepted (column O)\n",
    "\n",
    "    =100*(\n",
    "        1-\n",
    "        TDIST((I9/E9-D9/E9)-TINV(0,05;B9-1)/SQRT(B9);B9-1;1)-\n",
    "        TDIST((I9/E9+D9/E9)-TINV(0,05;B9-1)/SQRT(B9);B9-1;1)\n",
    "    )\n",
    "    \"\"\"\n",
    "    \n",
    "    for i in data.index:\n",
    "        s = data.loc[i, :]\n",
    "        _number = s['number']\n",
    "        _mean = s['mean']\n",
    "        _std = s['std']\n",
    "        _min_confidence = s['min_confidence']\n",
    "        _factor = stats.t.isf(0.05/2, _number-1)/np.sqrt(_number)\n",
    "        _dof = _number-1\n",
    "        \n",
    "        func = lambda _min_tolerance: _min_confidence-100*(\n",
    "            1-\n",
    "            stats.t.sf(\n",
    "                (_min_tolerance/_std-_mean/_std)-_factor, _dof)-\n",
    "            stats.t.sf(\n",
    "                (_min_tolerance/_std+_mean/_std)-_factor, _dof)\n",
    "        )\n",
    "        \n",
    "        try:\n",
    "            data.loc[i, 'min_tolerance'] = fsolve(func, [1])[0]\n",
    "        except:\n",
    "            data.loc[i, 'min_tolerance'] = np.nan\n",
    "    \n",
    "    return data"
   ]
  },
  {
   "cell_type": "markdown",
   "metadata": {
    "deletable": true,
    "editable": true
   },
   "source": [
    "### Tolarance classes "
   ]
  },
  {
   "cell_type": "code",
   "execution_count": 10,
   "metadata": {
    "collapsed": false,
    "deletable": true,
    "editable": true
   },
   "outputs": [
    {
     "data": {
      "text/html": [
       "<div>\n",
       "<table border=\"1\" class=\"dataframe\">\n",
       "  <thead>\n",
       "    <tr style=\"text-align: right;\">\n",
       "      <th></th>\n",
       "      <th>A</th>\n",
       "      <th>B+</th>\n",
       "      <th>B</th>\n",
       "      <th>C</th>\n",
       "      <th>D+</th>\n",
       "      <th>D</th>\n",
       "      <th>E</th>\n",
       "    </tr>\n",
       "  </thead>\n",
       "  <tbody>\n",
       "    <tr>\n",
       "      <th>gwv</th>\n",
       "      <td>5</td>\n",
       "      <td>7</td>\n",
       "      <td>10</td>\n",
       "      <td>15</td>\n",
       "      <td>20</td>\n",
       "      <td>25</td>\n",
       "      <td>inf</td>\n",
       "    </tr>\n",
       "    <tr>\n",
       "      <th>load_group_axles</th>\n",
       "      <td>7</td>\n",
       "      <td>10</td>\n",
       "      <td>13</td>\n",
       "      <td>18</td>\n",
       "      <td>23</td>\n",
       "      <td>28</td>\n",
       "      <td>inf</td>\n",
       "    </tr>\n",
       "    <tr>\n",
       "      <th>load_single_axle</th>\n",
       "      <td>8</td>\n",
       "      <td>11</td>\n",
       "      <td>15</td>\n",
       "      <td>20</td>\n",
       "      <td>25</td>\n",
       "      <td>30</td>\n",
       "      <td>inf</td>\n",
       "    </tr>\n",
       "    <tr>\n",
       "      <th>load_axle_group</th>\n",
       "      <td>10</td>\n",
       "      <td>14</td>\n",
       "      <td>20</td>\n",
       "      <td>25</td>\n",
       "      <td>30</td>\n",
       "      <td>35</td>\n",
       "      <td>inf</td>\n",
       "    </tr>\n",
       "  </tbody>\n",
       "</table>\n",
       "</div>"
      ],
      "text/plain": [
       "                   A  B+   B   C  D+   D    E\n",
       "gwv                5   7  10  15  20  25  inf\n",
       "load_group_axles   7  10  13  18  23  28  inf\n",
       "load_single_axle   8  11  15  20  25  30  inf\n",
       "load_axle_group   10  14  20  25  30  35  inf"
      ]
     },
     "execution_count": 10,
     "metadata": {},
     "output_type": "execute_result"
    }
   ],
   "source": [
    "# 'A', 'B+', 'B', 'C', 'D+', 'D', 'E'\n",
    "tolerance_table = pd.DataFrame(\n",
    "    [], columns=('A', 'B+', 'B', 'C', 'D+', 'D', 'E'),\n",
    "    index=(\n",
    "        'gwv', 'load_group_axles', 'load_single_axle', 'load_axle_group'\n",
    "    )\n",
    ")\n",
    "tolerance_table.loc['gwv',:] = [5, 7, 10, 15, 20, 25, np.inf]\n",
    "tolerance_table.loc['load_group_axles',:] = [7, 10, 13, 18, 23, 28, np.inf]\n",
    "tolerance_table.loc['load_single_axle',:] = [8, 11, 15, 20, 25, 30, np.inf]\n",
    "tolerance_table.loc['load_axle_group',:] = [10, 14, 20, 25, 30, 35, np.inf]\n",
    "tolerance_table"
   ]
  },
  {
   "cell_type": "markdown",
   "metadata": {
    "collapsed": true,
    "deletable": true,
    "editable": true
   },
   "source": [
    "## Test"
   ]
  },
  {
   "cell_type": "code",
   "execution_count": 11,
   "metadata": {
    "collapsed": false,
    "deletable": true,
    "editable": true
   },
   "outputs": [
    {
     "data": {
      "text/html": [
       "<div>\n",
       "<table border=\"1\" class=\"dataframe\">\n",
       "  <thead>\n",
       "    <tr style=\"text-align: right;\">\n",
       "      <th></th>\n",
       "      <th>number</th>\n",
       "      <th>valid_measures</th>\n",
       "      <th>mean</th>\n",
       "      <th>std</th>\n",
       "    </tr>\n",
       "  </thead>\n",
       "  <tbody>\n",
       "    <tr>\n",
       "      <th>gwv</th>\n",
       "      <td>86</td>\n",
       "      <td>96.15</td>\n",
       "      <td>-2.27</td>\n",
       "      <td>6.09</td>\n",
       "    </tr>\n",
       "    <tr>\n",
       "      <th>group_axles</th>\n",
       "      <td>66</td>\n",
       "      <td>96.15</td>\n",
       "      <td>1.00</td>\n",
       "      <td>8.44</td>\n",
       "    </tr>\n",
       "    <tr>\n",
       "      <th>single_axle</th>\n",
       "      <td>197</td>\n",
       "      <td>95.50</td>\n",
       "      <td>-3.92</td>\n",
       "      <td>7.66</td>\n",
       "    </tr>\n",
       "    <tr>\n",
       "      <th>axle_group</th>\n",
       "      <td>169</td>\n",
       "      <td>96.00</td>\n",
       "      <td>-0.19</td>\n",
       "      <td>10.07</td>\n",
       "    </tr>\n",
       "  </tbody>\n",
       "</table>\n",
       "</div>"
      ],
      "text/plain": [
       "             number  valid_measures  mean    std\n",
       "gwv              86           96.15 -2.27   6.09\n",
       "group_axles      66           96.15  1.00   8.44\n",
       "single_axle     197           95.50 -3.92   7.66\n",
       "axle_group      169           96.00 -0.19  10.07"
      ]
     },
     "execution_count": 11,
     "metadata": {},
     "output_type": "execute_result"
    }
   ],
   "source": [
    "test_plan = 'RR2'\n",
    "env_condition = 'I'\n",
    "initial_verification = False\n",
    "\n",
    "cols = ['number', 'valid_measures', 'mean', 'std']\n",
    "indx = ['gwv', 'group_axles', 'single_axle', 'axle_group']\n",
    "\n",
    "data = pd.DataFrame(\n",
    "    [[86, 96.15, -2.27, 6.09],\n",
    "     [66, 96.15, 1.00, 8.44],\n",
    "     [197, 95.50, -3.92, 7.66],\n",
    "     [169, 96.00, -0.19, 10.07]],\n",
    "    columns=cols, index=indx\n",
    ")\n",
    "\n",
    "data"
   ]
  },
  {
   "cell_type": "code",
   "execution_count": 12,
   "metadata": {
    "collapsed": false,
    "deletable": true,
    "editable": true
   },
   "outputs": [
    {
     "name": "stdout",
     "output_type": "stream",
     "text": [
      "Minimum confidence calcuation Test ... SUCCESS\n"
     ]
    }
   ],
   "source": [
    "print('Minimum confidence calcuation Test', end=' ... ')\n",
    "\n",
    "calc_min_confidence(\n",
    "    data=data, \n",
    "    test_plan=test_plan, \n",
    "    env_condition=env_condition\n",
    ")\n",
    "\n",
    "np.testing.assert_allclose(\n",
    "    data['min_confidence'].values,\n",
    "    np.array([92.584, 92.060, 93.704, 93.542]),\n",
    "    atol=0.001  # becouse round function\n",
    ")\n",
    "print('SUCCESS')"
   ]
  },
  {
   "cell_type": "code",
   "execution_count": 13,
   "metadata": {
    "collapsed": false,
    "deletable": true,
    "editable": true
   },
   "outputs": [
    {
     "name": "stdout",
     "output_type": "stream",
     "text": [
      "Best acceptable class Test ... SUCCESS\n"
     ]
    }
   ],
   "source": [
    "print('Best acceptable class Test', end=' ... ')\n",
    "data['min_tolerance'] = [\n",
    "    13.0293783341772,\n",
    "    17.2176428723888,\n",
    "    17.0913086307026,\n",
    "    20.2663837816549,\n",
    "]\n",
    "\n",
    "calc_best_acceptable_class(\n",
    "    data=data, initial_verification=initial_verification\n",
    ")\n",
    "\n",
    "np.testing.assert_allclose(\n",
    "    data['best_acceptable_class'].values,\n",
    "    np.array([13.029, 14.218, 12.091, 10.266]),\n",
    "    atol=0.001  # because round function\n",
    ")\n",
    "print('SUCCESS')"
   ]
  },
  {
   "cell_type": "code",
   "execution_count": 14,
   "metadata": {
    "collapsed": false,
    "deletable": true,
    "editable": true
   },
   "outputs": [
    {
     "name": "stdout",
     "output_type": "stream",
     "text": [
      "Class Value Test ... SUCCESS\n"
     ]
    }
   ],
   "source": [
    "print('Class Value Test', end=' ... ')\n",
    "\n",
    "calc_classification(data=data)\n",
    "\n",
    "np.testing.assert_allclose(\n",
    "    data['class_value'].values,\n",
    "    np.array([15, 15, 15, 15])\n",
    ")\n",
    "print('SUCCESS')"
   ]
  },
  {
   "cell_type": "code",
   "execution_count": 15,
   "metadata": {
    "collapsed": false,
    "deletable": true,
    "editable": true
   },
   "outputs": [
    {
     "name": "stdout",
     "output_type": "stream",
     "text": [
      "Class Name Test ... SUCCESS\n"
     ]
    }
   ],
   "source": [
    "print('Class Name Test', end=' ... ')\n",
    "\n",
    "resolve_class_name(data=data)\n",
    "\n",
    "np.testing.assert_array_equal(\n",
    "    data['class_name'].values,\n",
    "    np.array(['C(15)', 'C(15)', 'C(15)', 'C(15)'])\n",
    ")\n",
    "print('SUCCESS')"
   ]
  },
  {
   "cell_type": "code",
   "execution_count": 16,
   "metadata": {
    "collapsed": false,
    "deletable": true,
    "editable": true
   },
   "outputs": [
    {
     "name": "stdout",
     "output_type": "stream",
     "text": [
      "delta Test ... SUCCESS\n"
     ]
    }
   ],
   "source": [
    "print('delta Test', end=' ... ')\n",
    "\n",
    "calc_delta(data=data, initial_verification=initial_verification)\n",
    "\n",
    "np.testing.assert_allclose(\n",
    "    data['d'].values,\n",
    "    np.array([15, 18, 20, 25])\n",
    ")\n",
    "print('SUCCESS')"
   ]
  },
  {
   "cell_type": "code",
   "execution_count": 17,
   "metadata": {
    "collapsed": false,
    "deletable": true,
    "editable": true
   },
   "outputs": [
    {
     "data": {
      "text/html": [
       "<div>\n",
       "<table border=\"1\" class=\"dataframe\">\n",
       "  <thead>\n",
       "    <tr style=\"text-align: right;\">\n",
       "      <th></th>\n",
       "      <th>number</th>\n",
       "      <th>valid_measures</th>\n",
       "      <th>mean</th>\n",
       "      <th>std</th>\n",
       "      <th>min_confidence</th>\n",
       "      <th>min_tolerance</th>\n",
       "      <th>best_acceptable_class</th>\n",
       "      <th>class_value</th>\n",
       "      <th>class_name</th>\n",
       "      <th>d</th>\n",
       "    </tr>\n",
       "  </thead>\n",
       "  <tbody>\n",
       "    <tr>\n",
       "      <th>gwv</th>\n",
       "      <td>86</td>\n",
       "      <td>96.15</td>\n",
       "      <td>-2.27</td>\n",
       "      <td>6.09</td>\n",
       "      <td>92.583588</td>\n",
       "      <td>13.029378</td>\n",
       "      <td>13.029378</td>\n",
       "      <td>15.0</td>\n",
       "      <td>C(15)</td>\n",
       "      <td>15.0</td>\n",
       "    </tr>\n",
       "    <tr>\n",
       "      <th>group_axles</th>\n",
       "      <td>66</td>\n",
       "      <td>96.15</td>\n",
       "      <td>1.00</td>\n",
       "      <td>8.44</td>\n",
       "      <td>92.059850</td>\n",
       "      <td>17.217643</td>\n",
       "      <td>14.217643</td>\n",
       "      <td>15.0</td>\n",
       "      <td>C(15)</td>\n",
       "      <td>18.0</td>\n",
       "    </tr>\n",
       "    <tr>\n",
       "      <th>single_axle</th>\n",
       "      <td>197</td>\n",
       "      <td>95.50</td>\n",
       "      <td>-3.92</td>\n",
       "      <td>7.66</td>\n",
       "      <td>93.704239</td>\n",
       "      <td>17.091309</td>\n",
       "      <td>12.091309</td>\n",
       "      <td>15.0</td>\n",
       "      <td>C(15)</td>\n",
       "      <td>20.0</td>\n",
       "    </tr>\n",
       "    <tr>\n",
       "      <th>axle_group</th>\n",
       "      <td>169</td>\n",
       "      <td>96.00</td>\n",
       "      <td>-0.19</td>\n",
       "      <td>10.07</td>\n",
       "      <td>93.541785</td>\n",
       "      <td>20.266384</td>\n",
       "      <td>10.266384</td>\n",
       "      <td>15.0</td>\n",
       "      <td>C(15)</td>\n",
       "      <td>25.0</td>\n",
       "    </tr>\n",
       "  </tbody>\n",
       "</table>\n",
       "</div>"
      ],
      "text/plain": [
       "             number  valid_measures  mean    std  min_confidence  \\\n",
       "gwv              86           96.15 -2.27   6.09       92.583588   \n",
       "group_axles      66           96.15  1.00   8.44       92.059850   \n",
       "single_axle     197           95.50 -3.92   7.66       93.704239   \n",
       "axle_group      169           96.00 -0.19  10.07       93.541785   \n",
       "\n",
       "             min_tolerance  best_acceptable_class  class_value class_name  \\\n",
       "gwv              13.029378              13.029378         15.0      C(15)   \n",
       "group_axles      17.217643              14.217643         15.0      C(15)   \n",
       "single_axle      17.091309              12.091309         15.0      C(15)   \n",
       "axle_group       20.266384              10.266384         15.0      C(15)   \n",
       "\n",
       "                d  \n",
       "gwv          15.0  \n",
       "group_axles  18.0  \n",
       "single_axle  20.0  \n",
       "axle_group   25.0  "
      ]
     },
     "execution_count": 17,
     "metadata": {},
     "output_type": "execute_result"
    }
   ],
   "source": [
    "data"
   ]
  },
  {
   "cell_type": "code",
   "execution_count": 18,
   "metadata": {
    "collapsed": false,
    "deletable": true,
    "editable": true
   },
   "outputs": [
    {
     "name": "stdout",
     "output_type": "stream",
     "text": [
      "Confidence Test ... SUCCESS\n"
     ]
    }
   ],
   "source": [
    "print('Confidence Test', end=' ... ')\n",
    "calc_confidence_level(data=data)\n",
    "\n",
    "np.testing.assert_allclose(\n",
    "    data['confidence_level'].values,\n",
    "    np.array([96.276, 93.461, 97.260, 97.902]),\n",
    "    atol=0.001\n",
    ")\n",
    "print('SUCCESS')"
   ]
  },
  {
   "cell_type": "code",
   "execution_count": 19,
   "metadata": {
    "collapsed": false,
    "deletable": true,
    "editable": true
   },
   "outputs": [
    {
     "name": "stdout",
     "output_type": "stream",
     "text": [
      "Accepted Class Test ... SUCCESS\n"
     ]
    }
   ],
   "source": [
    "print('Accepted Class Test', end=' ... ')\n",
    "\n",
    "np.testing.assert_equal(\n",
    "    resolve_accepted_class(data=data), \n",
    "    'C(15)'\n",
    ")\n",
    "print('SUCCESS')"
   ]
  },
  {
   "cell_type": "code",
   "execution_count": 20,
   "metadata": {
    "collapsed": false,
    "deletable": true,
    "editable": true,
    "scrolled": false
   },
   "outputs": [
    {
     "name": "stdout",
     "output_type": "stream",
     "text": [
      "Minimum Tolerance Solver Test ... CPU times: user 36.7 ms, sys: 3.33 ms, total: 40 ms\n",
      "Wall time: 54.3 ms\n",
      "SUCCESS\n"
     ]
    }
   ],
   "source": [
    "print('Minimum Tolerance Solver Test', end=' ... ')\n",
    "\n",
    "data.min_tolerance = 0\n",
    "\n",
    "%time solver_min_tolerance(data=data)\n",
    "\n",
    "np.testing.assert_allclose(\n",
    "    data.min_tolerance.values, \n",
    "    np.array([\n",
    "        13.0293783341772,\n",
    "        17.2176428723888,\n",
    "        17.0913086307026,\n",
    "        20.2663837816549\n",
    "    ]), atol=1e-5\n",
    ")\n",
    "print('SUCCESS')"
   ]
  },
  {
   "cell_type": "code",
   "execution_count": 21,
   "metadata": {
    "collapsed": false,
    "deletable": true,
    "editable": true,
    "scrolled": false
   },
   "outputs": [
    {
     "data": {
      "image/png": "[encoded data removed]",
      "text/plain": [
       "<matplotlib.figure.Figure at 0x7f81ecfea7f0>"
      ]
     },
     "metadata": {},
     "output_type": "display_data"
    },
    {
     "data": {
      "image/png": "[encoded data removed]",
      "text/plain": [
       "<matplotlib.figure.Figure at 0x7f81ecf72908>"
      ]
     },
     "metadata": {},
     "output_type": "display_data"
    },
    {
     "data": {
      "image/png": "[encoded data removed]",
      "text/plain": [
       "<matplotlib.figure.Figure at 0x7f81eae68d68>"
      ]
     },
     "metadata": {},
     "output_type": "display_data"
    },
    {
     "data": {
      "image/png": "[encoded data removed]",
      "text/plain": [
       "<matplotlib.figure.Figure at 0x7f81ead41358>"
      ]
     },
     "metadata": {},
     "output_type": "display_data"
    }
   ],
   "source": [
    "# show graphical visualization about the solver function to achieve the \n",
    "# mininum tolerance\n",
    "\n",
    "# data sheet value\n",
    "data_y = [\n",
    "    13.0293783341772,\n",
    "    17.2176428723888,\n",
    "    17.0913086307026,\n",
    "    20.2663837816549\n",
    "]\n",
    "\n",
    "_delta = 1e-5\n",
    "\n",
    "lims = [\n",
    "    (data_y[0]-_delta, data_y[0]+_delta),\n",
    "    (data_y[1]-_delta, data_y[1]+_delta),\n",
    "    (data_y[2]-_delta, data_y[2]+_delta),\n",
    "    (data_y[3]-_delta, data_y[3]+_delta),\n",
    "]\n",
    "\n",
    "for k, s in data.T.items():\n",
    "    _number = s['number']\n",
    "    _mean = s['mean']\n",
    "    _std = s['std']\n",
    "    _min_confidence = s['min_confidence']\n",
    "    \n",
    "    _factor = stats.t.isf(0.05/2, _number-1)/np.sqrt(_number)\n",
    "    _dof = _number-1\n",
    "\n",
    "    func = lambda _min_tolerance: _min_confidence-100*(\n",
    "        1-\n",
    "        stats.t.sf(\n",
    "            (_min_tolerance/_std-_mean/_std)-_factor, _dof)-\n",
    "        stats.t.sf(\n",
    "            (_min_tolerance/_std+_mean/_std)-_factor, _dof)\n",
    "    )\n",
    "    \n",
    "    xlim = lims.pop(0)\n",
    "    x = np.linspace(xlim[0], xlim[1], 1000)\n",
    "    \n",
    "    ax = plt.figure().gca()   \n",
    "    \n",
    "    data_func = pd.DataFrame({k: [func(xi) for xi in x]}, index=x)\n",
    "    data_func.plot(ax=ax)\n",
    "    \n",
    "    ax.plot(data_y.pop(0), 0, 'o', label='excel', color='black')\n",
    "    ax.plot(fsolve(func, [1]), 0, 'o', label='fsolve', color='green')\n",
    "    \n",
    "    ax.legend()\n",
    "    \n",
    "    locs, labels = plt.xticks()\n",
    "    plt.setp(labels, rotation=45)\n",
    "    \n",
    "    plt.grid(True)\n",
    "    plt.show()"
   ]
  },
  {
   "cell_type": "markdown",
   "metadata": {
    "deletable": true,
    "editable": true
   },
   "source": [
    "# References\n",
    "\n",
    "(<a id=\"cit-jacob1998european\" href=\"#call-jacob1998european\">JACOB and O'Brien, 1998</a>) B. JACOB and E.J. O'Brien, ``_European Specification on Weigh-In-Motion of Road Vehicles (COST323)_'', SECOND EUROPEAN CONFERENCE ON WEIGH-IN-MOTION OF ROAD VEHICLES, HELD LISBON, PORTUGAL 14-16 SEPTEMBER 1998,  1998.\n",
    "\n"
   ]
  }
 ],
 "metadata": {
  "kernelspec": {
   "display_name": "Python 3",
   "language": "python",
   "name": "python3"
  },
  "language_info": {
   "codemirror_mode": {
    "name": "ipython",
    "version": 3
   },
   "file_extension": ".py",
   "mimetype": "text/x-python",
   "name": "python",
   "nbconvert_exporter": "python",
   "pygments_lexer": "ipython3",
   "version": "3.5.3"
  },
  "latex_envs": {
   "LaTeX_envs_menu_present": true,
   "bibliofile": "biblio.bib",
   "cite_by": "apalike",
   "current_citInitial": 1,
   "eqLabelWithNumbers": true,
   "eqNumInitial": 0,
   "labels_anchors": false,
   "latex_user_defs": false,
   "report_style_numbering": false,
   "user_envs_cfg": false
  },
  "nav_menu": {},
  "toc": {
   "colors": {
    "hover_highlight": "#DAA520",
    "running_highlight": "#FF0000",
    "selected_highlight": "#FFD700"
   },
   "moveMenuLeft": true,
   "nav_menu": {
    "height": "135px",
    "width": "252px"
   },
   "navigate_menu": true,
   "number_sections": true,
   "sideBar": true,
   "threshold": 6,
   "toc_cell": true,
   "toc_section_display": "block",
   "toc_window_display": true
  }
 },
 "nbformat": 4,
 "nbformat_minor": 0
}
